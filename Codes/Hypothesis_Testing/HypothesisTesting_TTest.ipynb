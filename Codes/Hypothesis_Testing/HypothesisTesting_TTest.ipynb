{
 "cells": [
  {
   "cell_type": "markdown",
   "metadata": {},
   "source": [
    "# What is t-test? <br/>\n",
    "The t test (also called Student’s T Test) compares two averages (means) and tells you if they are different from each other. The t test also tells you how significant the differences are; In other words it lets you know if those differences could have happened by chance."
   ]
  },
  {
   "cell_type": "markdown",
   "metadata": {},
   "source": [
    "<img src=\"https://miro.medium.com/max/878/0*KCxLdtr1n035AJKX.png\" >"
   ]
  },
  {
   "cell_type": "markdown",
   "metadata": {},
   "source": [
    "Student’s T-tests can be used in real life to compare means. For example, a drug company may want to test a new cancer drug to find out if it improves life expectancy. In an experiment, there’s always a control group (a group who are given a placebo, or “sugar pill”). The control group may show an average life expectancy of +5 years, while the group taking the new drug might have a life expectancy of +6 years. It would seem that the drug might work. But it could be due to a fluke. To test this, researchers would use a Student’s t-test to find out if the results are repeatable for an entire population."
   ]
  },
  {
   "cell_type": "markdown",
   "metadata": {},
   "source": [
    "<img src=\"https://s3-ap-south-1.amazonaws.com/av-blog-media/wp-content/uploads/2017/12/image046.png\" , height=500, width=500>\n",
    "<img src=\"https://i.pinimg.com/originals/3c/6c/77/3c6c773e32944faa40f373f7abcff365.png\", height=300, width=300 >"
   ]
  },
  {
   "cell_type": "markdown",
   "metadata": {},
   "source": [
    "**What is t-score**? <br/><br/>\n",
    "The t score is a ratio between the difference between two groups and the difference within the groups. The larger the t score, the more difference there is between groups. The smaller the t score, the more similarity there is between groups. A t score of 3 means that the groups are three times as different from each other as they are within each other. When you run a t test, the bigger the t-value, the more likely it is that the results are repeatable. <br/><br/>\n",
    "A large t-score tells you that the groups are different.<br/>\n",
    "A small t-score tells you that the groups are similar."
   ]
  },
  {
   "cell_type": "markdown",
   "metadata": {},
   "source": [
    "**What are T-Values and P-values?** <br/><br/>\n",
    "How big is “big enough”? Every t-value has a p-value to go with it. A p-value is the probability that the results from your sample data occurred by chance. P-values are from 0% to 100%. They are usually written as a decimal. For example, a p value of 5% is 0.05. Low p-values are good; They indicate your data did not occur by chance. For example, a p-value of .01 means there is only a 1% probability that the results from an experiment happened by chance. In most cases, a p-value of 0.05 (5%) is accepted to mean the data is valid."
   ]
  },
  {
   "cell_type": "markdown",
   "metadata": {},
   "source": [
    "**Types of t-tests?** <br/><br/>\n",
    "There are three main types of t-test:<br/>\n",
    "1. An **Independent Samples t-test** compares the means for two groups.<br/>\n",
    "2. A **Paired sample t-test** compares means from the same group at different times (say, one year apart).<br/>\n",
    "3. A **One sample t-test** tests the mean of a single group against a known mean."
   ]
  },
  {
   "cell_type": "markdown",
   "metadata": {},
   "source": [
    "## How to perform a 2 sample t-test?"
   ]
  },
  {
   "cell_type": "markdown",
   "metadata": {},
   "source": [
    "**Determine a null and alternate hypothesis.** <br/>\n",
    "In general, the null hypothesis will state that the two populations being tested have no statistically significant difference. The alternate hypothesis will state that there is one present."
   ]
  },
  {
   "cell_type": "markdown",
   "metadata": {},
   "source": [
    "**Collect sample data** <br/>\n",
    "Next step is to collect data for each population group. The sample size should ideally be the same but it can be different. Lets say that the sample sizes are nx and ny."
   ]
  },
  {
   "cell_type": "markdown",
   "metadata": {},
   "source": [
    "**Determine a confidence interval and degrees of freedom** <br/>\n",
    "This is what we call alpha (α). The typical value of α is 0.05. This means that there is 95% confidence that the conclusion of this test will be valid. The degree of freedom can be calculated by the the following formula:<br/>\n",
    "<img src=\"https://miro.medium.com/max/396/1*qRJLlOvVG_56qsDqrdLkyQ.png\" >"
   ]
  },
  {
   "cell_type": "markdown",
   "metadata": {},
   "source": [
    "**Calculate the t-statistic** <br/>\n",
    "t-statistic can be calculated using the below formula: <br/>\n",
    "<img src=\"https://miro.medium.com/max/932/1*1ZUnA4eR5J2WEGhDVPDkEw.png\" >"
   ]
  },
  {
   "cell_type": "markdown",
   "metadata": {},
   "source": [
    "where, Mx and My are the mean values of the two samples.<br/>\n",
    "nx and ny are the sample space of the two samples <br/>\n",
    "S is the standard deviation"
   ]
  },
  {
   "cell_type": "markdown",
   "metadata": {},
   "source": [
    "**Calculate the critical t-value from the t distribution**. <br/>\n",
    "To calculate the critical t-value, we need 2 things, the chosen value of alpha and the degrees of freedom. The formula of critical t-value is complex but it is fixed for a fixed pair of degree of freedom and value of alpha. We therefore use a table to calculate the critical t-value: <br/>\n",
    "<img src=\"https://miro.medium.com/max/1646/1*0_EW4xt4le_SIrmO7z9FPA.png\", height=500, width=500 >"
   ]
  },
  {
   "cell_type": "markdown",
   "metadata": {},
   "source": [
    "In python, rather than looking up in the table we will use a function from the sciPy package."
   ]
  },
  {
   "cell_type": "markdown",
   "metadata": {},
   "source": [
    "**Compare the critical t-values with the calculated t statistic**<br/>\n",
    "If the calculated t-statistic is greater than the critical t-value, the test concludes that there is a statistically significant difference between the two populations. Therefore, you reject the null hypothesis that there is no statistically significant difference between the two populations."
   ]
  },
  {
   "cell_type": "code",
   "execution_count": 1,
   "metadata": {},
   "outputs": [],
   "source": [
    "## Import the packages\n",
    "import numpy as np\n",
    "from scipy import stats"
   ]
  },
  {
   "cell_type": "markdown",
   "metadata": {},
   "source": [
    "https://docs.scipy.org/doc/numpy-1.15.1/reference/generated/numpy.random.randn.html"
   ]
  },
  {
   "cell_type": "code",
   "execution_count": 2,
   "metadata": {},
   "outputs": [],
   "source": [
    "## Define 2 random distributions\n",
    "#Sample Size\n",
    "N = 10\n",
    "#Gaussian distributed data with mean = 2 and var = 1\n",
    "a = np.random.randn(N) + 2\n",
    "#Gaussian distributed data with with mean = 0 and var = 1\n",
    "b = np.random.randn(N)"
   ]
  },
  {
   "cell_type": "markdown",
   "metadata": {},
   "source": [
    "https://docs.scipy.org/doc/numpy/reference/generated/numpy.var.html"
   ]
  },
  {
   "cell_type": "code",
   "execution_count": 13,
   "metadata": {},
   "outputs": [],
   "source": [
    "# Calculate the Standard Deviation\n",
    "#Calculate the variance to get the standard deviation\n",
    "\n",
    "#For unbiased max likelihood estimate we have to divide the var by N-1, and therefore the parameter ddof = 1\n",
    "var_a = a.var(ddof=1)\n",
    "var_b = b.var(ddof=1)\n"
   ]
  },
  {
   "cell_type": "code",
   "execution_count": 14,
   "metadata": {},
   "outputs": [
    {
     "name": "stdout",
     "output_type": "stream",
     "text": [
      "3.8413354565813096\n"
     ]
    }
   ],
   "source": [
    "## Calculate the t-statistics\n",
    "t = (a.mean() - b.mean())/(np.sqrt(var_a/N + var_b/N))\n",
    "print(t)"
   ]
  },
  {
   "cell_type": "markdown",
   "metadata": {},
   "source": [
    "<img src=\"https://miro.medium.com/max/932/1*1ZUnA4eR5J2WEGhDVPDkEw.png\", height=300, width=300 >"
   ]
  },
  {
   "cell_type": "code",
   "execution_count": 30,
   "metadata": {},
   "outputs": [],
   "source": [
    "## Compare with the critical t-value\n",
    "#Degrees of freedom\n",
    "df = 2*N - 2"
   ]
  },
  {
   "cell_type": "markdown",
   "metadata": {},
   "source": [
    "https://docs.scipy.org/doc/scipy-0.14.0/reference/generated/scipy.stats.t.html"
   ]
  },
  {
   "cell_type": "code",
   "execution_count": 35,
   "metadata": {},
   "outputs": [],
   "source": [
    "#p-value after comparison with the t \n",
    "p = 1 - stats.t.cdf(t,df=df)"
   ]
  },
  {
   "cell_type": "code",
   "execution_count": 36,
   "metadata": {},
   "outputs": [
    {
     "name": "stdout",
     "output_type": "stream",
     "text": [
      "t = 3.8413354565813096\n",
      "p = 0.0011959855990781865\n"
     ]
    }
   ],
   "source": [
    "print(\"t = \" + str(t))\n",
    "print(\"p = \" + str(2*p))\n",
    "### You can see that after comparing the t statistic with the critical t value (computed internally) \n",
    "# a p-value of .001 means there is only a 0.1% probability that the results from an experiment happened by chance\n",
    "# and thus we reject the null hypothesis and \n",
    "# thus it proves that the mean of the two distributions are different and statistically significant.\n"
   ]
  },
  {
   "cell_type": "markdown",
   "metadata": {},
   "source": [
    "https://docs.scipy.org/doc/scipy/reference/generated/scipy.stats.ttest_ind.html"
   ]
  },
  {
   "cell_type": "code",
   "execution_count": 19,
   "metadata": {},
   "outputs": [
    {
     "name": "stdout",
     "output_type": "stream",
     "text": [
      "t = 3.8413354565813096\n",
      "p = 0.001195985599078187\n"
     ]
    }
   ],
   "source": [
    "## Cross Checking with the internal scipy function\n",
    "t2, p2 = stats.ttest_ind(a,b)\n",
    "print(\"t = \" + str(t2))\n",
    "print(\"p = \" + str(p2))"
   ]
  },
  {
   "cell_type": "code",
   "execution_count": 68,
   "metadata": {},
   "outputs": [
    {
     "data": {
      "text/plain": [
       "<matplotlib.legend.Legend at 0x1268b24e0>"
      ]
     },
     "execution_count": 68,
     "metadata": {},
     "output_type": "execute_result"
    },
    {
     "data": {
      "image/png": "[encoded data removed]",
      "text/plain": [
       "<Figure size 432x288 with 1 Axes>"
      ]
     },
     "metadata": {},
     "output_type": "display_data"
    }
   ],
   "source": [
    "import matplotlib.pyplot as plt\n",
    "fig, ax = plt.subplots(1, 1)\n",
    "df = 9\n",
    "x = np.linspace(stats.t.ppf(0.01,df= df),stats.t.ppf(0.99, df=df), 100)\n",
    "ax.plot(x, stats.t.pdf(x, df= df),'r-', lw=5, alpha=0.6, label='t pdf')\n",
    "plt.axvline(x=stats.t.ppf(0.95,df=df), label='Critical value for alpha=0.05,0.95', color='g')\n",
    "plt.axvline(x=stats.t.ppf(0.05,df=df), color='g')\n",
    "plt.axvline(x=t2, label='T-score')\n",
    "plt.legend()"
   ]
  },
  {
   "cell_type": "code",
   "execution_count": 72,
   "metadata": {},
   "outputs": [
    {
     "data": {
      "text/plain": [
       "2.2621571627409915"
      ]
     },
     "execution_count": 72,
     "metadata": {},
     "output_type": "execute_result"
    }
   ],
   "source": [
    "stats.t.ppf(0.975, df=9,loc=0,scale=1)"
   ]
  },
  {
   "cell_type": "code",
   "execution_count": 74,
   "metadata": {},
   "outputs": [
    {
     "data": {
      "text/plain": [
       "1.959963984540054"
      ]
     },
     "execution_count": 74,
     "metadata": {},
     "output_type": "execute_result"
    }
   ],
   "source": [
    "stats.norm.ppf(0.975,loc=0,scale=1)"
   ]
  },
  {
   "cell_type": "code",
   "execution_count": 76,
   "metadata": {},
   "outputs": [
    {
     "data": {
      "text/plain": [
       "300"
      ]
     },
     "execution_count": 76,
     "metadata": {},
     "output_type": "execute_result"
    }
   ],
   "source": [
    "n = 10\n",
    "n_mean = 30\n",
    "sum_n = n * n_mean\n",
    "sum_n"
   ]
  },
  {
   "cell_type": "code",
   "execution_count": 78,
   "metadata": {},
   "outputs": [
    {
     "data": {
      "text/plain": [
       "8"
      ]
     },
     "execution_count": 78,
     "metadata": {},
     "output_type": "execute_result"
    }
   ],
   "source": [
    " 300 - np.array([2,-43,34,56,23,55,77,33,55]).sum()"
   ]
  },
  {
   "cell_type": "markdown",
   "metadata": {},
   "source": [
    "# Example"
   ]
  },
  {
   "cell_type": "markdown",
   "metadata": {},
   "source": [
    "A study was done to see the effect of presence of dogs as pets on kids (ages 10 to 18). Two groups of teenagers, one group with teenagers who owned a dog for minimum 5 years and another group of kids who never owned a dog, were presented a questionnaire and scores were computed. High score corresponds to higher cheerfulness and low score corresponds to lower cheerfulness. <br/>\n",
    "Do dogs have a significant effect (either positive or negative) on the cheerfulness of kids? <br/><br/>\n",
    "\n",
    "Dog: 6.6, 7.8, 4.6, 7.8, 7, 8, 9, 9, 8.8, 9.9, 8.5, 7.7, 8.6, 8, 7, 5.8, 7.4 <br/>\n",
    "No_dog: 9.8, 8.3, 7.1, 7.2, 8.1, 8.9, 6, 7, 7.5, 7.8, 7.6, 7.3, 6.4, 6.8, 7, 6.4, 7.9 <br/><br/><br/>\n",
    "\n",
    "\n",
    "What are the null and alternative hypothesis?<br/>\n",
    "Is it a right tailed or a left tailed test?<br/>\n",
    "Is it a one sample or a two sample test?<br/>\n",
    "Is it a test of mean, proportion or variance?<br/>\n",
    "Which statistical test do you think is appropriate?"
   ]
  },
  {
   "cell_type": "markdown",
   "metadata": {},
   "source": [
    "\n",
    "Let's perform a two sample t-test to check if there is a significant difference in means of the two samples\n"
   ]
  },
  {
   "cell_type": "code",
   "execution_count": 42,
   "metadata": {},
   "outputs": [],
   "source": [
    "dog = np.array([6.6, 7.8, 4.6, 7.8, 7, 8, 9, 9, 8.8, 9.9, 8.5, 7.7, 8.6, 8, 7, 5.8, 7.4])\n",
    "no_dog = np.array([9.8, 8.3, 7.1, 7.2, 8.1, 8.9, 6, 7, 7.5, 7.8, 7.6, 7.3, 6.4, 6.8, 7, 6.4, 7.9])"
   ]
  },
  {
   "cell_type": "code",
   "execution_count": 46,
   "metadata": {},
   "outputs": [
    {
     "name": "stdout",
     "output_type": "stream",
     "text": [
      "Dog mean : 7.735294117647059 , No Dog mean : 7.476470588235294\n",
      "Dog var : 1.6599264705882357 , No Dog var : 0.9031617647058826\n",
      "Dog std : 1.28838133741072 , No Dog std : 0.9503482333891523\n"
     ]
    }
   ],
   "source": [
    "dog_mean = dog.mean()\n",
    "no_dog_mean = no_dog.mean()\n",
    "print('Dog mean : {} , No Dog mean : {}'.format(dog_mean,no_dog_mean))\n",
    "dog_var = dog.var(ddof=1)\n",
    "no_dog_var = no_dog.var(ddof=1)\n",
    "print('Dog var : {} , No Dog var : {}'.format(dog_var,no_dog_var))\n",
    "dog_std = dog.std(ddof=1)\n",
    "no_dog_std = no_dog.std(ddof=1)\n",
    "print('Dog std : {} , No Dog std : {}'.format(dog_std,no_dog_std))"
   ]
  },
  {
   "cell_type": "code",
   "execution_count": 40,
   "metadata": {},
   "outputs": [
    {
     "name": "stdout",
     "output_type": "stream",
     "text": [
      "t = 0.6665710337435845\n",
      "p = 0.5098239300755949\n"
     ]
    }
   ],
   "source": [
    "t3, p3 = stats.ttest_ind(dog,no_dog)\n",
    "print(\"t = \" + str(t3))\n",
    "print(\"p = \" + str(p3))"
   ]
  },
  {
   "cell_type": "code",
   "execution_count": 63,
   "metadata": {},
   "outputs": [
    {
     "data": {
      "text/plain": [
       "1.959963984540054"
      ]
     },
     "execution_count": 63,
     "metadata": {},
     "output_type": "execute_result"
    }
   ],
   "source": [
    "stats.norm.ppf(0.975, loc=0, scale=1)"
   ]
  },
  {
   "cell_type": "code",
   "execution_count": 60,
   "metadata": {},
   "outputs": [
    {
     "data": {
      "text/plain": [
       "array([-2.55237963, -2.50081641, -2.44925318, -2.39768996, -2.34612673,\n",
       "       -2.29456351, -2.24300028, -2.19143706, -2.13987383, -2.08831061,\n",
       "       -2.03674738, -1.98518416, -1.93362093, -1.88205771, -1.83049448,\n",
       "       -1.77893126, -1.72736803, -1.67580481, -1.62424158, -1.57267836,\n",
       "       -1.52111513, -1.46955191, -1.41798868, -1.36642546, -1.31486223,\n",
       "       -1.26329901, -1.21173578, -1.16017256, -1.10860933, -1.05704611,\n",
       "       -1.00548288, -0.95391966, -0.90235643, -0.85079321, -0.79922999,\n",
       "       -0.74766676, -0.69610354, -0.64454031, -0.59297709, -0.54141386,\n",
       "       -0.48985064, -0.43828741, -0.38672419, -0.33516096, -0.28359774,\n",
       "       -0.23203451, -0.18047129, -0.12890806, -0.07734484, -0.02578161,\n",
       "        0.02578161,  0.07734484,  0.12890806,  0.18047129,  0.23203451,\n",
       "        0.28359774,  0.33516096,  0.38672419,  0.43828741,  0.48985064,\n",
       "        0.54141386,  0.59297709,  0.64454031,  0.69610354,  0.74766676,\n",
       "        0.79922999,  0.85079321,  0.90235643,  0.95391966,  1.00548288,\n",
       "        1.05704611,  1.10860933,  1.16017256,  1.21173578,  1.26329901,\n",
       "        1.31486223,  1.36642546,  1.41798868,  1.46955191,  1.52111513,\n",
       "        1.57267836,  1.62424158,  1.67580481,  1.72736803,  1.77893126,\n",
       "        1.83049448,  1.88205771,  1.93362093,  1.98518416,  2.03674738,\n",
       "        2.08831061,  2.13987383,  2.19143706,  2.24300028,  2.29456351,\n",
       "        2.34612673,  2.39768996,  2.44925318,  2.50081641,  2.55237963])"
      ]
     },
     "execution_count": 60,
     "metadata": {},
     "output_type": "execute_result"
    }
   ],
   "source": [
    "np.linspace(stats.t.ppf(0.01,df= df),stats.t.ppf(0.99, df=df), 100)"
   ]
  },
  {
   "cell_type": "code",
   "execution_count": 59,
   "metadata": {},
   "outputs": [
    {
     "data": {
      "text/plain": [
       "<matplotlib.legend.Legend at 0x1267a0c88>"
      ]
     },
     "execution_count": 59,
     "metadata": {},
     "output_type": "execute_result"
    },
    {
     "data": {
      "image/png": "[encoded data removed]",
      "text/plain": [
       "<Figure size 432x288 with 1 Axes>"
      ]
     },
     "metadata": {},
     "output_type": "display_data"
    }
   ],
   "source": [
    "import matplotlib.pyplot as plt\n",
    "fig, ax = plt.subplots(1, 1)\n",
    "x = np.linspace(stats.t.ppf(0.01,df= df),stats.t.ppf(0.99, df=df), 100)\n",
    "ax.plot(x, stats.t.pdf(x, df= df),'r-', lw=5, alpha=0.6, label='t pdf')\n",
    "plt.axvline(x=stats.t.ppf(0.95,df=df), label='Critical value for alpha=0.05,0.95', color='g')\n",
    "plt.axvline(x=stats.t.ppf(0.05,df=df), color='g')\n",
    "plt.axvline(x=t3, label='T-score')\n",
    "plt.legend()"
   ]
  },
  {
   "cell_type": "code",
   "execution_count": 64,
   "metadata": {},
   "outputs": [
    {
     "data": {
      "text/plain": [
       "1.0"
      ]
     },
     "execution_count": 64,
     "metadata": {},
     "output_type": "execute_result"
    }
   ],
   "source": [
    "0.025 + 0.95 + 0.025"
   ]
  },
  {
   "cell_type": "code",
   "execution_count": 65,
   "metadata": {},
   "outputs": [
    {
     "data": {
      "text/plain": [
       "0.975"
      ]
     },
     "execution_count": 65,
     "metadata": {},
     "output_type": "execute_result"
    }
   ],
   "source": [
    "0.025 + 0.95"
   ]
  },
  {
   "cell_type": "code",
   "execution_count": 66,
   "metadata": {},
   "outputs": [
    {
     "data": {
      "text/plain": [
       "-1.9599639845400545"
      ]
     },
     "execution_count": 66,
     "metadata": {},
     "output_type": "execute_result"
    }
   ],
   "source": [
    "stats.norm.ppf(0.025, loc=0, scale=1)"
   ]
  },
  {
   "cell_type": "code",
   "execution_count": 67,
   "metadata": {},
   "outputs": [
    {
     "data": {
      "text/plain": [
       "1.959963984540054"
      ]
     },
     "execution_count": 67,
     "metadata": {},
     "output_type": "execute_result"
    }
   ],
   "source": [
    "stats.norm.ppf(0.975, loc=0, scale=1)"
   ]
  },
  {
   "cell_type": "markdown",
   "metadata": {},
   "source": [
    "\n",
    "It is well inside the critical level. We could not prove that pets either increase or decrease the cheerfulness of kids.We fail to reject the null hypothesis\n",
    "\n"
   ]
  },
  {
   "cell_type": "code",
   "execution_count": 51,
   "metadata": {},
   "outputs": [
    {
     "data": {
      "text/plain": [
       "(0.6665710337435845, 0.5050461765345835)"
      ]
     },
     "execution_count": 51,
     "metadata": {},
     "output_type": "execute_result"
    }
   ],
   "source": [
    "import statsmodels.api as sm\n",
    "sm.stats.ztest(dog, no_dog,alternative='two-sided')"
   ]
  },
  {
   "cell_type": "markdown",
   "metadata": {},
   "source": [
    "<img src=\"https://miro.medium.com/max/758/1*CFK2wlmBSHgXCo74Od6Z6g.png\" >"
   ]
  },
  {
   "cell_type": "markdown",
   "metadata": {},
   "source": [
    "<img src=\"https://miro.medium.com/max/1724/1*VXxdieFiYCgR6v7nUaq01g.jpeg\" >"
   ]
  },
  {
   "cell_type": "code",
   "execution_count": 55,
   "metadata": {},
   "outputs": [
    {
     "data": {
      "text/plain": [
       "(0.6665710337435845, 0.25252308826729175)"
      ]
     },
     "execution_count": 55,
     "metadata": {},
     "output_type": "execute_result"
    }
   ],
   "source": [
    "sm.stats.ztest(dog, no_dog,alternative='larger')"
   ]
  },
  {
   "cell_type": "code",
   "execution_count": 56,
   "metadata": {},
   "outputs": [
    {
     "data": {
      "text/plain": [
       "(0.6665710337435845, 0.7474769117327082)"
      ]
     },
     "execution_count": 56,
     "metadata": {},
     "output_type": "execute_result"
    }
   ],
   "source": [
    "sm.stats.ztest(dog, no_dog,alternative='smaller')"
   ]
  },
  {
   "cell_type": "code",
   "execution_count": null,
   "metadata": {},
   "outputs": [],
   "source": []
  }
 ],
 "metadata": {
  "kernelspec": {
   "display_name": "Python 3",
   "language": "python",
   "name": "python3"
  },
  "language_info": {
   "codemirror_mode": {
    "name": "ipython",
    "version": 3
   },
   "file_extension": ".py",
   "mimetype": "text/x-python",
   "name": "python",
   "nbconvert_exporter": "python",
   "pygments_lexer": "ipython3",
   "version": "3.7.0"
  },
  "toc": {
   "base_numbering": 1,
   "nav_menu": {},
   "number_sections": true,
   "sideBar": true,
   "skip_h1_title": false,
   "title_cell": "Table of Contents",
   "title_sidebar": "Contents",
   "toc_cell": false,
   "toc_position": {},
   "toc_section_display": true,
   "toc_window_display": true
  },
  "varInspector": {
   "cols": {
    "lenName": 16,
    "lenType": 16,
    "lenVar": 40
   },
   "kernels_config": {
    "python": {
     "delete_cmd_postfix": "",
     "delete_cmd_prefix": "del ",
     "library": "var_list.py",
     "varRefreshCmd": "print(var_dic_list())"
    },
    "r": {
     "delete_cmd_postfix": ") ",
     "delete_cmd_prefix": "rm(",
     "library": "var_list.r",
     "varRefreshCmd": "cat(var_dic_list()) "
    }
   },
   "types_to_exclude": [
    "module",
    "function",
    "builtin_function_or_method",
    "instance",
    "_Feature"
   ],
   "window_display": false
  }
 },
 "nbformat": 4,
 "nbformat_minor": 2
}
