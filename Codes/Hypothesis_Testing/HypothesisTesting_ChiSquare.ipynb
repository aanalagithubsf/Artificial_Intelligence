{
 "cells": [
  {
   "cell_type": "markdown",
   "metadata": {},
   "source": [
    "# What is Chi-Square Test ?"
   ]
  },
  {
   "cell_type": "markdown",
   "metadata": {},
   "source": [
    "It is an inferential statistical test which works on categorical data."
   ]
  },
  {
   "cell_type": "markdown",
   "metadata": {},
   "source": [
    "The Chi-Squared test is a statistical hypothesis test that assumes (the null hypothesis) that the observed frequencies for a categorical variable match the expected frequencies for the categorical variable. The test calculates a statistic that has a chi-squared distribution, named for the Greek capital letter Chi (X) pronounced “ki” as in kite."
   ]
  },
  {
   "cell_type": "markdown",
   "metadata": {},
   "source": [
    "We try to test the likelihood of test data(sample data) to find out whether the observed distribution of data set is a statistical fluke(due to chance ) or not. “Goodness of fit” statistic in chi-square test, measures how well the observed distribution of data fits with the distribution that is expected if the variables are independent."
   ]
  },
  {
   "cell_type": "markdown",
   "metadata": {},
   "source": [
    "## How Does Chi -Square Work ?"
   ]
  },
  {
   "cell_type": "markdown",
   "metadata": {},
   "source": [
    "Generally, we try to establish a relationship between given categorical variable in this test. Chi-square evaluates whether given variables in a data set(sample) are independent, called the Test of Independence. Chi-square tests are used for testing hypotheses about one or two categorical variables, and are appropriate when the data can be summarized by counts in a table. The variables can have multiple categories."
   ]
  },
  {
   "cell_type": "markdown",
   "metadata": {},
   "source": [
    "## Type of Chi-Square Test"
   ]
  },
  {
   "cell_type": "markdown",
   "metadata": {},
   "source": [
    "For **One Categorical Variable**, we perform <br/>\n",
    "**Chi-Square Goodness-of-Fit** Test <br/>\n",
    "The chi square goodness of fit test begins by hypothesizing that the distribution of a variable behaves in a particular manner. For example, in order to determine daily staffing needs of a retail store, the manager may wish to know whether there are an equal number of customers each day of the week. <br/>\n",
    "**Null hypothesis**: The proportions match an assumed set of proportions <br/>\n",
    "**Alternative hypothesis**: At least one category has a different proportion."
   ]
  },
  {
   "cell_type": "markdown",
   "metadata": {},
   "source": [
    "For **Two Categorical Variables**, we perform<br/>\n",
    "**Chi-Square Test for Association** <br/>\n",
    "It tests the null hypothesis that the variables are independent. <br/>\n",
    "The test compares the observed data to a model that distributes the data according to the expectation that the variables are independent. Wherever the observed data doesn’t fit the model, the likelihood that the variables are dependent becomes stronger, thus proving the null hypothesis incorrect! <br/>\n",
    "**Null hypothesis**: There is no association between the two variables<br/>\n",
    "**Alternative hypothesis**: There is an association between the two variable"
   ]
  },
  {
   "cell_type": "markdown",
   "metadata": {},
   "source": [
    "## What Is Chi-Square Distribution?"
   ]
  },
  {
   "cell_type": "markdown",
   "metadata": {},
   "source": [
    "The chi-square distribution (also chi-squared or χ2-distribution) with k degrees of freedom is the distribution of a sum of the squares of k independent standard normal random variables."
   ]
  },
  {
   "cell_type": "markdown",
   "metadata": {},
   "source": [
    "The primary reason that the chi-square distribution is used extensively in hypothesis testing is its relationship to the normal distribution."
   ]
  },
  {
   "cell_type": "markdown",
   "metadata": {},
   "source": [
    "### Degree Of Freedom in Chi Squared Distribution:"
   ]
  },
  {
   "cell_type": "markdown",
   "metadata": {},
   "source": [
    "The degrees of freedom in Chi Squared distribution is equal to the number of standard normal deviates being summed. The mean of a Chi-square distribution is its degrees of freedom. A chi-square distribution constructed by squaring a single standard normal distribution is said to have 1 degree of freedom"
   ]
  },
  {
   "cell_type": "markdown",
   "metadata": {},
   "source": [
    "The degrees of freedom ( df or d) tell you how many numbers in your grid are actually independent. For a Chi-square grid, the degrees of freedom can be said to be the number of cells you need to fill in before, given the totals in the margins, you can fill in the rest of the grid using a formula. <br/>\n",
    "The degrees of freedom for a Chi-square grid are equal to the number of rows minus one times the number of columns minus one: that is, (R-1)*(C-1)."
   ]
  },
  {
   "cell_type": "markdown",
   "metadata": {},
   "source": [
    "**As the degree of freedom (df), increases the Chi-square distribution approaches a normal distribution**"
   ]
  },
  {
   "cell_type": "markdown",
   "metadata": {},
   "source": [
    "### Chi-Square Statistic:"
   ]
  },
  {
   "cell_type": "markdown",
   "metadata": {},
   "source": [
    "The formula for the chi-square statistic used in the chi square test is:"
   ]
  },
  {
   "cell_type": "markdown",
   "metadata": {},
   "source": [
    "<img src=\"https://miro.medium.com/max/516/0*uDtD8RUFJ8deVxyu.jpg\" >"
   ]
  },
  {
   "cell_type": "markdown",
   "metadata": {},
   "source": [
    "The subscript **“c”** here are the degrees of freedom. **“O”** is your observed value and **E** is your expected value. The summation symbol means that you’ll have to perform a calculation for every single data item in your data set. <br/>\n",
    "**E=(row total×column total) / sample size**"
   ]
  },
  {
   "cell_type": "markdown",
   "metadata": {},
   "source": [
    "The Chi-square statistic can only be used on the numbers. They can’t be used for percentages, proportions, means or similar statistical value. For example, if you have 10 percent of 200 people, you would need to convert that to a number (20) before you can run a test statistic.<br/>\n",
    "Chi-Square test involves calculating a metric called the Chi-square statistic mentioned above, which follows the Chi-square distribution."
   ]
  },
  {
   "cell_type": "markdown",
   "metadata": {},
   "source": [
    "### P-Value:"
   ]
  },
  {
   "cell_type": "markdown",
   "metadata": {},
   "source": [
    "It is a probabilistic representation of our expectations under the null hypothesis."
   ]
  },
  {
   "cell_type": "markdown",
   "metadata": {},
   "source": [
    "## Chi-Square Test Explained With Example:"
   ]
  },
  {
   "cell_type": "markdown",
   "metadata": {},
   "source": [
    "Problem: <br/>\n",
    "A public opinion poll surveyed a simple random sample of 1000 voters. Respondents were classified by gender (male or female) and by voting preference (Republican, Democrat, or Independent). Results are shown in the contingency table below."
   ]
  },
  {
   "cell_type": "markdown",
   "metadata": {},
   "source": [
    "<img src=\"https://miro.medium.com/max/1644/1*1TVrJh2ALaCwziT5dVbQ1Q.png\" >"
   ]
  },
  {
   "cell_type": "markdown",
   "metadata": {},
   "source": [
    "We have to infer, Is there a gender gap? Do the men’s voting preferences differ significantly from the women’s preferences? Use a 0.05 level of significance."
   ]
  },
  {
   "cell_type": "markdown",
   "metadata": {},
   "source": [
    "**Chi-square test for independence.** <br/><br/>\n",
    "**Step 1 : State The Hypothesis:**<br/>\n",
    "Here we need to start by establishing a null hypothesis and counter hypothesis(alternative hypothesis) as given below.<br/>\n",
    "Ho: Gender and voting preferences are independent.<br/>\n",
    "H1: Gender and voting preferences are not independent."
   ]
  },
  {
   "cell_type": "markdown",
   "metadata": {},
   "source": [
    "**Step 2: Let’s Build Our Data Analysis Plan :** <br/>\n",
    "Here we will try to find out P Value and match it with the significance level . Let’s take the standard and accepted level of significance to be 0.05. Given the sample data in the table above , let’s try to employ Chi-Square test for independence and deduce the Probability value."
   ]
  },
  {
   "cell_type": "markdown",
   "metadata": {},
   "source": [
    "**Step 3: Let’s Do Sample Analysis:** <br/>\n",
    "Here we will analyze the given sample data to compute<br/><br/>\n",
    "Degree of freedom<br/>\n",
    "Expected Frequency Count of sample variable<br/>\n",
    "Calculate Chi-Square test static value<br/><br/>\n",
    "All the above values will help us find the P-value."
   ]
  },
  {
   "cell_type": "markdown",
   "metadata": {},
   "source": [
    "**Degree Of Freedom Calculation:** <br/>\n",
    "Let’s calculate df = (r — 1) * (c — 1), so in the given table, we have r(rows)= 2 and c(column) = 3 <br/><br/>\n",
    "df= (2–1)*(3–1) = 1*2= 2 ;"
   ]
  },
  {
   "cell_type": "markdown",
   "metadata": {},
   "source": [
    "**Expected Frequency Count Calculation:** <br/>\n",
    "Let Eij, represent expected values of the two variables are independent of one another.<br/>\n",
    "**Eij = ith (row total X jth column total) / grand total**"
   ]
  },
  {
   "cell_type": "markdown",
   "metadata": {},
   "source": [
    "<img src=\"https://miro.medium.com/max/1644/1*1TVrJh2ALaCwziT5dVbQ1Q.png\", height=500, width=500 >"
   ]
  },
  {
   "cell_type": "markdown",
   "metadata": {},
   "source": [
    "Here, Row 1 total value = 400, total value for column1 = 450, total sample size = 1000, <br/><br/>\n",
    "So , <br/>\n",
    "**E1,1 = (400 * 450) / 1000 = 180000/1000 = 180**"
   ]
  },
  {
   "cell_type": "markdown",
   "metadata": {},
   "source": [
    "Similarly, lets calculate other expected values as shown below, <br/>\n",
    "**E1,2 = (400 * 450) / 1000 = 180000/1000 = 180** <br/>\n",
    "**E1,3 = (400 * 100) / 1000 = 40000/1000 = 40** <br/>\n",
    "**E2,1 = (600 * 450) / 1000 = 270000/1000 = 270** <br/>\n",
    "**E2,2 = (600 * 450) / 1000 = 270000/1000 = 270** <br/>\n",
    "**E2,3 = (600 * 100) / 1000 = 60000/1000 = 60**"
   ]
  },
  {
   "cell_type": "markdown",
   "metadata": {},
   "source": [
    "Time to calculate Chi-Squares for each calculated expected values above using the formula:<br/>\n",
    "**Calculating Chi-Sqaures:**<br/>\n",
    "As already discussed above, the formula for calculating chi-sqaure statistic is<br/>\n",
    "<img src=\"https://miro.medium.com/max/516/0*uDtD8RUFJ8deVxyu.jpg\" >"
   ]
  },
  {
   "cell_type": "markdown",
   "metadata": {},
   "source": [
    "Using the above formula our chi-square values comes out to be as given below,<br/>\n",
    "Χ² = (200–180)²/180 + (150–180)²/180 + (50–40)²/40 + (250–270)²/270 + (300–270)²/270 + (50–60)²/60 <br/>\n",
    "Χ² = 400/180 + 900/180 + 100/40 + 400/270 + 900/270 + 100/60"
   ]
  },
  {
   "cell_type": "markdown",
   "metadata": {},
   "source": [
    "So our final chi-square statistic value ,<br/>\n",
    "Χ² = 2.22 + 5.00 + 2.50 + 1.48 + 3.33 + 1.67 = 16.2"
   ]
  },
  {
   "cell_type": "markdown",
   "metadata": {},
   "source": [
    "Having calculated the chi-square value and degrees of freedom, we consult a chi-square table to check whether the chi-square statistic of 16.2 exceeds the critical value for the Chi-square distribution. The intent is to find P-value, which is is the probability that a chi-square statistic having 2 degrees of freedom is more extreme than 16.2."
   ]
  },
  {
   "cell_type": "markdown",
   "metadata": {},
   "source": [
    "**How to calculate P-value ?** <br/>\n",
    "Given the degree of freedom = 2 & Chi-square statistic value = 16.2 , we can easily find P-value using this given\n",
    "Chi-Square Calculator link , simply enter the Chi-square statistic value & degree of freedom as an input , also keep your significance level as 0.05, you will find the result as given below,<br/>\n",
    "https://stattrek.com/online-calculator/chi-square.aspx"
   ]
  },
  {
   "cell_type": "markdown",
   "metadata": {},
   "source": [
    "P-Value is =. 000304. The result is significant at p < .05"
   ]
  },
  {
   "cell_type": "markdown",
   "metadata": {},
   "source": [
    "You can also find P-value using Chi-Square table given below , you can get this table from <br/>\n",
    "https://people.smp.uq.edu.au/YoniNazarathy/stat_models_B_course_spring_07/distributions/chisqtab.pdf"
   ]
  },
  {
   "cell_type": "markdown",
   "metadata": {},
   "source": [
    "Having calculated the chi-square value to be 16.2 and degrees of freedom to be 2 , we consult a chi-square table given above to check whether the chi-square statistic of 16.2 exceeds the critical value for the Chi-square distribution. The critical value for alpha of .05 (95% confidence) for df=2 comes out to be 5.99"
   ]
  },
  {
   "cell_type": "markdown",
   "metadata": {},
   "source": [
    "**Step 4 : Interpreting the result** <br/>\n",
    "**A: Inference From The P-value:**<br/>\n",
    "Since we have got the P-value of 0.000304 we can interpret the result where it signifies that\n",
    "As the P-value (0.000304) is less than the significance level (0.05),<br/>\n",
    "So we have to reject the below given<br>\n",
    "Null Hypothesis, which says , gender and voting preferences are independent.\n",
    "& accept Alternate Hypothesis: <br/>\n",
    "Which says , gender and voting preferences are not independent.<br/>\n",
    "Hence we can conclude that,\n",
    "There is a relationship between gender and voting preference."
   ]
  },
  {
   "cell_type": "markdown",
   "metadata": {},
   "source": [
    "**B: Interpreting from Chi-Square Table:** <br/>\n",
    "Since the critical value for alpha of .05 (95% confidence) for df=2 is 5.99 and our chi-square statistic value 16.3, is much larger than 5.99, we have sufficient evidence to reject our Null hypothesis which we covered above.<br/>\n",
    "So we accept Alternate Hypothesis:<br/>\n",
    "Which says , gender and voting preferences are not independent.<br/>\n",
    "Hence we conclude that,<br/>\n",
    "There is a relationship between gender and voting preference."
   ]
  },
  {
   "cell_type": "markdown",
   "metadata": {},
   "source": [
    "# Example"
   ]
  },
  {
   "cell_type": "markdown",
   "metadata": {},
   "source": [
    "The following is the income data of blue collar workers who are at the same skill level. There are two groups of workers. Workers of the textile company “Lori’s and Co.” and workers of the general population. We want to check weather the variance in the income of Lori’s is higher than of the general population.<br/><br/>\n",
    "\n",
    "Mean and variance of general population = 100,  16.11 <br/><br/>\n",
    "\n",
    "Lori’s : 105, 95, 90,  98, 110, 104, 108, 111, 110, 102, 98, 105, 105, 105, 115<br/><br/>\n",
    "\n",
    "What are the null and alternative hypothesis? <br/>\n",
    "Is it a right tailed or a left tailed test? <br/>\n",
    "Is it a test of mean, proportion or variance? <br/>\n",
    "Which statistical test do you think is appropriate?\n"
   ]
  },
  {
   "cell_type": "code",
   "execution_count": 3,
   "metadata": {},
   "outputs": [],
   "source": [
    "pop_mean = 100\n",
    "pop_var = 16.11"
   ]
  },
  {
   "cell_type": "code",
   "execution_count": 4,
   "metadata": {},
   "outputs": [
    {
     "name": "stdout",
     "output_type": "stream",
     "text": [
      "Lori mean is 104.06666666666666 , Variance is 43.92380952380953\n"
     ]
    }
   ],
   "source": [
    "lori = np.array([105, 95, 90, 98, 110, 104, 108, 111, 110, 102, 98, 105, 105, 105, 115])\n",
    "lori_mean = lori.mean()\n",
    "lori_var = lori.var(ddof=1)\n",
    "print('Lori mean is {} , Variance is {}'.format(lori_mean, lori_var))"
   ]
  },
  {
   "cell_type": "markdown",
   "metadata": {},
   "source": [
    "\n",
    "Ho: v2 = v1 ( variance in income of Lori's is same as the population) <br/>\n",
    "Ha: v2 > v1 (variance in income of Lori's is higher than the population)\n",
    "\n"
   ]
  },
  {
   "cell_type": "code",
   "execution_count": 9,
   "metadata": {},
   "outputs": [],
   "source": [
    "alpha = 0.05\n",
    "dof = len(lori) - 1"
   ]
  },
  {
   "cell_type": "code",
   "execution_count": 6,
   "metadata": {},
   "outputs": [],
   "source": [
    "from scipy import stats"
   ]
  },
  {
   "cell_type": "markdown",
   "metadata": {},
   "source": [
    "https://docs.scipy.org/doc/scipy/reference/generated/scipy.stats.chi2.html"
   ]
  },
  {
   "cell_type": "code",
   "execution_count": 11,
   "metadata": {},
   "outputs": [
    {
     "name": "stdout",
     "output_type": "stream",
     "text": [
      "Chi critical value : 23.684791304840576\n"
     ]
    }
   ],
   "source": [
    "chi_critical = stats.chi2.ppf(1 - alpha, dof)\n",
    "print('Chi critical value : {}'.format(chi_critical))"
   ]
  },
  {
   "cell_type": "code",
   "execution_count": 24,
   "metadata": {},
   "outputs": [
    {
     "name": "stdout",
     "output_type": "stream",
     "text": [
      "Chi statistic value : 38.170908338506116\n"
     ]
    }
   ],
   "source": [
    "chi_statistic = dof*(lori_var / pop_var)\n",
    "print('Chi statistic value : {}'.format(chi_statistic))"
   ]
  },
  {
   "cell_type": "code",
   "execution_count": 28,
   "metadata": {},
   "outputs": [
    {
     "data": {
      "text/plain": [
       "<matplotlib.legend.Legend at 0x11ad7e470>"
      ]
     },
     "execution_count": 28,
     "metadata": {},
     "output_type": "execute_result"
    },
    {
     "data": {
      "image/png": "[encoded data removed]",
      "text/plain": [
       "<Figure size 432x288 with 1 Axes>"
      ]
     },
     "metadata": {},
     "output_type": "display_data"
    }
   ],
   "source": [
    "import matplotlib.pyplot as plt\n",
    "fig, ax = plt.subplots(1, 1)\n",
    "x = np.linspace(stats.chi2.ppf(0.01,df= dof),stats.chi2.ppf(0.99, df=dof), 100)\n",
    "ax.plot(x, stats.chi2.pdf(x, df= dof),'r-', lw=5, alpha=0.6, label='chi pdf')\n",
    "plt.axvline(x=stats.chi2.ppf(0.95,df=dof), label='Critical value for alpha=0.05', color='g')\n",
    "plt.axvline(x=chi_statistic, label='chi-score')\n",
    "plt.legend()"
   ]
  },
  {
   "cell_type": "markdown",
   "metadata": {},
   "source": [
    "\n",
    "It is well beyond the critical value. The variation in income of blue collar workers at Lori's is ",
    "significantly higher than the population variance."
   ]
  },
  {
   "cell_type": "code",
   "execution_count": null,
   "metadata": {},
   "outputs": [],
   "source": []
  }
 ],
 "metadata": {
  "kernelspec": {
   "display_name": "Python 3",
   "language": "python",
   "name": "python3"
  },
  "language_info": {
   "codemirror_mode": {
    "name": "ipython",
    "version": 3
   },
   "file_extension": ".py",
   "mimetype": "text/x-python",
   "name": "python",
   "nbconvert_exporter": "python",
   "pygments_lexer": "ipython3",
   "version": "3.7.0"
  },
  "toc": {
   "base_numbering": 1,
   "nav_menu": {},
   "number_sections": true,
   "sideBar": true,
   "skip_h1_title": false,
   "title_cell": "Table of Contents",
   "title_sidebar": "Contents",
   "toc_cell": false,
   "toc_position": {},
   "toc_section_display": true,
   "toc_window_display": true
  },
  "varInspector": {
   "cols": {
    "lenName": 16,
    "lenType": 16,
    "lenVar": 40
   },
   "kernels_config": {
    "python": {
     "delete_cmd_postfix": "",
     "delete_cmd_prefix": "del ",
     "library": "var_list.py",
     "varRefreshCmd": "print(var_dic_list())"
    },
    "r": {
     "delete_cmd_postfix": ") ",
     "delete_cmd_prefix": "rm(",
     "library": "var_list.r",
     "varRefreshCmd": "cat(var_dic_list()) "
    }
   },
   "types_to_exclude": [
    "module",
    "function",
    "builtin_function_or_method",
    "instance",
    "_Feature"
   ],
   "window_display": false
  }
 },
 "nbformat": 4,
 "nbformat_minor": 2
}
