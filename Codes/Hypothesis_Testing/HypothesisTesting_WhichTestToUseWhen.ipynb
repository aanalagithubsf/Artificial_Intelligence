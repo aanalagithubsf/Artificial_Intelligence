{
 "cells": [
  {
   "cell_type": "markdown",
   "metadata": {},
   "source": [
    "# Normality Tests"
   ]
  },
  {
   "cell_type": "markdown",
   "metadata": {},
   "source": [
    "This section lists statistical tests that you can use to check if your data has a Gaussian distribution."
   ]
  },
  {
   "cell_type": "markdown",
   "metadata": {},
   "source": [
    "## Shapiro-Wilk Test "
   ]
  },
  {
   "cell_type": "markdown",
   "metadata": {},
   "source": [
    "https://docs.scipy.org/doc/scipy/reference/generated/scipy.stats.shapiro.html"
   ]
  },
  {
   "cell_type": "markdown",
   "metadata": {},
   "source": [
    "Tests whether a data sample has a Gaussian distribution.<br/><br/>\n",
    "\n",
    "Assumptions<br/><br/>\n",
    "\n",
    "Observations in each sample are independent and identically distributed (iid).<br/>\n",
    "Interpretation<br/><br/>\n",
    "\n",
    "H0: the sample has a Gaussian distribution.<br/>\n",
    "H1: the sample does not have a Gaussian distribution.<br/>"
   ]
  },
  {
   "cell_type": "markdown",
   "metadata": {},
   "source": [
    "https://machinelearningmastery.com/a-gentle-introduction-to-normality-tests-in-python/ <br/>\n",
    "https://en.wikipedia.org/wiki/Shapiro%E2%80%93Wilk_test"
   ]
  },
  {
   "cell_type": "code",
   "execution_count": 1,
   "metadata": {},
   "outputs": [
    {
     "name": "stdout",
     "output_type": "stream",
     "text": [
      "stat=0.895, p=0.193\n",
      "Probably Gaussian\n"
     ]
    }
   ],
   "source": [
    "# Example of the Shapiro-Wilk Normality Test\n",
    "from scipy.stats import shapiro\n",
    "data = [0.873, 2.817, 0.121, -0.945, -0.055, -1.436, 0.360, -1.478, -1.637, -1.869]\n",
    "stat, p = shapiro(data)\n",
    "print('stat=%.3f, p=%.3f' % (stat, p))\n",
    "if p > 0.05:\n",
    "    print('Probably Gaussian')\n",
    "else:\n",
    "    print('Probably not Gaussian')"
   ]
  },
  {
   "cell_type": "markdown",
   "metadata": {},
   "source": [
    "## D’Agostino’s K^2 Test"
   ]
  },
  {
   "cell_type": "markdown",
   "metadata": {},
   "source": [
    "https://docs.scipy.org/doc/scipy/reference/generated/scipy.stats.normaltest.html <br/>\n",
    "https://en.wikipedia.org/wiki/D%27Agostino%27s_K-squared_test"
   ]
  },
  {
   "cell_type": "code",
   "execution_count": 3,
   "metadata": {},
   "outputs": [
    {
     "name": "stdout",
     "output_type": "stream",
     "text": [
      "stat=3.392, p=0.183\n",
      "Probably Gaussian\n"
     ]
    }
   ],
   "source": [
    "# Example of the D'Agostino's K^2 Normality Test\n",
    "from scipy.stats import normaltest\n",
    "data = [0.873, 2.817, 0.121, -0.945, -0.055, -1.436, 0.360, -1.478, -1.637, -1.869]\n",
    "stat, p = normaltest(data)\n",
    "print('stat=%.3f, p=%.3f' % (stat, p))\n",
    "if p > 0.05:\n",
    "    print('Probably Gaussian')\n",
    "else:\n",
    "    print('Probably not Gaussian')"
   ]
  },
  {
   "cell_type": "markdown",
   "metadata": {},
   "source": [
    "## Anderson-Darling Test"
   ]
  },
  {
   "cell_type": "code",
   "execution_count": 4,
   "metadata": {},
   "outputs": [
    {
     "name": "stdout",
     "output_type": "stream",
     "text": [
      "stat=0.424\n",
      "Probably Gaussian at the 15.0% level\n",
      "Probably Gaussian at the 10.0% level\n",
      "Probably Gaussian at the 5.0% level\n",
      "Probably Gaussian at the 2.5% level\n",
      "Probably Gaussian at the 1.0% level\n"
     ]
    }
   ],
   "source": [
    "# Example of the Anderson-Darling Normality Test\n",
    "from scipy.stats import anderson\n",
    "data = [0.873, 2.817, 0.121, -0.945, -0.055, -1.436, 0.360, -1.478, -1.637, -1.869]\n",
    "result = anderson(data)\n",
    "print('stat=%.3f' % (result.statistic))\n",
    "for i in range(len(result.critical_values)):\n",
    "    sl, cv = result.significance_level[i], result.critical_values[i]\n",
    "    if result.statistic < cv:\n",
    "        print('Probably Gaussian at the %.1f%% level' % (sl))\n",
    "    else:\n",
    "        print('Probably not Gaussian at the %.1f%% level' % (sl))"
   ]
  },
  {
   "cell_type": "markdown",
   "metadata": {},
   "source": [
    "https://en.wikipedia.org/wiki/Anderson%E2%80%93Darling_test"
   ]
  },
  {
   "cell_type": "markdown",
   "metadata": {},
   "source": [
    "# Correlation Tests"
   ]
  },
  {
   "cell_type": "markdown",
   "metadata": {},
   "source": [
    "This section lists statistical tests that you can use to check if two samples are related. <br/><br/>\n",
    "\n",
    "Pearson’s Correlation Coefficient<br/>\n",
    "Tests whether two samples have a linear relationship.<br/><br/>\n",
    "\n",
    "Assumptions<br/><br/>\n",
    "\n",
    "Observations in each sample are independent and identically distributed (iid).<br/>\n",
    "Observations in each sample are normally distributed.<br/>\n",
    "Observations in each sample have the same variance.<br/>\n",
    "Interpretation<br/><br/>\n",
    "\n",
    "H0: the two samples are independent.<br/>\n",
    "H1: there is a dependency between the samples."
   ]
  },
  {
   "cell_type": "code",
   "execution_count": 5,
   "metadata": {},
   "outputs": [
    {
     "name": "stdout",
     "output_type": "stream",
     "text": [
      "stat=0.688, p=0.028\n",
      "Probably dependent\n"
     ]
    }
   ],
   "source": [
    "# Example of the Pearson's Correlation test\n",
    "from scipy.stats import pearsonr\n",
    "data1 = [0.873, 2.817, 0.121, -0.945, -0.055, -1.436, 0.360, -1.478, -1.637, -1.869]\n",
    "data2 = [0.353, 3.517, 0.125, -7.545, -0.555, -1.536, 3.350, -1.578, -3.537, -1.579]\n",
    "stat, p = pearsonr(data1, data2)\n",
    "print('stat=%.3f, p=%.3f' % (stat, p))\n",
    "if p > 0.05:\n",
    "    print('Probably independent')\n",
    "else:\n",
    "    print('Probably dependent')"
   ]
  },
  {
   "cell_type": "markdown",
   "metadata": {},
   "source": [
    "https://machinelearningmastery.com/how-to-use-correlation-to-understand-the-relationship-between-variables/ <br/>\n",
    "https://docs.scipy.org/doc/scipy/reference/generated/scipy.stats.pearsonr.html <br/>\n",
    "https://en.wikipedia.org/wiki/Pearson_correlation_coefficient"
   ]
  },
  {
   "cell_type": "markdown",
   "metadata": {},
   "source": [
    "## Spearman’s Rank Correlation"
   ]
  },
  {
   "cell_type": "markdown",
   "metadata": {},
   "source": [
    "Tests whether two samples have a monotonic relationship.<br/><br/>\n",
    "\n",
    "Assumptions<br/><br/>\n",
    "\n",
    "Observations in each sample are independent and identically distributed (iid).<br/>\n",
    "Observations in each sample can be ranked.<br/>\n",
    "Interpretation<br/><br/>\n",
    "\n",
    "H0: the two samples are independent.<br/>\n",
    "H1: there is a dependency between the samples."
   ]
  },
  {
   "cell_type": "code",
   "execution_count": 6,
   "metadata": {},
   "outputs": [
    {
     "name": "stdout",
     "output_type": "stream",
     "text": [
      "stat=0.855, p=0.002\n",
      "Probably dependent\n"
     ]
    }
   ],
   "source": [
    "# Example of the Spearman's Rank Correlation Test\n",
    "from scipy.stats import spearmanr\n",
    "data1 = [0.873, 2.817, 0.121, -0.945, -0.055, -1.436, 0.360, -1.478, -1.637, -1.869]\n",
    "data2 = [0.353, 3.517, 0.125, -7.545, -0.555, -1.536, 3.350, -1.578, -3.537, -1.579]\n",
    "stat, p = spearmanr(data1, data2)\n",
    "print('stat=%.3f, p=%.3f' % (stat, p))\n",
    "if p > 0.05:\n",
    "    print('Probably independent')\n",
    "else:\n",
    "    print('Probably dependent')"
   ]
  },
  {
   "cell_type": "markdown",
   "metadata": {},
   "source": [
    "https://machinelearningmastery.com/how-to-calculate-nonparametric-rank-correlation-in-python/ <br/>\n",
    "https://docs.scipy.org/doc/scipy/reference/generated/scipy.stats.spearmanr.html <br/>\n",
    "https://en.wikipedia.org/wiki/Spearman%27s_rank_correlation_coefficient"
   ]
  },
  {
   "cell_type": "markdown",
   "metadata": {},
   "source": [
    "## Kendall’s Rank Correlation"
   ]
  },
  {
   "cell_type": "markdown",
   "metadata": {},
   "source": [
    "Tests whether two samples have a monotonic relationship.<br/><br/>\n",
    "\n",
    "Assumptions<br/><br/>\n",
    "\n",
    "Observations in each sample are independent and identically distributed (iid).<br/>\n",
    "Observations in each sample can be ranked.<br/>\n",
    "Interpretation<br/><br/>\n",
    "\n",
    "H0: the two samples are independent.<br/>\n",
    "H1: there is a dependency between the samples."
   ]
  },
  {
   "cell_type": "code",
   "execution_count": 7,
   "metadata": {},
   "outputs": [
    {
     "name": "stdout",
     "output_type": "stream",
     "text": [
      "stat=0.733, p=0.003\n",
      "Probably dependent\n"
     ]
    }
   ],
   "source": [
    "# Example of the Kendall's Rank Correlation Test\n",
    "from scipy.stats import kendalltau\n",
    "data1 = [0.873, 2.817, 0.121, -0.945, -0.055, -1.436, 0.360, -1.478, -1.637, -1.869]\n",
    "data2 = [0.353, 3.517, 0.125, -7.545, -0.555, -1.536, 3.350, -1.578, -3.537, -1.579]\n",
    "stat, p = kendalltau(data1, data2)\n",
    "print('stat=%.3f, p=%.3f' % (stat, p))\n",
    "if p > 0.05:\n",
    "    print('Probably independent')\n",
    "else:\n",
    "    print('Probably dependent')"
   ]
  },
  {
   "cell_type": "markdown",
   "metadata": {},
   "source": [
    "https://machinelearningmastery.com/how-to-calculate-nonparametric-rank-correlation-in-python/ <br/>\n",
    "https://docs.scipy.org/doc/scipy/reference/generated/scipy.stats.kendalltau.html <br/>\n",
    "https://en.wikipedia.org/wiki/Kendall_rank_correlation_coefficient"
   ]
  },
  {
   "cell_type": "markdown",
   "metadata": {},
   "source": [
    "## Chi-Squared Test"
   ]
  },
  {
   "cell_type": "markdown",
   "metadata": {},
   "source": [
    "Tests whether two categorical variables are related or independent. <br/><br/>\n",
    "\n",
    "Assumptions<br/><br/>\n",
    "\n",
    "Observations used in the calculation of the contingency table are independent.<br/>\n",
    "25 or more examples in each cell of the contingency table.<br/>\n",
    "Interpretation<br/><br/>\n",
    "\n",
    "H0: the two samples are independent.<br/>\n",
    "H1: there is a dependency between the samples.<br/>"
   ]
  },
  {
   "cell_type": "code",
   "execution_count": 51,
   "metadata": {},
   "outputs": [
    {
     "name": "stdout",
     "output_type": "stream",
     "text": [
      "stat=0.272, p=0.873\n",
      "Probably independent\n"
     ]
    }
   ],
   "source": [
    "# Example of the Chi-Squared Test\n",
    "from scipy.stats import chi2_contingency\n",
    "table = [[10, 20, 30],[6,  9,  17]]\n",
    "stat, p, dof, expected = chi2_contingency(table)\n",
    "print('stat=%.3f, p=%.3f' % (stat, p))\n",
    "if p > 0.05:\n",
    "    print('Probably independent')\n",
    "else:\n",
    "    print('Probably dependent')"
   ]
  },
  {
   "cell_type": "code",
   "execution_count": 53,
   "metadata": {},
   "outputs": [
    {
     "data": {
      "text/plain": [
       "<matplotlib.legend.Legend at 0x11a22bdd8>"
      ]
     },
     "execution_count": 53,
     "metadata": {},
     "output_type": "execute_result"
    },
    {
     "data": {
      "image/png": "[encoded data removed]",
      "text/plain": [
       "<Figure size 432x288 with 1 Axes>"
      ]
     },
     "metadata": {},
     "output_type": "display_data"
    }
   ],
   "source": [
    "import matplotlib.pyplot as plt\n",
    "fig, ax = plt.subplots(1, 1)\n",
    "df = dof\n",
    "x = np.linspace(stats.chi2.ppf(0.01,df= df),stats.chi2.ppf(0.99, df=df), 100)\n",
    "ax.plot(x, stats.chi2.pdf(x, df= df),'r-', lw=5, alpha=0.6, label='chi pdf')\n",
    "plt.axvline(x=stats.chi2.ppf(0.975,df=df), label='Critical value for alpha=0.05,0.95', color='g')\n",
    "plt.axvline(x=stats.chi2.ppf(0.025,df=df), color='g')\n",
    "plt.axvline(x=stat, label='T-score')\n",
    "plt.legend()"
   ]
  },
  {
   "cell_type": "markdown",
   "metadata": {},
   "source": [
    "https://machinelearningmastery.com/chi-squared-test-for-machine-learning/ <br/>\n",
    "https://docs.scipy.org/doc/scipy/reference/generated/scipy.stats.chi2_contingency.html <br/>\n",
    "https://en.wikipedia.org/wiki/Chi-squared_test"
   ]
  },
  {
   "cell_type": "markdown",
   "metadata": {},
   "source": [
    "# Parametric Statistical Hypothesis Tests"
   ]
  },
  {
   "cell_type": "markdown",
   "metadata": {},
   "source": [
    "This section lists statistical tests that you can use to compare data samples."
   ]
  },
  {
   "cell_type": "markdown",
   "metadata": {},
   "source": [
    "## One sample t-test - 1 Group"
   ]
  },
  {
   "cell_type": "markdown",
   "metadata": {},
   "source": [
    "The One Sample t Test determines whether the sample mean is statistically different from a known or hypothesised population mean. The One Sample t Test is a parametric test."
   ]
  },
  {
   "cell_type": "code",
   "execution_count": 25,
   "metadata": {},
   "outputs": [
    {
     "name": "stdout",
     "output_type": "stream",
     "text": [
      "stat=-1.356, p=0.208\n",
      "we are accepting null hypothesis\n"
     ]
    }
   ],
   "source": [
    "from scipy.stats import ttest_1samp\n",
    "data1 = [0.873, 2.817, 0.121, -0.945, -0.055, -1.436, 0.360, -1.478, -1.637, -1.869]\n",
    "population_mean = 0.3\n",
    "stat, p = ttest_1samp(data1, population_mean)\n",
    "print('stat=%.3f, p=%.3f' % (stat, p))\n",
    "if p > 0.05:\n",
    "    print('we are accepting null hypothesis')\n",
    "else:\n",
    "    print('we are rejecting null hypothesis')"
   ]
  },
  {
   "cell_type": "code",
   "execution_count": 21,
   "metadata": {},
   "outputs": [],
   "source": [
    "from scipy import stats"
   ]
  },
  {
   "cell_type": "code",
   "execution_count": 23,
   "metadata": {},
   "outputs": [
    {
     "data": {
      "text/plain": [
       "<matplotlib.legend.Legend at 0x118b42fd0>"
      ]
     },
     "execution_count": 23,
     "metadata": {},
     "output_type": "execute_result"
    },
    {
     "data": {
      "image/png": "[encoded data removed]",
      "text/plain": [
       "<Figure size 432x288 with 1 Axes>"
      ]
     },
     "metadata": {},
     "output_type": "display_data"
    }
   ],
   "source": [
    "import matplotlib.pyplot as plt\n",
    "fig, ax = plt.subplots(1, 1)\n",
    "df = len(data1) - 1\n",
    "x = np.linspace(stats.t.ppf(0.01,df= df),stats.t.ppf(0.99, df=df), 100)\n",
    "ax.plot(x, stats.t.pdf(x, df= df),'r-', lw=5, alpha=0.6, label='t pdf')\n",
    "plt.axvline(x=stats.t.ppf(0.95,df=df), label='Critical value for alpha=0.05,0.95', color='g')\n",
    "plt.axvline(x=stats.t.ppf(0.05,df=df), color='g')\n",
    "plt.axvline(x=stat, label='T-score')\n",
    "plt.legend()"
   ]
  },
  {
   "cell_type": "markdown",
   "metadata": {},
   "source": [
    "## Student’s t-test  - 2 Independent Groups\n"
   ]
  },
  {
   "cell_type": "markdown",
   "metadata": {},
   "source": [
    "Tests whether the means of two independent samples are significantly different.<br/><br/>\n",
    "\n",
    "Assumptions<br/><br/>\n",
    "\n",
    "Observations in each sample are independent and identically distributed (iid).<br/>\n",
    "Observations in each sample are normally distributed.<br/>\n",
    "Observations in each sample have the same variance.<br/>\n",
    "Interpretation<br/><br/>\n",
    "\n",
    "H0: the means of the samples are equal.<br/>\n",
    "H1: the means of the samples are unequal."
   ]
  },
  {
   "cell_type": "code",
   "execution_count": 10,
   "metadata": {},
   "outputs": [
    {
     "name": "stdout",
     "output_type": "stream",
     "text": [
      "stat=-0.326, p=0.748\n",
      "Probably the same distribution\n"
     ]
    }
   ],
   "source": [
    "# Example of the Student's t-test\n",
    "from scipy.stats import ttest_ind\n",
    "data1 = [0.873, 2.817, 0.121, -0.945, -0.055, -1.436, 0.360, -1.478, -1.637, -1.869]\n",
    "data2 = [1.142, -0.432, -0.938, -0.729, -0.846, -0.157, 0.500, 1.183, -1.075, -0.169]\n",
    "stat, p = ttest_ind(data1, data2)\n",
    "print('stat=%.3f, p=%.3f' % (stat, p))\n",
    "if p > 0.05:\n",
    "    print('Probably the same distribution')\n",
    "else:\n",
    "    print('Probably different distributions')"
   ]
  },
  {
   "cell_type": "code",
   "execution_count": 32,
   "metadata": {},
   "outputs": [
    {
     "data": {
      "text/plain": [
       "<matplotlib.legend.Legend at 0x118f3c710>"
      ]
     },
     "execution_count": 32,
     "metadata": {},
     "output_type": "execute_result"
    },
    {
     "data": {
      "image/png": "[encoded data removed]",
      "text/plain": [
       "<Figure size 432x288 with 1 Axes>"
      ]
     },
     "metadata": {},
     "output_type": "display_data"
    }
   ],
   "source": [
    "import matplotlib.pyplot as plt\n",
    "fig, ax = plt.subplots(1, 1)\n",
    "df = len(data1) - 1\n",
    "x = np.linspace(stats.t.ppf(0.01,df= df),stats.t.ppf(0.99, df=df), 100)\n",
    "ax.plot(x, stats.t.pdf(x, df= df),'r-', lw=5, alpha=0.6, label='t pdf')\n",
    "plt.axvline(x=stats.t.ppf(0.975,df=df), label='Critical value for alpha=0.05,0.95', color='g')\n",
    "plt.axvline(x=stats.t.ppf(0.025,df=df), color='g')\n",
    "plt.axvline(x=stat, label='T-score')\n",
    "plt.legend()"
   ]
  },
  {
   "cell_type": "markdown",
   "metadata": {},
   "source": [
    "https://machinelearningmastery.com/parametric-statistical-significance-tests-in-python/ <br/>\n",
    "https://docs.scipy.org/doc/scipy/reference/generated/scipy.stats.ttest_ind.html <br/>\n",
    "https://en.wikipedia.org/wiki/Student%27s_t-test <br/>"
   ]
  },
  {
   "cell_type": "markdown",
   "metadata": {},
   "source": [
    "## Paired Student’s t-test - 2 Paired Groups"
   ]
  },
  {
   "cell_type": "markdown",
   "metadata": {},
   "source": [
    "Tests whether the means of two paired samples are significantly different.<br/><br/>\n",
    "\n",
    "Assumptions<br/><br/>\n",
    "\n",
    "Observations in each sample are independent and identically distributed (iid).<br/>\n",
    "Observations in each sample are normally distributed.<br/>\n",
    "Observations in each sample have the same variance.<br/>\n",
    "Observations across each sample are paired. Score are linked Ex: Same person, married couple, pre/post test <br/>\n",
    "Interpretation<br/><br/>\n",
    "\n",
    "H0: the means of the samples are equal.<br/>\n",
    "H1: the means of the samples are unequal."
   ]
  },
  {
   "cell_type": "code",
   "execution_count": 11,
   "metadata": {},
   "outputs": [
    {
     "name": "stdout",
     "output_type": "stream",
     "text": [
      "stat=-0.334, p=0.746\n",
      "Probably the same distribution\n"
     ]
    }
   ],
   "source": [
    "# Example of the Paired Student's t-test\n",
    "from scipy.stats import ttest_rel\n",
    "data1 = [0.873, 2.817, 0.121, -0.945, -0.055, -1.436, 0.360, -1.478, -1.637, -1.869]\n",
    "data2 = [1.142, -0.432, -0.938, -0.729, -0.846, -0.157, 0.500, 1.183, -1.075, -0.169]\n",
    "stat, p = ttest_rel(data1, data2)\n",
    "print('stat=%.3f, p=%.3f' % (stat, p))\n",
    "if p > 0.05:\n",
    "    print('Probably the same distribution')\n",
    "else:\n",
    "    print('Probably different distributions')"
   ]
  },
  {
   "cell_type": "markdown",
   "metadata": {},
   "source": [
    "https://machinelearningmastery.com/parametric-statistical-significance-tests-in-python/ <br/>\n",
    "https://docs.scipy.org/doc/scipy/reference/generated/scipy.stats.ttest_rel.html <br/>\n",
    "https://en.wikipedia.org/wiki/Student%27s_t-test"
   ]
  },
  {
   "cell_type": "markdown",
   "metadata": {},
   "source": [
    "## Analysis of Variance Test (ANOVA) 2 or more"
   ]
  },
  {
   "cell_type": "markdown",
   "metadata": {},
   "source": [
    "Tests whether the means of two or more independent samples are significantly different. <br/><br/>\n",
    "\n",
    "Assumptions<br/><br/>\n",
    "\n",
    "Observations in each sample are independent and identically distributed (iid).<br/>\n",
    "Observations in each sample are normally distributed.<br/>\n",
    "Observations in each sample have the same variance.<br/>\n",
    "Interpretation<br/><br/>\n",
    "\n",
    "H0: the means of the samples are equal.<br/>\n",
    "H1: one or more of the means of the samples are unequal."
   ]
  },
  {
   "cell_type": "code",
   "execution_count": 33,
   "metadata": {},
   "outputs": [
    {
     "name": "stdout",
     "output_type": "stream",
     "text": [
      "stat=0.096, p=0.908\n",
      "Probably the same distribution\n"
     ]
    }
   ],
   "source": [
    "# Example of the Analysis of Variance Test\n",
    "from scipy.stats import f_oneway\n",
    "data1 = [0.873, 2.817, 0.121, -0.945, -0.055, -1.436, 0.360, -1.478, -1.637, -1.869]\n",
    "data2 = [1.142, -0.432, -0.938, -0.729, -0.846, -0.157, 0.500, 1.183, -1.075, -0.169]\n",
    "data3 = [-0.208, 0.696, 0.928, -1.148, -0.213, 0.229, 0.137, 0.269, -0.870, -1.204]\n",
    "stat, p = f_oneway(data1, data2, data3)\n",
    "print('stat=%.3f, p=%.3f' % (stat, p))\n",
    "if p > 0.05:\n",
    "    print('Probably the same distribution')\n",
    "else:\n",
    "    print('Probably different distributions')"
   ]
  },
  {
   "cell_type": "code",
   "execution_count": 50,
   "metadata": {},
   "outputs": [
    {
     "data": {
      "text/plain": [
       "<matplotlib.legend.Legend at 0x1190584a8>"
      ]
     },
     "execution_count": 50,
     "metadata": {},
     "output_type": "execute_result"
    },
    {
     "data": {
      "image/png": "[encoded data removed]",
      "text/plain": [
       "<Figure size 432x288 with 1 Axes>"
      ]
     },
     "metadata": {},
     "output_type": "display_data"
    }
   ],
   "source": [
    "import matplotlib.pyplot as plt\n",
    "fig, ax = plt.subplots(1, 1)\n",
    "dfn = 2\n",
    "dfd = len(data1) + len(data2) + len(data3) - 3\n",
    "x = np.linspace(stats.f.ppf(0.01,dfn= dfn, dfd = dfd),stats.f.ppf(0.99,dfn= dfn, dfd = dfd), 100)\n",
    "ax.plot(x, stats.f.pdf(x, dfn= dfn, dfd = dfd),'r-', lw=3, alpha = 0.6,label='Anova pdf')\n",
    "plt.axvline(x=stats.f.ppf(0.975,dfn= dfn, dfd = dfd), label='Critical value for alpha=0.05,0.95', color='g')\n",
    "plt.axvline(x=stats.f.ppf(0.025,dfn= dfn, dfd = dfd), color='g')\n",
    "plt.axvline(x=stat, label='F-score')\n",
    "plt.legend()"
   ]
  },
  {
   "cell_type": "markdown",
   "metadata": {},
   "source": [
    "https://machinelearningmastery.com/parametric-statistical-significance-tests-in-python/ <br/>\n",
    "https://docs.scipy.org/doc/scipy/reference/generated/scipy.stats.f_oneway.html <br/>\n",
    "https://en.wikipedia.org/wiki/Analysis_of_variance"
   ]
  },
  {
   "cell_type": "markdown",
   "metadata": {},
   "source": [
    "## Repeated Measures ANOVA Test - 2 or More Paired Groups"
   ]
  },
  {
   "cell_type": "markdown",
   "metadata": {},
   "source": [
    "Tests whether the means of two or more paired samples are significantly different.<br/><br/>\n",
    "\n",
    "Assumptions<br/><br/>\n",
    "\n",
    "Observations in each sample are independent and identically distributed (iid).\n",
    "Observations in each sample are normally distributed.<br/>\n",
    "Observations in each sample have the same variance.<br/>\n",
    "Observations across each sample are paired.<br/>\n",
    "Interpretation<br/><br/>\n",
    "\n",
    "H0: the means of the samples are equal.<br/>\n",
    "H1: one or more of the means of the samples are unequal."
   ]
  },
  {
   "cell_type": "markdown",
   "metadata": {},
   "source": [
    "# Nonparametric Statistical Hypothesis Tests "
   ]
  },
  {
   "cell_type": "markdown",
   "metadata": {},
   "source": [
    "## Mann-Whitney U Test - 2 Independent Groups"
   ]
  },
  {
   "cell_type": "markdown",
   "metadata": {},
   "source": [
    "Tests whether the distributions of two independent samples are equal or not. <br/><br/>\n",
    "\n",
    "Assumptions<br/><br/>\n",
    "\n",
    "Observations in each sample are independent and identically distributed (iid).<br/>\n",
    "Observations in each sample can be ranked.<br/>\n",
    "Interpretation<br/><br/>\n",
    "\n",
    "H0: the distributions of both samples are equal.<br/>\n",
    "H1: the distributions of both samples are not equal."
   ]
  },
  {
   "cell_type": "code",
   "execution_count": 13,
   "metadata": {},
   "outputs": [
    {
     "name": "stdout",
     "output_type": "stream",
     "text": [
      "stat=40.000, p=0.236\n",
      "Probably the same distribution\n"
     ]
    }
   ],
   "source": [
    "# Example of the Mann-Whitney U Test\n",
    "from scipy.stats import mannwhitneyu\n",
    "data1 = [0.873, 2.817, 0.121, -0.945, -0.055, -1.436, 0.360, -1.478, -1.637, -1.869]\n",
    "data2 = [1.142, -0.432, -0.938, -0.729, -0.846, -0.157, 0.500, 1.183, -1.075, -0.169]\n",
    "stat, p = mannwhitneyu(data1, data2)\n",
    "print('stat=%.3f, p=%.3f' % (stat, p))\n",
    "if p > 0.05:\n",
    "    print('Probably the same distribution')\n",
    "else:\n",
    "    print('Probably different distributions')"
   ]
  },
  {
   "cell_type": "markdown",
   "metadata": {},
   "source": [
    "https://machinelearningmastery.com/nonparametric-statistical-significance-tests-in-python/ <br/>\n",
    "https://docs.scipy.org/doc/scipy/reference/generated/scipy.stats.mannwhitneyu.html <br/>\n",
    "https://en.wikipedia.org/wiki/Mann%E2%80%93Whitney_U_test"
   ]
  },
  {
   "cell_type": "markdown",
   "metadata": {},
   "source": [
    "## Wilcoxon Signed-Rank Test  - 2 Paired Groups"
   ]
  },
  {
   "cell_type": "markdown",
   "metadata": {},
   "source": [
    "Tests whether the distributions of two paired samples are equal or not.<br/><br/>\n",
    "\n",
    "Assumptions<br/><br/>\n",
    "\n",
    "Observations in each sample are independent and identically distributed (iid).<br/>\n",
    "Observations in each sample can be ranked.<br/>\n",
    "Observations across each sample are paired.<br/>\n",
    "Interpretation<br/><br/>\n",
    "\n",
    "H0: the distributions of both samples are equal.<br/>\n",
    "H1: the distributions of both samples are not equal.<br/>"
   ]
  },
  {
   "cell_type": "code",
   "execution_count": 14,
   "metadata": {},
   "outputs": [
    {
     "name": "stdout",
     "output_type": "stream",
     "text": [
      "stat=21.000, p=0.508\n",
      "Probably the same distribution\n"
     ]
    }
   ],
   "source": [
    "# Example of the Wilcoxon Signed-Rank Test\n",
    "from scipy.stats import wilcoxon\n",
    "data1 = [0.873, 2.817, 0.121, -0.945, -0.055, -1.436, 0.360, -1.478, -1.637, -1.869]\n",
    "data2 = [1.142, -0.432, -0.938, -0.729, -0.846, -0.157, 0.500, 1.183, -1.075, -0.169]\n",
    "stat, p = wilcoxon(data1, data2)\n",
    "print('stat=%.3f, p=%.3f' % (stat, p))\n",
    "if p > 0.05:\n",
    "    print('Probably the same distribution')\n",
    "else:\n",
    "    print('Probably different distributions')"
   ]
  },
  {
   "cell_type": "markdown",
   "metadata": {},
   "source": [
    "https://machinelearningmastery.com/nonparametric-statistical-significance-tests-in-python/ <br/>\n",
    "https://docs.scipy.org/doc/scipy/reference/generated/scipy.stats.wilcoxon.html <br/>\n",
    "https://en.wikipedia.org/wiki/Wilcoxon_signed-rank_test"
   ]
  },
  {
   "cell_type": "markdown",
   "metadata": {},
   "source": [
    "## Kruskal-Wallis H Test - 2 or more Independent Groups"
   ]
  },
  {
   "cell_type": "markdown",
   "metadata": {},
   "source": [
    "Tests whether the distributions of two or more independent samples are equal or not.<br/><br/>\n",
    "\n",
    "Assumptions<br/><br/>\n",
    "\n",
    "Observations in each sample are independent and identically distributed (iid).<br/>\n",
    "Observations in each sample can be ranked.<br/>\n",
    "Interpretation<br/><br/>\n",
    "\n",
    "H0: the distributions of all samples are equal.<br/>\n",
    "H1: the distributions of one or more samples are not equal."
   ]
  },
  {
   "cell_type": "code",
   "execution_count": 15,
   "metadata": {},
   "outputs": [
    {
     "name": "stdout",
     "output_type": "stream",
     "text": [
      "stat=0.571, p=0.450\n",
      "Probably the same distribution\n"
     ]
    }
   ],
   "source": [
    "# Example of the Kruskal-Wallis H Test\n",
    "from scipy.stats import kruskal\n",
    "data1 = [0.873, 2.817, 0.121, -0.945, -0.055, -1.436, 0.360, -1.478, -1.637, -1.869]\n",
    "data2 = [1.142, -0.432, -0.938, -0.729, -0.846, -0.157, 0.500, 1.183, -1.075, -0.169]\n",
    "stat, p = kruskal(data1, data2)\n",
    "print('stat=%.3f, p=%.3f' % (stat, p))\n",
    "if p > 0.05:\n",
    "    print('Probably the same distribution')\n",
    "else:\n",
    "    print('Probably different distributions')"
   ]
  },
  {
   "cell_type": "markdown",
   "metadata": {},
   "source": [
    "https://machinelearningmastery.com/nonparametric-statistical-significance-tests-in-python/ <br/>\n",
    "https://docs.scipy.org/doc/scipy/reference/generated/scipy.stats.kruskal.html <br/>\n",
    "https://en.wikipedia.org/wiki/Kruskal%E2%80%93Wallis_one-way_analysis_of_variance"
   ]
  },
  {
   "cell_type": "markdown",
   "metadata": {},
   "source": [
    "## Friedman Test - 2 or more Paired Groups"
   ]
  },
  {
   "cell_type": "markdown",
   "metadata": {},
   "source": [
    "Tests whether the distributions of two or more paired samples are equal or not.<br/><br/>\n",
    "\n",
    "Assumptions<br/><br/>\n",
    "\n",
    "Observations in each sample are independent and identically distributed (iid).<br/>\n",
    "Observations in each sample can be ranked.<br/>\n",
    "Observations across each sample are paired.<br/>\n",
    "Interpretation<br/><br/>\n",
    "\n",
    "H0: the distributions of all samples are equal.<br/>\n",
    "H1: the distributions of one or more samples are not equal."
   ]
  },
  {
   "cell_type": "code",
   "execution_count": 16,
   "metadata": {},
   "outputs": [
    {
     "name": "stdout",
     "output_type": "stream",
     "text": [
      "stat=0.800, p=0.670\n",
      "Probably the same distribution\n"
     ]
    }
   ],
   "source": [
    "# Example of the Friedman Test\n",
    "from scipy.stats import friedmanchisquare\n",
    "data1 = [0.873, 2.817, 0.121, -0.945, -0.055, -1.436, 0.360, -1.478, -1.637, -1.869]\n",
    "data2 = [1.142, -0.432, -0.938, -0.729, -0.846, -0.157, 0.500, 1.183, -1.075, -0.169]\n",
    "data3 = [-0.208, 0.696, 0.928, -1.148, -0.213, 0.229, 0.137, 0.269, -0.870, -1.204]\n",
    "stat, p = friedmanchisquare(data1, data2, data3)\n",
    "print('stat=%.3f, p=%.3f' % (stat, p))\n",
    "if p > 0.05:\n",
    "    print('Probably the same distribution')\n",
    "else:\n",
    "    print('Probably different distributions')"
   ]
  },
  {
   "cell_type": "markdown",
   "metadata": {},
   "source": [
    "https://docs.scipy.org/doc/scipy/reference/generated/scipy.stats.kruskal.html <br/>\n",
    "https://en.wikipedia.org/wiki/Friedman_test"
   ]
  },
  {
   "cell_type": "markdown",
   "metadata": {},
   "source": [
    "# Comparison"
   ]
  },
  {
   "cell_type": "markdown",
   "metadata": {},
   "source": [
    "<img src=\"Param_NonParam_Comparison.jpg\" >"
   ]
  },
  {
   "cell_type": "code",
   "execution_count": null,
   "metadata": {},
   "outputs": [],
   "source": []
  }
 ],
 "metadata": {
  "kernelspec": {
   "display_name": "Python 3",
   "language": "python",
   "name": "python3"
  },
  "language_info": {
   "codemirror_mode": {
    "name": "ipython",
    "version": 3
   },
   "file_extension": ".py",
   "mimetype": "text/x-python",
   "name": "python",
   "nbconvert_exporter": "python",
   "pygments_lexer": "ipython3",
   "version": "3.7.0"
  },
  "toc": {
   "base_numbering": 1,
   "nav_menu": {},
   "number_sections": true,
   "sideBar": true,
   "skip_h1_title": false,
   "title_cell": "Table of Contents",
   "title_sidebar": "Contents",
   "toc_cell": false,
   "toc_position": {
    "height": "calc(100% - 180px)",
    "left": "10px",
    "top": "150px",
    "width": "288px"
   },
   "toc_section_display": true,
   "toc_window_display": true
  },
  "varInspector": {
   "cols": {
    "lenName": 16,
    "lenType": 16,
    "lenVar": 40
   },
   "kernels_config": {
    "python": {
     "delete_cmd_postfix": "",
     "delete_cmd_prefix": "del ",
     "library": "var_list.py",
     "varRefreshCmd": "print(var_dic_list())"
    },
    "r": {
     "delete_cmd_postfix": ") ",
     "delete_cmd_prefix": "rm(",
     "library": "var_list.r",
     "varRefreshCmd": "cat(var_dic_list()) "
    }
   },
   "types_to_exclude": [
    "module",
    "function",
    "builtin_function_or_method",
    "instance",
    "_Feature"
   ],
   "window_display": false
  }
 },
 "nbformat": 4,
 "nbformat_minor": 2
}
