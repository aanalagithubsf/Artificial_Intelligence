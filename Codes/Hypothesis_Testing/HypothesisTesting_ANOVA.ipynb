{
 "cells": [
  {
   "cell_type": "markdown",
   "metadata": {},
   "source": [
    "When you are dealing with data which are presented to you in different groups or sub-populations, you might be interested in knowing whether they arise from the same population, or they represent different populations (with different parameters)."
   ]
  },
  {
   "cell_type": "markdown",
   "metadata": {},
   "source": [
    "The answer to this problem is what the (One-way) ANalysis Of VAriance is meant for. It basically decomposes the variances within each group and among groups, relying on the Null Hypothesis that groups/samples have been drawn from the same population, hence their means are equivalent"
   ]
  },
  {
   "cell_type": "markdown",
   "metadata": {},
   "source": [
    "The ANOVA produces an F-statistic : for high values of F (generally higher than 3.68, which corresponds to a significance level of 5%) we can reject with sufficient confidence the Null, concluding that groups are not arising from the same population."
   ]
  },
  {
   "cell_type": "markdown",
   "metadata": {},
   "source": [
    "As a case study, imagine a bunch of students from different colleges taking the same exam. You want to see if one college outperforms the other, hence your null hypothesis is that the means of GPAs in each group are equivalent to those of the other groups. To keep it simple, we will consider 3 groups (college ‘A’, ‘B’, ‘C’) with 6 students each."
   ]
  },
  {
   "cell_type": "code",
   "execution_count": 2,
   "metadata": {},
   "outputs": [],
   "source": [
    "import numpy as np\n",
    "import pandas as pd"
   ]
  },
  {
   "cell_type": "code",
   "execution_count": 3,
   "metadata": {},
   "outputs": [
    {
     "data": {
      "text/html": [
       "<div>\n",
       "<style scoped>\n",
       "    .dataframe tbody tr th:only-of-type {\n",
       "        vertical-align: middle;\n",
       "    }\n",
       "\n",
       "    .dataframe tbody tr th {\n",
       "        vertical-align: top;\n",
       "    }\n",
       "\n",
       "    .dataframe thead th {\n",
       "        text-align: right;\n",
       "    }\n",
       "</style>\n",
       "<table border=\"1\" class=\"dataframe\">\n",
       "  <thead>\n",
       "    <tr style=\"text-align: right;\">\n",
       "      <th></th>\n",
       "      <th>A</th>\n",
       "      <th>B</th>\n",
       "      <th>C</th>\n",
       "    </tr>\n",
       "  </thead>\n",
       "  <tbody>\n",
       "    <tr>\n",
       "      <td>0</td>\n",
       "      <td>25</td>\n",
       "      <td>30</td>\n",
       "      <td>18</td>\n",
       "    </tr>\n",
       "    <tr>\n",
       "      <td>1</td>\n",
       "      <td>25</td>\n",
       "      <td>30</td>\n",
       "      <td>30</td>\n",
       "    </tr>\n",
       "    <tr>\n",
       "      <td>2</td>\n",
       "      <td>27</td>\n",
       "      <td>21</td>\n",
       "      <td>29</td>\n",
       "    </tr>\n",
       "    <tr>\n",
       "      <td>3</td>\n",
       "      <td>30</td>\n",
       "      <td>24</td>\n",
       "      <td>29</td>\n",
       "    </tr>\n",
       "    <tr>\n",
       "      <td>4</td>\n",
       "      <td>23</td>\n",
       "      <td>26</td>\n",
       "      <td>24</td>\n",
       "    </tr>\n",
       "    <tr>\n",
       "      <td>5</td>\n",
       "      <td>20</td>\n",
       "      <td>28</td>\n",
       "      <td>26</td>\n",
       "    </tr>\n",
       "  </tbody>\n",
       "</table>\n",
       "</div>"
      ],
      "text/plain": [
       "    A   B   C\n",
       "0  25  30  18\n",
       "1  25  30  30\n",
       "2  27  21  29\n",
       "3  30  24  29\n",
       "4  23  26  24\n",
       "5  20  28  26"
      ]
     },
     "execution_count": 3,
     "metadata": {},
     "output_type": "execute_result"
    }
   ],
   "source": [
    "a=[25,25,27,30,23,20]\n",
    "b=[30,30,21,24,26,28]\n",
    "c=[18,30,29,29,24,26]\n",
    "list_of_tuples = list(zip(a, b,c))\n",
    "df = pd.DataFrame(list_of_tuples, columns = ['A', 'B', 'C'])\n",
    "df"
   ]
  },
  {
   "cell_type": "markdown",
   "metadata": {},
   "source": [
    "Once made the following necessary assumptions: <br/><br/>\n",
    "Response variable residuals are normally distributed (or approximately normally distributed)<br/>\n",
    "Variances of populations are equal<br/>\n",
    "Responses for a given group are independent and identically distributed normal random variables<br/>\n",
    "We can start with our steps:"
   ]
  },
  {
   "cell_type": "markdown",
   "metadata": {},
   "source": [
    "**Step 1: compute the average mark for each college like so:**"
   ]
  },
  {
   "cell_type": "markdown",
   "metadata": {},
   "source": [
    "<img src=\"https://miro.medium.com/max/524/0*z6FnC51piW8vVSLY\" >"
   ]
  },
  {
   "cell_type": "code",
   "execution_count": 4,
   "metadata": {},
   "outputs": [
    {
     "name": "stdout",
     "output_type": "stream",
     "text": [
      "Average mark for college A: 25.0\n",
      "Average mark for college B: 26.5\n",
      "Average mark for college C: 26.0\n"
     ]
    }
   ],
   "source": [
    "import numpy as np\n",
    "m1=np.mean(a)\n",
    "m2=np.mean(b)\n",
    "m3=np.mean(c)\n",
    "\n",
    "print('Average mark for college A: {}'.format(m1))\n",
    "print('Average mark for college B: {}'.format(m2))\n",
    "print('Average mark for college C: {}'.format(m3))"
   ]
  },
  {
   "cell_type": "markdown",
   "metadata": {},
   "source": [
    "**Step 2: compute the overall mean (k is the number of groups, hence in our case k=3):**\n",
    "<img src=\"https://miro.medium.com/max/660/0*hn4KUNua7Ocxd24U\" >"
   ]
  },
  {
   "cell_type": "code",
   "execution_count": 5,
   "metadata": {},
   "outputs": [
    {
     "name": "stdout",
     "output_type": "stream",
     "text": [
      "Overall mean: 25.833333333333332\n"
     ]
    }
   ],
   "source": [
    "m=(m1+m2+m3)/3 \n",
    "print('Overall mean: {}'.format(m)) "
   ]
  },
  {
   "cell_type": "markdown",
   "metadata": {},
   "source": [
    "**Step 3: compute the ‘between-group’ sum of squared differences ** (where n is the number of observations per group/college, hence in our case n=6): <br/>"
   ]
  },
  {
   "cell_type": "markdown",
   "metadata": {},
   "source": [
    "<img src=\"https://miro.medium.com/max/2254/1*fVDds0H1KmHtg1gsRDkygA.png\" >"
   ]
  },
  {
   "cell_type": "code",
   "execution_count": 8,
   "metadata": {},
   "outputs": [
    {
     "name": "stdout",
     "output_type": "stream",
     "text": [
      "Between-groups Sum of Squared Differences: 6.999999999999999\n"
     ]
    }
   ],
   "source": [
    "SSb=6*((m1-m)**2+(m2-m)**2+(m3-m)**2)\n",
    "print('Between-groups Sum of Squared Differences: {}'.format(SSb))"
   ]
  },
  {
   "cell_type": "markdown",
   "metadata": {},
   "source": [
    "With those results, we can already compute one of the components of our F-score, which is the between-group mean square value (MSb). Indeed, knowing that the between-group degrees of freedom are k-1 (that means, one less than the number of groups), we can compute the MSb as:"
   ]
  },
  {
   "cell_type": "markdown",
   "metadata": {},
   "source": [
    "<img src=\"https://miro.medium.com/max/568/0*YLsmiQi9ucOzdVG5\" >"
   ]
  },
  {
   "cell_type": "markdown",
   "metadata": {},
   "source": [
    "Where df are the degrees of freedom."
   ]
  },
  {
   "cell_type": "code",
   "execution_count": 9,
   "metadata": {},
   "outputs": [
    {
     "name": "stdout",
     "output_type": "stream",
     "text": [
      "Between-groups Mean Square value: 3.4999999999999996\n"
     ]
    }
   ],
   "source": [
    "MSb=SSb/2\n",
    "print('Between-groups Mean Square value: {}'.format(MSb))"
   ]
  },
  {
   "cell_type": "markdown",
   "metadata": {},
   "source": [
    "**Step 4: calculate the “within-group” sum of squares.**"
   ]
  },
  {
   "cell_type": "markdown",
   "metadata": {},
   "source": [
    "<img src = \"https://miro.medium.com/max/900/0*lKpLGIJcrs9SiVZU\" >"
   ]
  },
  {
   "cell_type": "code",
   "execution_count": 10,
   "metadata": {},
   "outputs": [
    {
     "name": "stdout",
     "output_type": "stream",
     "text": [
      "Within-group Sum of Squared Differences: 223.5\n"
     ]
    }
   ],
   "source": [
    "err_a=list(a-m1)\n",
    "err_b=list(b-m2)\n",
    "err_c=list(c-m3)\n",
    "err=err_a+err_b+err_c\n",
    "ssw=[]\n",
    "for i in err:\n",
    "    ssw.append(i**2)\n",
    "    \n",
    "SSw=np.sum(ssw)\n",
    "\n",
    "print('Within-group Sum of Squared Differences: {}'.format(SSw))"
   ]
  },
  {
   "cell_type": "markdown",
   "metadata": {},
   "source": [
    "Again, knowing that there are k(n-1) within-group degrees of freedom (hence in our case 15), we can compute the within-group mean square value:<br/>\n",
    "<img src=\"https://miro.medium.com/max/518/0*uOUWLdRWAdchIZGa\" >"
   ]
  },
  {
   "cell_type": "code",
   "execution_count": 11,
   "metadata": {},
   "outputs": [
    {
     "name": "stdout",
     "output_type": "stream",
     "text": [
      "Within-group Mean Square value: 14.9\n"
     ]
    }
   ],
   "source": [
    "MSw=SSw/15\n",
    "print('Within-group Mean Square value: {}'.format(MSw))"
   ]
  },
  {
   "cell_type": "markdown",
   "metadata": {},
   "source": [
    "**Step 5: compute the F-score:**"
   ]
  },
  {
   "cell_type": "code",
   "execution_count": 12,
   "metadata": {},
   "outputs": [
    {
     "name": "stdout",
     "output_type": "stream",
     "text": [
      "F-score: 0.23489932885906037\n"
     ]
    }
   ],
   "source": [
    "F=MSb/MSw \n",
    "print('F-score: {}'.format(F)) "
   ]
  },
  {
   "cell_type": "markdown",
   "metadata": {},
   "source": [
    "**Double check using scipy**"
   ]
  },
  {
   "cell_type": "code",
   "execution_count": 13,
   "metadata": {},
   "outputs": [
    {
     "data": {
      "text/plain": [
       "F_onewayResult(statistic=0.2348993288590604, pvalue=0.793504662732833)"
      ]
     },
     "execution_count": 13,
     "metadata": {},
     "output_type": "execute_result"
    }
   ],
   "source": [
    "import scipy.stats as stats \n",
    "stats.f_oneway(a,b,c) "
   ]
  },
  {
   "cell_type": "markdown",
   "metadata": {},
   "source": [
    "If the assumptions above are true, the ratio MSb/MSw behaves as a Fisher distribution with (2,15) degrees of freedom:"
   ]
  },
  {
   "cell_type": "code",
   "execution_count": 15,
   "metadata": {},
   "outputs": [
    {
     "data": {
      "text/plain": [
       "[<matplotlib.lines.Line2D at 0x124711dd8>]"
      ]
     },
     "execution_count": 15,
     "metadata": {},
     "output_type": "execute_result"
    },
    {
     "data": {
      "image/png": "[encoded data removed]",
      "text/plain": [
       "<Figure size 432x288 with 1 Axes>"
      ]
     },
     "metadata": {},
     "output_type": "display_data"
    }
   ],
   "source": [
    "from scipy.stats import f\n",
    "import matplotlib.pyplot as plt\n",
    "fig, ax = plt.subplots(1, 1)\n",
    "dfn, dfd = 2,15\n",
    "x = np.linspace(f.ppf(0.01, dfn, dfd),f.ppf(0.99, dfn, dfd), 100)\n",
    "ax.plot(x, f.pdf(x, dfn, dfd),'r-', lw=5, alpha=0.6, label='f pdf')"
   ]
  },
  {
   "cell_type": "code",
   "execution_count": 19,
   "metadata": {},
   "outputs": [
    {
     "data": {
      "text/plain": [
       "<matplotlib.legend.Legend at 0x124f72550>"
      ]
     },
     "execution_count": 19,
     "metadata": {},
     "output_type": "execute_result"
    },
    {
     "data": {
      "image/png": "[encoded data removed]",
      "text/plain": [
       "<Figure size 432x288 with 1 Axes>"
      ]
     },
     "metadata": {},
     "output_type": "display_data"
    }
   ],
   "source": [
    "from scipy.stats import f\n",
    "import matplotlib.pyplot as plt\n",
    "fig, ax = plt.subplots(1, 1)\n",
    "dfn, dfd = 2,15\n",
    "x = np.linspace(f.ppf(0.01, dfn, dfd),f.ppf(0.99, dfn, dfd), 100)\n",
    "ax.plot(x, f.pdf(x, dfn, dfd),'r-', lw=5, alpha=0.6, label='f pdf')\n",
    "plt.axvline(x=stats.f.ppf(0.95,dfn,dfd), label='Critical value for alpha=0.05', color='g')\n",
    "plt.axvline(x=F, label='F-score')\n",
    "plt.legend()"
   ]
  },
  {
   "cell_type": "markdown",
   "metadata": {},
   "source": [
    "We do not reject the Null hypothesis about equality among means. We can conclude (with an error of 5%, or alternatively, with a confidence of 95%) that there is no significant difference between our three colleges A, B and C."
   ]
  },
  {
   "cell_type": "markdown",
   "metadata": {},
   "source": [
    "# Example"
   ]
  },
  {
   "cell_type": "markdown",
   "metadata": {},
   "source": [
    "Three groups of samples of factory emissions of different plants of the same company were collected. The score is computed based on the composition of the emissions. We want to find out if there is any inconsistency or difference across the three groups.\n",
    "<br/><br/>\n",
    "A = 57,56,58,58,56,59,56,55,53,54,53,42,44,34,54,54,34,64,84,24<br/>\n",
    "B = 49,47,49,47,49,47,49,46,45,46,41,42,41,42,42,42,14,14,34<br/>\n",
    "C = 49,48,46,46,49,46,45,55,61,45,45,45,49,54,44,74,54,84,39\n"
   ]
  },
  {
   "cell_type": "markdown",
   "metadata": {},
   "source": [
    "Hypothesis of One-Way ANOVA <br/> <br/>\n",
    "H0 : µ1 = µ2 = µ3 = µ4 = …= µk <br/><br/>\n",
    "\n",
    "All population means are equal  <br/><br/>\n",
    "\n",
    "Ha : Not all of the population means are equal<br/><br/>\n",
    "\n",
    "For at least one pair, the population means are unequal."
   ]
  },
  {
   "cell_type": "code",
   "execution_count": 20,
   "metadata": {},
   "outputs": [],
   "source": [
    "a = np.array([57,56,58,58,56,59,56,55,53,54,53,42,44,34,54,54,34,64,84,24])\n",
    "b = np.array([49,47,49,47,49,47,49,46,45,46,41,42,41,42,42,42,14,14,34])\n",
    "c = np.array([49,48,46,46,49,46,45,55,61,45,45,45,49,54,44,74,54,84,39])"
   ]
  },
  {
   "cell_type": "code",
   "execution_count": 23,
   "metadata": {},
   "outputs": [
    {
     "name": "stdout",
     "output_type": "stream",
     "text": [
      "F :  5.605295675427708\n",
      "p :  0.0060879156389451235\n"
     ]
    }
   ],
   "source": [
    "import scipy.stats as stats \n",
    "F, p = stats.f_oneway(a,b,c) \n",
    "print('F : ', F)\n",
    "print('p : ', p)"
   ]
  },
  {
   "cell_type": "code",
   "execution_count": 24,
   "metadata": {},
   "outputs": [
    {
     "data": {
      "text/plain": [
       "<matplotlib.legend.Legend at 0x1267f53c8>"
      ]
     },
     "execution_count": 24,
     "metadata": {},
     "output_type": "execute_result"
    },
    {
     "data": {
      "image/png": "[encoded data removed]",
      "text/plain": [
       "<Figure size 432x288 with 1 Axes>"
      ]
     },
     "metadata": {},
     "output_type": "display_data"
    }
   ],
   "source": [
    "from scipy.stats import f\n",
    "import matplotlib.pyplot as plt\n",
    "fig, ax = plt.subplots(1, 1)\n",
    "dfn, dfd = 2,(len(a) + len(b) + len(c) - 3)\n",
    "x = np.linspace(f.ppf(0.01, dfn, dfd),f.ppf(0.99, dfn, dfd), 100)\n",
    "ax.plot(x, f.pdf(x, dfn, dfd),'r-', lw=5, alpha=0.6, label='f pdf')\n",
    "plt.axvline(x=stats.f.ppf(0.95,dfn,dfd), label='Critical value for alpha=0.05', color='g')\n",
    "plt.axvline(x=F, label='F-score')\n",
    "plt.legend()"
   ]
  },
  {
   "cell_type": "markdown",
   "metadata": {},
   "source": [
    "F statistic > F Critical <br/>\n",
    "Since our f-statistic is beyond the critical value, we reject the null"
   ]
  },
  {
   "cell_type": "code",
   "execution_count": null,
   "metadata": {},
   "outputs": [],
   "source": []
  }
 ],
 "metadata": {
  "kernelspec": {
   "display_name": "Python 3",
   "language": "python",
   "name": "python3"
  },
  "language_info": {
   "codemirror_mode": {
    "name": "ipython",
    "version": 3
   },
   "file_extension": ".py",
   "mimetype": "text/x-python",
   "name": "python",
   "nbconvert_exporter": "python",
   "pygments_lexer": "ipython3",
   "version": "3.7.0"
  },
  "toc": {
   "base_numbering": 1,
   "nav_menu": {},
   "number_sections": true,
   "sideBar": true,
   "skip_h1_title": false,
   "title_cell": "Table of Contents",
   "title_sidebar": "Contents",
   "toc_cell": false,
   "toc_position": {},
   "toc_section_display": true,
   "toc_window_display": true
  },
  "varInspector": {
   "cols": {
    "lenName": 16,
    "lenType": 16,
    "lenVar": 40
   },
   "kernels_config": {
    "python": {
     "delete_cmd_postfix": "",
     "delete_cmd_prefix": "del ",
     "library": "var_list.py",
     "varRefreshCmd": "print(var_dic_list())"
    },
    "r": {
     "delete_cmd_postfix": ") ",
     "delete_cmd_prefix": "rm(",
     "library": "var_list.r",
     "varRefreshCmd": "cat(var_dic_list()) "
    }
   },
   "types_to_exclude": [
    "module",
    "function",
    "builtin_function_or_method",
    "instance",
    "_Feature"
   ],
   "window_display": false
  }
 },
 "nbformat": 4,
 "nbformat_minor": 2
}
