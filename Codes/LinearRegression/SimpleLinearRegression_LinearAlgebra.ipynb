{
 "cells": [
  {
   "cell_type": "code",
   "execution_count": 2,
   "metadata": {},
   "outputs": [],
   "source": [
    "import pandas as pd\n",
    "import numpy as np\n",
    "import matplotlib.pyplot as plt\n",
    "%matplotlib inline\n",
    "import math"
   ]
  },
  {
   "cell_type": "markdown",
   "metadata": {},
   "source": [
    "# Simple Linear Regression"
   ]
  },
  {
   "cell_type": "markdown",
   "metadata": {},
   "source": [
    "With simple linear regression we want to model our data as follows: <br/>\n",
    "y = B0 + B1 × x"
   ]
  },
  {
   "cell_type": "markdown",
   "metadata": {},
   "source": [
    "This is a line where y is the output variable we want to predict, x is the input variable\n",
    "we know and B0 and B1 are coefficients that we need to estimate that move the line around.\n",
    "Technically, **B0 is called the intercept** because it determines where the line intercepts the y-axis.\n",
    "In machine learning we can call this the bias, because it is added to offset all predictions that\n",
    "we make. The **B1 term is called the slope** because it defines the slope of the line or **how x\n",
    "translates into a y value before we add our bias**. <br/><br/>\n",
    "We can start off by estimating the value for B1 as: <br/>\n",
    "<img src=\"SLR_B1_expression.jpg\" >"
   ]
  },
  {
   "cell_type": "markdown",
   "metadata": {},
   "source": [
    "The xi and yi refer to\n",
    "the fact that we need to repeat these calculations across all values in our dataset and i refers to\n",
    "the i’th value of x or y. We can calculate B0 using B1 and some statistics from our dataset, as\n",
    "follows: <br/><br/>\n",
    "**B0 = mean(y) − B1 × mean(x)**"
   ]
  },
  {
   "cell_type": "code",
   "execution_count": 44,
   "metadata": {},
   "outputs": [],
   "source": [
    "x = np.array([1,2,4,3,5])\n",
    "y = np.array([1,3,3,2,5])"
   ]
  },
  {
   "cell_type": "markdown",
   "metadata": {},
   "source": [
    "# Estimating The Slope (B1)"
   ]
  },
  {
   "cell_type": "code",
   "execution_count": 45,
   "metadata": {},
   "outputs": [
    {
     "name": "stdout",
     "output_type": "stream",
     "text": [
      "The mean of x :  3.0\n",
      "The mean of y :  2.8\n",
      "Residual of each x value from the mean :  [-2. -1.  1.  0.  2.]\n",
      "Residual of each y value from the mean :  [-1.8  0.2  0.2 -0.8  2.2]\n",
      "Multiplication of the x and y residuals from their means :  [ 3.6 -0.2  0.2 -0.   4.4]\n",
      "The value of our slope B1 :  0.8\n"
     ]
    }
   ],
   "source": [
    "print(\"The mean of x : \", x.mean())\n",
    "print(\"The mean of y : \", y.mean())\n",
    "print(\"Residual of each x value from the mean : \", (x - x.mean()))\n",
    "print(\"Residual of each y value from the mean : \", (y - y.mean()))\n",
    "print(\"Multiplication of the x and y residuals from their means : \", (x - x.mean()) * (y - y.mean()))\n",
    "B1 = ((x - x.mean()) * (y - y.mean())).sum() / ((x - x.mean())**2).sum()\n",
    "print(\"The value of our slope B1 : \", B1)"
   ]
  },
  {
   "cell_type": "markdown",
   "metadata": {},
   "source": [
    "# Estimating The Intercept (B0)"
   ]
  },
  {
   "cell_type": "code",
   "execution_count": 46,
   "metadata": {},
   "outputs": [
    {
     "name": "stdout",
     "output_type": "stream",
     "text": [
      "The value of our intercept B0 :  0.39999999999999947\n"
     ]
    }
   ],
   "source": [
    "B0 = y.mean() - B1 * x.mean()\n",
    "print(\"The value of our intercept B0 : \", B0)"
   ]
  },
  {
   "cell_type": "markdown",
   "metadata": {},
   "source": [
    "# Making Predictions"
   ]
  },
  {
   "cell_type": "code",
   "execution_count": 47,
   "metadata": {},
   "outputs": [
    {
     "name": "stdout",
     "output_type": "stream",
     "text": [
      "Predictions :  [1.2 2.  3.6 2.8 4.4]\n"
     ]
    }
   ],
   "source": [
    "predictions = B0 + B1 * x\n",
    "print(\"Predictions : \", predictions)"
   ]
  },
  {
   "cell_type": "code",
   "execution_count": 48,
   "metadata": {},
   "outputs": [
    {
     "data": {
      "text/plain": [
       "<matplotlib.legend.Legend at 0x11dd4d320>"
      ]
     },
     "execution_count": 48,
     "metadata": {},
     "output_type": "execute_result"
    },
    {
     "data": {
      "image/png": "[encoded data removed]",
      "text/plain": [
       "<Figure size 432x288 with 1 Axes>"
      ]
     },
     "metadata": {},
     "output_type": "display_data"
    }
   ],
   "source": [
    "fig, ax = plt.subplots(1, 1)\n",
    "ax.plot(x,predictions, c='b', label='Prediction')\n",
    "ax.scatter(x,predictions, c='b')\n",
    "ax.scatter(x,y, c='r',label='Ground Truth',)\n",
    "plt.legend()"
   ]
  },
  {
   "cell_type": "markdown",
   "metadata": {},
   "source": [
    "# Estimating Error"
   ]
  },
  {
   "cell_type": "markdown",
   "metadata": {},
   "source": [
    "We can calculate an error score for our predictions called the Root Mean Squared Error or\n",
    "RMSE <br/>\n",
    "<img src=\"SLR_RMSE_Expression.jpg\" >"
   ]
  },
  {
   "cell_type": "code",
   "execution_count": 49,
   "metadata": {},
   "outputs": [
    {
     "data": {
      "text/plain": [
       "array([1.2, 2. , 3.6, 2.8, 4.4])"
      ]
     },
     "execution_count": 49,
     "metadata": {},
     "output_type": "execute_result"
    }
   ],
   "source": [
    "predictions"
   ]
  },
  {
   "cell_type": "code",
   "execution_count": 50,
   "metadata": {},
   "outputs": [
    {
     "data": {
      "text/plain": [
       "array([1, 3, 3, 2, 5])"
      ]
     },
     "execution_count": 50,
     "metadata": {},
     "output_type": "execute_result"
    }
   ],
   "source": [
    "y"
   ]
  },
  {
   "cell_type": "code",
   "execution_count": 33,
   "metadata": {},
   "outputs": [
    {
     "name": "stdout",
     "output_type": "stream",
     "text": [
      "Error for predicted values :  [ 0.2 -1.   0.6  0.8 -0.6]\n",
      "Squared error for predicted values :  [0.04 1.   0.36 0.64 0.36]\n",
      "RMSE or Each prediction is on average wrong by about :  0.692820323027551\n"
     ]
    }
   ],
   "source": [
    "print(\"Error for predicted values : \", predictions - y)\n",
    "print(\"Squared error for predicted values : \", (predictions - y)**2)\n",
    "RMSE = math.sqrt(((predictions - y)**2).sum() / len(x))\n",
    "print(\"RMSE or Each prediction is on average wrong by about : \", RMSE)"
   ]
  },
  {
   "cell_type": "markdown",
   "metadata": {},
   "source": [
    "# Shortcut"
   ]
  },
  {
   "cell_type": "markdown",
   "metadata": {},
   "source": [
    "The calculation of B1 can be re-written as <br/>\n",
    "<img src=\"SLR_B1_Expression_1.jpg\" >"
   ]
  },
  {
   "cell_type": "code",
   "execution_count": 40,
   "metadata": {},
   "outputs": [
    {
     "data": {
      "text/plain": [
       "0.8"
      ]
     },
     "execution_count": 40,
     "metadata": {},
     "output_type": "execute_result"
    }
   ],
   "source": [
    "np.corrcoef(x,y)[0,1] * (y.std() / x.std())"
   ]
  },
  {
   "cell_type": "code",
   "execution_count": null,
   "metadata": {},
   "outputs": [],
   "source": []
  }
 ],
 "metadata": {
  "kernelspec": {
   "display_name": "Python 3",
   "language": "python",
   "name": "python3"
  },
  "language_info": {
   "codemirror_mode": {
    "name": "ipython",
    "version": 3
   },
   "file_extension": ".py",
   "mimetype": "text/x-python",
   "name": "python",
   "nbconvert_exporter": "python",
   "pygments_lexer": "ipython3",
   "version": "3.7.0"
  },
  "toc": {
   "base_numbering": 1,
   "nav_menu": {},
   "number_sections": true,
   "sideBar": true,
   "skip_h1_title": false,
   "title_cell": "Table of Contents",
   "title_sidebar": "Contents",
   "toc_cell": false,
   "toc_position": {},
   "toc_section_display": true,
   "toc_window_display": false
  },
  "varInspector": {
   "cols": {
    "lenName": 16,
    "lenType": 16,
    "lenVar": 40
   },
   "kernels_config": {
    "python": {
     "delete_cmd_postfix": "",
     "delete_cmd_prefix": "del ",
     "library": "var_list.py",
     "varRefreshCmd": "print(var_dic_list())"
    },
    "r": {
     "delete_cmd_postfix": ") ",
     "delete_cmd_prefix": "rm(",
     "library": "var_list.r",
     "varRefreshCmd": "cat(var_dic_list()) "
    }
   },
   "types_to_exclude": [
    "module",
    "function",
    "builtin_function_or_method",
    "instance",
    "_Feature"
   ],
   "window_display": false
  }
 },
 "nbformat": 4,
 "nbformat_minor": 2
}
