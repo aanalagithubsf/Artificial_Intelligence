{
 "cells": [
  {
   "cell_type": "code",
   "execution_count": 21,
   "metadata": {},
   "outputs": [],
   "source": [
    "import numpy as np\n",
    "import pandas as pd\n",
    "from pandas import set_option\n",
    "import matplotlib.pyplot as plt\n",
    "import seaborn as sns\n",
    "%matplotlib inline\n",
    "set_option('precision', 3)"
   ]
  },
  {
   "cell_type": "markdown",
   "metadata": {},
   "source": [
    "# Simple Linear Regression with Stochastic Gradient Descent"
   ]
  },
  {
   "cell_type": "markdown",
   "metadata": {},
   "source": [
    "Our linear regression model is defined as follows: <br/>\n",
    "y = B0 + B1 × x"
   ]
  },
  {
   "cell_type": "code",
   "execution_count": 145,
   "metadata": {},
   "outputs": [],
   "source": [
    "x = [1,2,4,3,5]\n",
    "y = [1,3,3,2,5]"
   ]
  },
  {
   "cell_type": "markdown",
   "metadata": {},
   "source": [
    "## Gradient Descent"
   ]
  },
  {
   "cell_type": "code",
   "execution_count": 146,
   "metadata": {},
   "outputs": [],
   "source": [
    "B0 = 0.0\n",
    "B1 = 0.0\n",
    "error_list = []"
   ]
  },
  {
   "cell_type": "markdown",
   "metadata": {},
   "source": [
    "We can calculate the error for a prediction as follows: <br/>\n",
    "**error = p(i) − y(i)** <br/>\n",
    "Where p(i) is the prediction for the i’th instance in our dataset and y(i) is the i’th output\n",
    "variable for the instance in the dataset. We can now calculate the predicted value for y using\n",
    "our starting point coefficients for the first training instance: x = 1, y = 1."
   ]
  },
  {
   "cell_type": "code",
   "execution_count": 147,
   "metadata": {},
   "outputs": [
    {
     "name": "stdout",
     "output_type": "stream",
     "text": [
      "The Prediction is :  0.0\n",
      "The error is : -1.0\n"
     ]
    }
   ],
   "source": [
    "p = B0 + B1 * x[0]\n",
    "print(\"The Prediction is : \", p)\n",
    "error = p - y[0]\n",
    "print(\"The error is : {}\".format(error))\n",
    "error_list.append(error)"
   ]
  },
  {
   "cell_type": "markdown",
   "metadata": {},
   "source": [
    "We can now use this error in our equation for gradient descent to update the weights. <br/>\n",
    "alpha is the learning rate, error is the error calculated above and x is the input value"
   ]
  },
  {
   "cell_type": "code",
   "execution_count": 148,
   "metadata": {},
   "outputs": [
    {
     "name": "stdout",
     "output_type": "stream",
     "text": [
      "Updated coefficients B0: 0.01 and B1: 0.01\n"
     ]
    }
   ],
   "source": [
    "alpha = 0.01\n",
    "B0 = B0 - alpha * error\n",
    "B1 = B1 - alpha * error * x[0]\n",
    "print(\"Updated coefficients B0: {} and B1: {}\".format(B0,B1))"
   ]
  },
  {
   "cell_type": "markdown",
   "metadata": {},
   "source": [
    "This process must be repeated for the remaining 4 instances from our dataset. One pass through the training dataset is called an epoch."
   ]
  },
  {
   "cell_type": "code",
   "execution_count": 149,
   "metadata": {},
   "outputs": [
    {
     "name": "stdout",
     "output_type": "stream",
     "text": [
      "iteration #  2\n",
      "The index of the array  1\n",
      "Error is  -2.97\n",
      "Updated coefficients B0: 0.039700000000000006 and B1: 0.0694\n",
      "iteration #  3\n",
      "The index of the array  2\n",
      "Error is  -2.6827\n",
      "Updated coefficients B0: 0.066527 and B1: 0.176708\n",
      "iteration #  4\n",
      "The index of the array  3\n",
      "Error is  -1.403349\n",
      "Updated coefficients B0: 0.08056049 and B1: 0.21880847\n",
      "iteration #  5\n",
      "The index of the array  4\n",
      "Error is  -3.8253971599999996\n",
      "Updated coefficients B0: 0.1188144616 and B1: 0.410078328\n",
      "iteration #  6\n",
      "The index of the array  0\n",
      "Error is  -0.47110721040000003\n",
      "Updated coefficients B0: 0.123525533704 and B1: 0.414789400104\n",
      "iteration #  7\n",
      "The index of the array  1\n",
      "Error is  -2.046895666088\n",
      "Updated coefficients B0: 0.14399449036488 and B1: 0.45572731342576\n",
      "iteration #  8\n",
      "The index of the array  2\n",
      "Error is  -1.03309625593208\n",
      "Updated coefficients B0: 0.1543254529242008 and B1: 0.4970511636630432\n",
      "iteration #  9\n",
      "The index of the array  3\n",
      "Error is  -0.3545210560866696\n",
      "Updated coefficients B0: 0.1578706634850675 and B1: 0.5076867953456433\n",
      "iteration #  10\n",
      "The index of the array  4\n",
      "Error is  -2.3036953597867162\n",
      "Updated coefficients B0: 0.18090761708293468 and B1: 0.6228715633349792\n",
      "iteration #  11\n",
      "The index of the array  0\n",
      "Error is  -0.19622081958208615\n",
      "Updated coefficients B0: 0.18286982527875553 and B1: 0.6248337715308\n",
      "iteration #  12\n",
      "The index of the array  1\n",
      "Error is  -1.5674626316596445\n",
      "Updated coefficients B0: 0.19854445159535197 and B1: 0.6561830241639929\n",
      "iteration #  13\n",
      "The index of the array  2\n",
      "Error is  -0.17672345174867665\n",
      "Updated coefficients B0: 0.20031168611283873 and B1: 0.6632519622339399\n",
      "iteration #  14\n",
      "The index of the array  3\n",
      "Error is  0.19006757281465836\n",
      "Updated coefficients B0: 0.19841101038469214 and B1: 0.6575499350495001\n",
      "iteration #  15\n",
      "The index of the array  4\n",
      "Error is  -1.5138393143678073\n",
      "Updated coefficients B0: 0.2135494035283702 and B1: 0.7332419007678904\n",
      "iteration #  16\n",
      "The index of the array  0\n",
      "Error is  -0.05320869570373943\n",
      "Updated coefficients B0: 0.2140814904854076 and B1: 0.7337739877249279\n",
      "iteration #  17\n",
      "The index of the array  1\n",
      "Error is  -1.3183705340647367\n",
      "Updated coefficients B0: 0.22726519582605495 and B1: 0.7601413984062226\n",
      "iteration #  18\n",
      "The index of the array  2\n",
      "Error is  0.2678307894509455\n",
      "Updated coefficients B0: 0.2245868879315455 and B1: 0.7494281668281848\n",
      "iteration #  19\n",
      "The index of the array  3\n",
      "Error is  0.47287138841609977\n",
      "Updated coefficients B0: 0.2198581740473845 and B1: 0.7352420251757018\n",
      "iteration #  20\n",
      "The index of the array  4\n",
      "Error is  -1.1039317000741065\n",
      "Updated coefficients B0: 0.23089749104812557 and B1: 0.7904386101794071\n"
     ]
    }
   ],
   "source": [
    "for i in range(1,20):\n",
    "    print(\"iteration # \", i+1)\n",
    "    instance = i%len(x)\n",
    "    print(\"The index of the array \", instance)\n",
    "    p = B0 + B1 * x[instance]\n",
    "    error = p - y[instance]\n",
    "    alpha = 0.01\n",
    "    B0 = B0 - alpha * error\n",
    "    B1 = B1 - alpha * error * x[instance]\n",
    "    print(\"Error is \", error)\n",
    "    print(\"Updated coefficients B0: {} and B1: {}\".format(B0,B1))\n",
    "    error_list.append(error)"
   ]
  },
  {
   "cell_type": "markdown",
   "metadata": {},
   "source": [
    "Below is a plot of the error for each set of coefficients as the learning process unfolded. This is a useful graph as it shows us that error was decreasing with each iteration"
   ]
  },
  {
   "cell_type": "code",
   "execution_count": 150,
   "metadata": {},
   "outputs": [
    {
     "data": {
      "text/plain": [
       "<matplotlib.legend.Legend at 0x129f98828>"
      ]
     },
     "execution_count": 150,
     "metadata": {},
     "output_type": "execute_result"
    },
    {
     "data": {
      "image/png": "[encoded data removed]",
      "text/plain": [
       "<Figure size 432x288 with 1 Axes>"
      ]
     },
     "metadata": {},
     "output_type": "display_data"
    }
   ],
   "source": [
    "fig, ax = plt.subplots(1, 1)\n",
    "ax.plot(error_list, label='Error')\n",
    "plt.legend()"
   ]
  },
  {
   "cell_type": "code",
   "execution_count": 151,
   "metadata": {},
   "outputs": [
    {
     "name": "stdout",
     "output_type": "stream",
     "text": [
      "Final coefficients have the values B0 = 0.23089749104812557 and B1 = 0.7904386101794071\n"
     ]
    }
   ],
   "source": [
    "print(\"Final coefficients have the values B0 = {} and B1 = {}\".format(B0,B1))"
   ]
  },
  {
   "cell_type": "markdown",
   "metadata": {},
   "source": [
    "Let’s plug them into our simple linear Regression model and make a prediction for each point\n",
    "in our training dataset."
   ]
  },
  {
   "cell_type": "code",
   "execution_count": 152,
   "metadata": {},
   "outputs": [],
   "source": [
    "prediction = []\n",
    "for i in x:\n",
    "    prediction.append(B0 + B1 * i)"
   ]
  },
  {
   "cell_type": "code",
   "execution_count": 153,
   "metadata": {},
   "outputs": [
    {
     "data": {
      "text/plain": [
       "[1.0213361012275326,\n",
       " 1.8117747114069398,\n",
       " 3.3926519317657537,\n",
       " 2.6022133215863468,\n",
       " 4.183090541945161]"
      ]
     },
     "execution_count": 153,
     "metadata": {},
     "output_type": "execute_result"
    }
   ],
   "source": [
    "prediction"
   ]
  },
  {
   "cell_type": "code",
   "execution_count": 154,
   "metadata": {},
   "outputs": [
    {
     "data": {
      "text/plain": [
       "<matplotlib.legend.Legend at 0x12a185fd0>"
      ]
     },
     "execution_count": 154,
     "metadata": {},
     "output_type": "execute_result"
    },
    {
     "data": {
      "image/png": "[encoded data removed]",
      "text/plain": [
       "<Figure size 432x288 with 1 Axes>"
      ]
     },
     "metadata": {},
     "output_type": "display_data"
    }
   ],
   "source": [
    "fig, ax = plt.subplots(1, 1)\n",
    "ax.plot(x,prediction, c='b', label='Prediction')\n",
    "ax.scatter(x,prediction, c='b')\n",
    "ax.scatter(x,y, c='r',label='Ground Truth',)\n",
    "plt.legend()"
   ]
  },
  {
   "cell_type": "code",
   "execution_count": 155,
   "metadata": {},
   "outputs": [],
   "source": [
    "import math"
   ]
  },
  {
   "cell_type": "code",
   "execution_count": 156,
   "metadata": {},
   "outputs": [
    {
     "name": "stdout",
     "output_type": "stream",
     "text": [
      "RMSE or each prediction is on average wrong by about 0.7206264014789554 units\n"
     ]
    }
   ],
   "source": [
    "RMSE = math.sqrt(((np.array(prediction) - np.array(y))**2).sum()/len(x))\n",
    "print(\"RMSE or each prediction is on average wrong by about {} units\".format(RMSE))"
   ]
  },
  {
   "cell_type": "code",
   "execution_count": null,
   "metadata": {},
   "outputs": [],
   "source": []
  }
 ],
 "metadata": {
  "kernelspec": {
   "display_name": "Python 3",
   "language": "python",
   "name": "python3"
  },
  "language_info": {
   "codemirror_mode": {
    "name": "ipython",
    "version": 3
   },
   "file_extension": ".py",
   "mimetype": "text/x-python",
   "name": "python",
   "nbconvert_exporter": "python",
   "pygments_lexer": "ipython3",
   "version": "3.7.0"
  },
  "toc": {
   "base_numbering": 1,
   "nav_menu": {},
   "number_sections": true,
   "sideBar": true,
   "skip_h1_title": false,
   "title_cell": "Table of Contents",
   "title_sidebar": "Contents",
   "toc_cell": false,
   "toc_position": {},
   "toc_section_display": true,
   "toc_window_display": false
  },
  "varInspector": {
   "cols": {
    "lenName": 16,
    "lenType": 16,
    "lenVar": 40
   },
   "kernels_config": {
    "python": {
     "delete_cmd_postfix": "",
     "delete_cmd_prefix": "del ",
     "library": "var_list.py",
     "varRefreshCmd": "print(var_dic_list())"
    },
    "r": {
     "delete_cmd_postfix": ") ",
     "delete_cmd_prefix": "rm(",
     "library": "var_list.r",
     "varRefreshCmd": "cat(var_dic_list()) "
    }
   },
   "types_to_exclude": [
    "module",
    "function",
    "builtin_function_or_method",
    "instance",
    "_Feature"
   ],
   "window_display": false
  }
 },
 "nbformat": 4,
 "nbformat_minor": 2
}
