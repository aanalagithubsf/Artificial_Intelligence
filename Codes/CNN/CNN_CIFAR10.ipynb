{
  "nbformat": 4,
  "nbformat_minor": 0,
  "metadata": {
    "colab": {
      "name": "CNN_CIFAR10.ipynb",
      "provenance": [],
      "collapsed_sections": [],
      "toc_visible": true
    },
    "kernelspec": {
      "name": "python3",
      "display_name": "Python 3"
    },
    "accelerator": "GPU"
  },
  "cells": [
    {
      "cell_type": "markdown",
      "metadata": {
        "id": "2eV6Dd_KpnBz",
        "colab_type": "text"
      },
      "source": [
        "#CIFAR-10 Photo Classification Dataset\n",
        "\n",
        "CIFAR is an acronym that stands for the Canadian Institute For Advanced Research and the CIFAR-10 dataset was developed along with the CIFAR-100 dataset by researchers at the CIFAR institute.\n",
        "\n",
        "\n",
        "The dataset is comprised of 60,000 32×32 pixel color photographs of objects from 10 classes, such as frogs, birds, cats, ships, etc. The class labels and their standard associated integer values are listed below. <br/> <br/>\n",
        "\n",
        "0: airplane <br/>\n",
        "1: automobile <br/>\n",
        "2: bird <br/>\n",
        "3: cat <br/>\n",
        "4: deer <br/>\n",
        "5: dog <br/>\n",
        "6: frog <br/>\n",
        "7: horse <br/>\n",
        "8: ship <br/>\n",
        "9: truck\n",
        "\n"
      ]
    },
    {
      "cell_type": "markdown",
      "metadata": {
        "id": "sTgPUUQt1Blz",
        "colab_type": "text"
      },
      "source": [
        "#Import Library"
      ]
    },
    {
      "cell_type": "code",
      "metadata": {
        "id": "O6Hyt3-DpmjJ",
        "colab_type": "code",
        "colab": {}
      },
      "source": [
        "# Import Libraries\n",
        "import sys\n",
        "from matplotlib import pyplot\n",
        "%matplotlib inline\n",
        "from keras.datasets import cifar10\n",
        "from keras.utils import to_categorical\n",
        "from keras.models import Sequential\n",
        "from keras.layers import Conv2D\n",
        "from keras.layers import MaxPooling2D\n",
        "from keras.layers import Dense\n",
        "from keras.layers import Flatten\n",
        "from keras.optimizers import SGD"
      ],
      "execution_count": 0,
      "outputs": []
    },
    {
      "cell_type": "markdown",
      "metadata": {
        "id": "XFyq_7jz1HI4",
        "colab_type": "text"
      },
      "source": [
        "#Load Dataset"
      ]
    },
    {
      "cell_type": "code",
      "metadata": {
        "id": "owf84JUrpel-",
        "colab_type": "code",
        "colab": {}
      },
      "source": [
        "# load train and test dataset\n",
        "def load_dataset():\n",
        "\t# load dataset\n",
        "\t(trainX, trainY), (testX, testY) = cifar10.load_data()\n",
        "\treturn trainX, trainY, testX, testY"
      ],
      "execution_count": 0,
      "outputs": []
    },
    {
      "cell_type": "code",
      "metadata": {
        "id": "BNqDP_k01KQ4",
        "colab_type": "code",
        "colab": {}
      },
      "source": [
        "trainX, trainY, testX, testY = load_dataset()"
      ],
      "execution_count": 0,
      "outputs": []
    },
    {
      "cell_type": "markdown",
      "metadata": {
        "id": "8rfxWLCr2Yq0",
        "colab_type": "text"
      },
      "source": [
        "#Analyze Dataset"
      ]
    },
    {
      "cell_type": "code",
      "metadata": {
        "id": "ZZBgL02xzBAG",
        "colab_type": "code",
        "colab": {}
      },
      "source": [
        "def analyze_dataset(trainX, trainY, testX, testY, imageIndexList = range(0,3)):\n",
        "  # summarize loaded dataset\n",
        "  print('Train: X=%s, y=%s' % (trainX.shape, trainy.shape))\n",
        "  print('Test: X=%s, y=%s' % (testX.shape, testy.shape))\n",
        "  # plot first few images\n",
        "  for i in imageIndexList:\n",
        "    # define subplot\n",
        "    pyplot.subplot(330 + 1 + i)\n",
        "    # plot raw pixel data\n",
        "    pyplot.imshow(trainX[i])\n",
        "    pyplot.title(str(trainY[i]))\n",
        "    # show the figure\n",
        "    pyplot.show()"
      ],
      "execution_count": 0,
      "outputs": []
    },
    {
      "cell_type": "code",
      "metadata": {
        "id": "GmOf7cKz1iK7",
        "colab_type": "code",
        "colab": {
          "base_uri": "https://localhost:8080/",
          "height": 384
        },
        "outputId": "228ffd58-5be8-43a3-f93a-ee36f6938d32"
      },
      "source": [
        "analyze_dataset(trainX, trainY, testX, testY)"
      ],
      "execution_count": 130,
      "outputs": [
        {
          "output_type": "stream",
          "text": [
            "Train: X=(50000, 32, 32, 3), y=(50000, 1)\n",
            "Test: X=(10000, 32, 32, 3), y=(10000, 1)\n"
          ],
          "name": "stdout"
        },
        {
          "output_type": "display_data",
          "data": {
            "image/png": "[encoded data removed]",
            "text/plain": [
              "<Figure size 432x288 with 1 Axes>"
            ]
          },
          "metadata": {
            "tags": []
          }
        },
        {
          "output_type": "display_data",
          "data": {
            "image/png": "[encoded data removed]",
            "text/plain": [
              "<Figure size 432x288 with 1 Axes>"
            ]
          },
          "metadata": {
            "tags": []
          }
        },
        {
          "output_type": "display_data",
          "data": {
            "image/png": "[encoded data removed]",
            "text/plain": [
              "<Figure size 432x288 with 1 Axes>"
            ]
          },
          "metadata": {
            "tags": []
          }
        }
      ]
    },
    {
      "cell_type": "markdown",
      "metadata": {
        "id": "4X9LxWXT2dKp",
        "colab_type": "text"
      },
      "source": [
        "#Prepare Dataset"
      ]
    },
    {
      "cell_type": "code",
      "metadata": {
        "id": "njmygFxC1lsF",
        "colab_type": "code",
        "colab": {}
      },
      "source": [
        "def prepare_dataset(trainX, trainY, testX, testY):\n",
        "  # Normalize the pixel value by rescaling them to the range [0,1]\n",
        "  # and hot encode labels\n",
        "  # convert from integers to floats\n",
        "  trainX_norm = trainX.astype('float32')\n",
        "  testX_norm = testX.astype('float32')\n",
        "  trainX_norm = trainX_norm / 255.0\n",
        "  testX_norm = testX_norm / 255.0\n",
        "  # one hot encode target values\n",
        "  trainY_hotencode = to_categorical(trainY)\n",
        "  testY_hotencode = to_categorical(testY)\n",
        "  return trainX_norm, trainY_hotencode, testX_norm, testY_hotencode"
      ],
      "execution_count": 0,
      "outputs": []
    },
    {
      "cell_type": "code",
      "metadata": {
        "id": "yfTxVd-v4tJA",
        "colab_type": "code",
        "colab": {}
      },
      "source": [
        "trainX, trainY, testX, testY = prepare_dataset(trainX, trainY, testX, testY)"
      ],
      "execution_count": 0,
      "outputs": []
    },
    {
      "cell_type": "markdown",
      "metadata": {
        "id": "1_oicLR45Mpq",
        "colab_type": "text"
      },
      "source": [
        "#Define Model"
      ]
    },
    {
      "cell_type": "code",
      "metadata": {
        "id": "5hTNd9x55JIi",
        "colab_type": "code",
        "colab": {}
      },
      "source": [
        "# define cnn model\n",
        "def define_model():\n",
        "  model = Sequential()\n",
        "  model.add(Conv2D(6, (5, 5), activation='relu', kernel_initializer='he_uniform', padding='valid', input_shape=(32, 32, 3)))\n",
        "  model.add(MaxPooling2D((2, 2)))\n",
        "  model.add(Conv2D(16, (5, 5), activation='relu', kernel_initializer='he_uniform', padding='valid'))\n",
        "  model.add(MaxPooling2D((2, 2)))\n",
        "  model.add(Flatten())\n",
        "  model.add(Dense(120, activation='relu', kernel_initializer='he_uniform'))\n",
        "  model.add(Dense(84, activation='relu', kernel_initializer='he_uniform'))\n",
        "  model.add(Dense(10, activation='softmax'))\n",
        "  # compile model\n",
        "  opt = SGD(lr=0.001, momentum=0.9)\n",
        "  model.compile(optimizer=opt, loss='categorical_crossentropy', metrics=['accuracy'])\n",
        "  return model"
      ],
      "execution_count": 0,
      "outputs": []
    },
    {
      "cell_type": "code",
      "metadata": {
        "id": "XKguj1Ax5iQh",
        "colab_type": "code",
        "colab": {}
      },
      "source": [
        "cfm = define_model()"
      ],
      "execution_count": 0,
      "outputs": []
    },
    {
      "cell_type": "code",
      "metadata": {
        "id": "kJTCcd1M9I2O",
        "colab_type": "code",
        "colab": {
          "base_uri": "https://localhost:8080/",
          "height": 425
        },
        "outputId": "7835bf67-5f3b-42d4-8e8d-45b2bcf3278f"
      },
      "source": [
        "cfm.summary()"
      ],
      "execution_count": 30,
      "outputs": [
        {
          "output_type": "stream",
          "text": [
            "Model: \"sequential_2\"\n",
            "_________________________________________________________________\n",
            "Layer (type)                 Output Shape              Param #   \n",
            "=================================================================\n",
            "conv2d_3 (Conv2D)            (None, 28, 28, 6)         456       \n",
            "_________________________________________________________________\n",
            "max_pooling2d_3 (MaxPooling2 (None, 14, 14, 6)         0         \n",
            "_________________________________________________________________\n",
            "conv2d_4 (Conv2D)            (None, 10, 10, 16)        2416      \n",
            "_________________________________________________________________\n",
            "max_pooling2d_4 (MaxPooling2 (None, 5, 5, 16)          0         \n",
            "_________________________________________________________________\n",
            "flatten_2 (Flatten)          (None, 400)               0         \n",
            "_________________________________________________________________\n",
            "dense_4 (Dense)              (None, 120)               48120     \n",
            "_________________________________________________________________\n",
            "dense_5 (Dense)              (None, 84)                10164     \n",
            "_________________________________________________________________\n",
            "dense_6 (Dense)              (None, 10)                850       \n",
            "=================================================================\n",
            "Total params: 62,006\n",
            "Trainable params: 62,006\n",
            "Non-trainable params: 0\n",
            "_________________________________________________________________\n"
          ],
          "name": "stdout"
        }
      ]
    },
    {
      "cell_type": "markdown",
      "metadata": {
        "id": "ISPwrmqlC-ht",
        "colab_type": "text"
      },
      "source": [
        "#Train & Evaluate Model"
      ]
    },
    {
      "cell_type": "code",
      "metadata": {
        "id": "b5cuE9c19M5F",
        "colab_type": "code",
        "colab": {
          "base_uri": "https://localhost:8080/",
          "height": 1000
        },
        "outputId": "52e3bb2f-07fd-4aae-c5ea-77a65f5f2e93"
      },
      "source": [
        "# fit model\n",
        "history = cfm.fit(trainX, trainY, epochs=100, batch_size=64, validation_data=(testX, testY), verbose=2)"
      ],
      "execution_count": 32,
      "outputs": [
        {
          "output_type": "stream",
          "text": [
            "Train on 50000 samples, validate on 10000 samples\n",
            "Epoch 1/100\n",
            " - 4s - loss: 1.3887 - acc: 0.5031 - val_loss: 1.4211 - val_acc: 0.4920\n",
            "Epoch 2/100\n",
            " - 4s - loss: 1.3616 - acc: 0.5130 - val_loss: 1.3442 - val_acc: 0.5182\n",
            "Epoch 3/100\n",
            " - 4s - loss: 1.3301 - acc: 0.5257 - val_loss: 1.3267 - val_acc: 0.5239\n",
            "Epoch 4/100\n",
            " - 4s - loss: 1.3042 - acc: 0.5373 - val_loss: 1.3460 - val_acc: 0.5166\n",
            "Epoch 5/100\n",
            " - 4s - loss: 1.2792 - acc: 0.5444 - val_loss: 1.2806 - val_acc: 0.5393\n",
            "Epoch 6/100\n",
            " - 4s - loss: 1.2554 - acc: 0.5519 - val_loss: 1.2721 - val_acc: 0.5417\n",
            "Epoch 7/100\n",
            " - 4s - loss: 1.2374 - acc: 0.5611 - val_loss: 1.2606 - val_acc: 0.5551\n",
            "Epoch 8/100\n",
            " - 4s - loss: 1.2163 - acc: 0.5691 - val_loss: 1.2498 - val_acc: 0.5544\n",
            "Epoch 9/100\n",
            " - 4s - loss: 1.2049 - acc: 0.5736 - val_loss: 1.2334 - val_acc: 0.5645\n",
            "Epoch 10/100\n",
            " - 4s - loss: 1.1823 - acc: 0.5791 - val_loss: 1.2109 - val_acc: 0.5711\n",
            "Epoch 11/100\n",
            " - 4s - loss: 1.1654 - acc: 0.5870 - val_loss: 1.2193 - val_acc: 0.5658\n",
            "Epoch 12/100\n",
            " - 4s - loss: 1.1593 - acc: 0.5893 - val_loss: 1.2854 - val_acc: 0.5421\n",
            "Epoch 13/100\n",
            " - 4s - loss: 1.1385 - acc: 0.5973 - val_loss: 1.2525 - val_acc: 0.5640\n",
            "Epoch 14/100\n",
            " - 4s - loss: 1.1250 - acc: 0.6030 - val_loss: 1.3209 - val_acc: 0.5481\n",
            "Epoch 15/100\n",
            " - 4s - loss: 1.1044 - acc: 0.6095 - val_loss: 1.1832 - val_acc: 0.5839\n",
            "Epoch 16/100\n",
            " - 4s - loss: 1.0957 - acc: 0.6114 - val_loss: 1.1892 - val_acc: 0.5834\n",
            "Epoch 17/100\n",
            " - 4s - loss: 1.0883 - acc: 0.6177 - val_loss: 1.2076 - val_acc: 0.5741\n",
            "Epoch 18/100\n",
            " - 4s - loss: 1.0725 - acc: 0.6211 - val_loss: 1.2174 - val_acc: 0.5769\n",
            "Epoch 19/100\n",
            " - 4s - loss: 1.0639 - acc: 0.6243 - val_loss: 1.1728 - val_acc: 0.5840\n",
            "Epoch 20/100\n",
            " - 4s - loss: 1.0483 - acc: 0.6299 - val_loss: 1.1488 - val_acc: 0.5996\n",
            "Epoch 21/100\n",
            " - 4s - loss: 1.0395 - acc: 0.6336 - val_loss: 1.1667 - val_acc: 0.5931\n",
            "Epoch 22/100\n",
            " - 4s - loss: 1.0243 - acc: 0.6411 - val_loss: 1.1409 - val_acc: 0.5980\n",
            "Epoch 23/100\n",
            " - 4s - loss: 1.0164 - acc: 0.6438 - val_loss: 1.1364 - val_acc: 0.6006\n",
            "Epoch 24/100\n",
            " - 4s - loss: 1.0091 - acc: 0.6455 - val_loss: 1.1504 - val_acc: 0.5984\n",
            "Epoch 25/100\n",
            " - 4s - loss: 0.9972 - acc: 0.6485 - val_loss: 1.1184 - val_acc: 0.6095\n",
            "Epoch 26/100\n",
            " - 4s - loss: 0.9901 - acc: 0.6524 - val_loss: 1.1576 - val_acc: 0.5966\n",
            "Epoch 27/100\n",
            " - 4s - loss: 0.9799 - acc: 0.6582 - val_loss: 1.1239 - val_acc: 0.6067\n",
            "Epoch 28/100\n",
            " - 4s - loss: 0.9658 - acc: 0.6604 - val_loss: 1.1469 - val_acc: 0.5999\n",
            "Epoch 29/100\n",
            " - 4s - loss: 0.9614 - acc: 0.6640 - val_loss: 1.1275 - val_acc: 0.6101\n",
            "Epoch 30/100\n",
            " - 4s - loss: 0.9505 - acc: 0.6680 - val_loss: 1.1146 - val_acc: 0.6178\n",
            "Epoch 31/100\n",
            " - 4s - loss: 0.9425 - acc: 0.6705 - val_loss: 1.1304 - val_acc: 0.6094\n",
            "Epoch 32/100\n",
            " - 4s - loss: 0.9340 - acc: 0.6717 - val_loss: 1.1054 - val_acc: 0.6168\n",
            "Epoch 33/100\n",
            " - 4s - loss: 0.9247 - acc: 0.6749 - val_loss: 1.0969 - val_acc: 0.6233\n",
            "Epoch 34/100\n",
            " - 4s - loss: 0.9137 - acc: 0.6800 - val_loss: 1.0944 - val_acc: 0.6236\n",
            "Epoch 35/100\n",
            " - 4s - loss: 0.9113 - acc: 0.6804 - val_loss: 1.1430 - val_acc: 0.6116\n",
            "Epoch 36/100\n",
            " - 4s - loss: 0.9006 - acc: 0.6854 - val_loss: 1.1269 - val_acc: 0.6146\n",
            "Epoch 37/100\n",
            " - 4s - loss: 0.8957 - acc: 0.6856 - val_loss: 1.1085 - val_acc: 0.6224\n",
            "Epoch 38/100\n",
            " - 4s - loss: 0.8826 - acc: 0.6900 - val_loss: 1.0944 - val_acc: 0.6212\n",
            "Epoch 39/100\n",
            " - 4s - loss: 0.8787 - acc: 0.6926 - val_loss: 1.1078 - val_acc: 0.6202\n",
            "Epoch 40/100\n",
            " - 4s - loss: 0.8701 - acc: 0.6941 - val_loss: 1.0975 - val_acc: 0.6271\n",
            "Epoch 41/100\n",
            " - 4s - loss: 0.8658 - acc: 0.6987 - val_loss: 1.1160 - val_acc: 0.6169\n",
            "Epoch 42/100\n",
            " - 4s - loss: 0.8533 - acc: 0.7000 - val_loss: 1.0995 - val_acc: 0.6274\n",
            "Epoch 43/100\n",
            " - 4s - loss: 0.8497 - acc: 0.7018 - val_loss: 1.0952 - val_acc: 0.6299\n",
            "Epoch 44/100\n",
            " - 4s - loss: 0.8401 - acc: 0.7028 - val_loss: 1.1182 - val_acc: 0.6220\n",
            "Epoch 45/100\n",
            " - 4s - loss: 0.8348 - acc: 0.7062 - val_loss: 1.1192 - val_acc: 0.6268\n",
            "Epoch 46/100\n",
            " - 4s - loss: 0.8291 - acc: 0.7103 - val_loss: 1.1144 - val_acc: 0.6206\n",
            "Epoch 47/100\n",
            " - 4s - loss: 0.8226 - acc: 0.7097 - val_loss: 1.1478 - val_acc: 0.6164\n",
            "Epoch 48/100\n",
            " - 4s - loss: 0.8144 - acc: 0.7145 - val_loss: 1.0923 - val_acc: 0.6315\n",
            "Epoch 49/100\n",
            " - 4s - loss: 0.8098 - acc: 0.7152 - val_loss: 1.1303 - val_acc: 0.6212\n",
            "Epoch 50/100\n",
            " - 4s - loss: 0.8021 - acc: 0.7178 - val_loss: 1.0990 - val_acc: 0.6257\n",
            "Epoch 51/100\n",
            " - 4s - loss: 0.7929 - acc: 0.7221 - val_loss: 1.1161 - val_acc: 0.6257\n",
            "Epoch 52/100\n",
            " - 4s - loss: 0.7923 - acc: 0.7202 - val_loss: 1.1135 - val_acc: 0.6292\n",
            "Epoch 53/100\n",
            " - 4s - loss: 0.7778 - acc: 0.7281 - val_loss: 1.1033 - val_acc: 0.6303\n",
            "Epoch 54/100\n",
            " - 4s - loss: 0.7736 - acc: 0.7284 - val_loss: 1.1021 - val_acc: 0.6308\n",
            "Epoch 55/100\n",
            " - 4s - loss: 0.7722 - acc: 0.7285 - val_loss: 1.0919 - val_acc: 0.6344\n",
            "Epoch 56/100\n",
            " - 4s - loss: 0.7629 - acc: 0.7327 - val_loss: 1.1520 - val_acc: 0.6202\n",
            "Epoch 57/100\n",
            " - 4s - loss: 0.7538 - acc: 0.7357 - val_loss: 1.1354 - val_acc: 0.6246\n",
            "Epoch 58/100\n",
            " - 4s - loss: 0.7505 - acc: 0.7355 - val_loss: 1.1156 - val_acc: 0.6306\n",
            "Epoch 59/100\n",
            " - 4s - loss: 0.7444 - acc: 0.7407 - val_loss: 1.1209 - val_acc: 0.6322\n",
            "Epoch 60/100\n",
            " - 4s - loss: 0.7365 - acc: 0.7412 - val_loss: 1.1199 - val_acc: 0.6308\n",
            "Epoch 61/100\n",
            " - 4s - loss: 0.7341 - acc: 0.7421 - val_loss: 1.1333 - val_acc: 0.6279\n",
            "Epoch 62/100\n",
            " - 4s - loss: 0.7274 - acc: 0.7460 - val_loss: 1.1119 - val_acc: 0.6339\n",
            "Epoch 63/100\n",
            " - 4s - loss: 0.7179 - acc: 0.7489 - val_loss: 1.1559 - val_acc: 0.6238\n",
            "Epoch 64/100\n",
            " - 4s - loss: 0.7165 - acc: 0.7477 - val_loss: 1.1651 - val_acc: 0.6274\n",
            "Epoch 65/100\n",
            " - 4s - loss: 0.7085 - acc: 0.7503 - val_loss: 1.1216 - val_acc: 0.6321\n",
            "Epoch 66/100\n",
            " - 4s - loss: 0.7031 - acc: 0.7549 - val_loss: 1.1396 - val_acc: 0.6339\n",
            "Epoch 67/100\n",
            " - 4s - loss: 0.6951 - acc: 0.7550 - val_loss: 1.1409 - val_acc: 0.6316\n",
            "Epoch 68/100\n",
            " - 4s - loss: 0.6910 - acc: 0.7548 - val_loss: 1.1648 - val_acc: 0.6205\n",
            "Epoch 69/100\n",
            " - 4s - loss: 0.6839 - acc: 0.7601 - val_loss: 1.1536 - val_acc: 0.6292\n",
            "Epoch 70/100\n",
            " - 4s - loss: 0.6779 - acc: 0.7617 - val_loss: 1.1708 - val_acc: 0.6298\n",
            "Epoch 71/100\n",
            " - 4s - loss: 0.6706 - acc: 0.7649 - val_loss: 1.2010 - val_acc: 0.6212\n",
            "Epoch 72/100\n",
            " - 4s - loss: 0.6648 - acc: 0.7666 - val_loss: 1.1837 - val_acc: 0.6292\n",
            "Epoch 73/100\n",
            " - 4s - loss: 0.6553 - acc: 0.7694 - val_loss: 1.1717 - val_acc: 0.6284\n",
            "Epoch 74/100\n",
            " - 4s - loss: 0.6542 - acc: 0.7703 - val_loss: 1.2054 - val_acc: 0.6257\n",
            "Epoch 75/100\n",
            " - 4s - loss: 0.6469 - acc: 0.7752 - val_loss: 1.1810 - val_acc: 0.6304\n",
            "Epoch 76/100\n",
            " - 4s - loss: 0.6467 - acc: 0.7734 - val_loss: 1.1921 - val_acc: 0.6273\n",
            "Epoch 77/100\n",
            " - 4s - loss: 0.6370 - acc: 0.7782 - val_loss: 1.2147 - val_acc: 0.6237\n",
            "Epoch 78/100\n",
            " - 4s - loss: 0.6330 - acc: 0.7771 - val_loss: 1.2738 - val_acc: 0.6149\n",
            "Epoch 79/100\n",
            " - 4s - loss: 0.6290 - acc: 0.7802 - val_loss: 1.2013 - val_acc: 0.6294\n",
            "Epoch 80/100\n",
            " - 4s - loss: 0.6250 - acc: 0.7809 - val_loss: 1.2318 - val_acc: 0.6251\n",
            "Epoch 81/100\n",
            " - 4s - loss: 0.6177 - acc: 0.7837 - val_loss: 1.2268 - val_acc: 0.6215\n",
            "Epoch 82/100\n",
            " - 4s - loss: 0.6114 - acc: 0.7854 - val_loss: 1.2257 - val_acc: 0.6358\n",
            "Epoch 83/100\n",
            " - 4s - loss: 0.6055 - acc: 0.7875 - val_loss: 1.2340 - val_acc: 0.6271\n",
            "Epoch 84/100\n",
            " - 4s - loss: 0.5979 - acc: 0.7898 - val_loss: 1.2946 - val_acc: 0.6168\n",
            "Epoch 85/100\n",
            " - 4s - loss: 0.5959 - acc: 0.7907 - val_loss: 1.2617 - val_acc: 0.6233\n",
            "Epoch 86/100\n",
            " - 4s - loss: 0.5889 - acc: 0.7929 - val_loss: 1.2605 - val_acc: 0.6206\n",
            "Epoch 87/100\n",
            " - 4s - loss: 0.5852 - acc: 0.7955 - val_loss: 1.3497 - val_acc: 0.6097\n",
            "Epoch 88/100\n",
            " - 4s - loss: 0.5810 - acc: 0.7950 - val_loss: 1.2859 - val_acc: 0.6146\n",
            "Epoch 89/100\n",
            " - 4s - loss: 0.5764 - acc: 0.7970 - val_loss: 1.2876 - val_acc: 0.6199\n",
            "Epoch 90/100\n",
            " - 4s - loss: 0.5759 - acc: 0.7983 - val_loss: 1.3019 - val_acc: 0.6197\n",
            "Epoch 91/100\n",
            " - 4s - loss: 0.5628 - acc: 0.8038 - val_loss: 1.2935 - val_acc: 0.6214\n",
            "Epoch 92/100\n",
            " - 4s - loss: 0.5566 - acc: 0.8045 - val_loss: 1.2965 - val_acc: 0.6258\n",
            "Epoch 93/100\n",
            " - 4s - loss: 0.5553 - acc: 0.8045 - val_loss: 1.3219 - val_acc: 0.6166\n",
            "Epoch 94/100\n",
            " - 4s - loss: 0.5507 - acc: 0.8062 - val_loss: 1.3180 - val_acc: 0.6176\n",
            "Epoch 95/100\n",
            " - 4s - loss: 0.5457 - acc: 0.8091 - val_loss: 1.3321 - val_acc: 0.6246\n",
            "Epoch 96/100\n",
            " - 4s - loss: 0.5364 - acc: 0.8118 - val_loss: 1.3390 - val_acc: 0.6252\n",
            "Epoch 97/100\n",
            " - 4s - loss: 0.5366 - acc: 0.8105 - val_loss: 1.3387 - val_acc: 0.6198\n",
            "Epoch 98/100\n",
            " - 4s - loss: 0.5298 - acc: 0.8134 - val_loss: 1.3482 - val_acc: 0.6186\n",
            "Epoch 99/100\n",
            " - 4s - loss: 0.5222 - acc: 0.8175 - val_loss: 1.3434 - val_acc: 0.6237\n",
            "Epoch 100/100\n",
            " - 4s - loss: 0.5206 - acc: 0.8162 - val_loss: 1.4098 - val_acc: 0.6072\n"
          ],
          "name": "stdout"
        }
      ]
    },
    {
      "cell_type": "code",
      "metadata": {
        "id": "lsQpdhBZDbJl",
        "colab_type": "code",
        "colab": {
          "base_uri": "https://localhost:8080/",
          "height": 34
        },
        "outputId": "f31fe03c-b84d-496e-8110-84627e0e358a"
      },
      "source": [
        "# evaluate model\n",
        "_, acc = cfm.evaluate(testX, testY, verbose=2)\n",
        "print('Accuracy on test set %.3f' % (acc * 100.0))"
      ],
      "execution_count": 35,
      "outputs": [
        {
          "output_type": "stream",
          "text": [
            "Accuracy on test set 60.720\n"
          ],
          "name": "stdout"
        }
      ]
    },
    {
      "cell_type": "code",
      "metadata": {
        "id": "uHA4pYgvcKuE",
        "colab_type": "code",
        "colab": {}
      },
      "source": [
        "# save model\n",
        "cfm.save('final_model.h5')"
      ],
      "execution_count": 0,
      "outputs": []
    },
    {
      "cell_type": "markdown",
      "metadata": {
        "id": "m9AQbmDMDDZX",
        "colab_type": "text"
      },
      "source": [
        "#Summarize Results"
      ]
    },
    {
      "cell_type": "code",
      "metadata": {
        "id": "WiLYhJ87DEC5",
        "colab_type": "code",
        "colab": {}
      },
      "source": [
        "def summarize_results(history):\n",
        "  fig, (ax1, ax2) = pyplot.subplots(nrows=2, ncols=1)\n",
        " \n",
        "  ax1.plot(history.history['loss'], color='blue', label='train')\n",
        "  ax1.plot(history.history['val_loss'], color='orange', label='test')\n",
        "  ax1.set_title('Cross Entropy Loss')\n",
        "\n",
        "  ax2.plot(history.history['acc'], color='blue', label='train')\n",
        "  ax2.plot(history.history['val_acc'], color='orange', label='test')\n",
        "  ax2.set_title('Classification Accuracy')\n",
        "\n",
        "  fig.tight_layout()\n",
        "  pyplot.show()\n",
        "  # save plot to file\n",
        "  filename = sys.argv[0].split('/')[-1]\n",
        "  fig.savefig(filename + '_plot.png')"
      ],
      "execution_count": 0,
      "outputs": []
    },
    {
      "cell_type": "code",
      "metadata": {
        "id": "2vgjn8M5FrTT",
        "colab_type": "code",
        "colab": {
          "base_uri": "https://localhost:8080/",
          "height": 297
        },
        "outputId": "432f080e-8193-43d6-ecaa-12c16653c67f"
      },
      "source": [
        "summarize_results(history)"
      ],
      "execution_count": 93,
      "outputs": [
        {
          "output_type": "display_data",
          "data": {
            "image/png": "[encoded data removed]",
            "text/plain": [
              "<Figure size 432x288 with 2 Axes>"
            ]
          },
          "metadata": {
            "tags": []
          }
        }
      ]
    },
    {
      "cell_type": "markdown",
      "metadata": {
        "id": "g0dRURwaXwfN",
        "colab_type": "text"
      },
      "source": [
        "#Predict New Image"
      ]
    },
    {
      "cell_type": "code",
      "metadata": {
        "id": "0sVzpoTeFzjh",
        "colab_type": "code",
        "colab": {}
      },
      "source": [
        "# make a prediction for a new image.\n",
        "from keras.preprocessing.image import load_img\n",
        "from keras.preprocessing.image import img_to_array\n",
        "from keras.models import load_model"
      ],
      "execution_count": 0,
      "outputs": []
    },
    {
      "cell_type": "code",
      "metadata": {
        "id": "ryOzf0jVYSRP",
        "colab_type": "code",
        "colab": {}
      },
      "source": [
        "# load and prepare the image\n",
        "def load_image(filename):\n",
        "  # load the image\n",
        "\timg = load_img(filename, target_size=(32, 32))\n",
        "\t# convert to array\n",
        "\timg = img_to_array(img)\n",
        "\t# reshape into a single sample with 3 channels\n",
        "\timg = img.reshape(1, 32, 32, 3)\n",
        "\t# prepare pixel data\n",
        "\timg = img.astype('float32')\n",
        "\timg = img / 255.0\n",
        "\treturn img"
      ],
      "execution_count": 0,
      "outputs": []
    },
    {
      "cell_type": "code",
      "metadata": {
        "id": "EAr7F6BUYg6E",
        "colab_type": "code",
        "colab": {
          "base_uri": "https://localhost:8080/",
          "height": 34
        },
        "outputId": "f8d5e423-ec6f-4063-89e9-c8cb83c525d7"
      },
      "source": [
        "# load the image\n",
        "img = load_image('frog.png')\n",
        "# load model\n",
        "model = load_model('final_model.h5')\n",
        "# predict the class\n",
        "result = model.predict_classes(img)\n",
        "print(result[0])\n",
        " "
      ],
      "execution_count": 137,
      "outputs": [
        {
          "output_type": "stream",
          "text": [
            "9\n"
          ],
          "name": "stdout"
        }
      ]
    },
    {
      "cell_type": "code",
      "metadata": {
        "id": "_3If3BSMZNCz",
        "colab_type": "code",
        "colab": {}
      },
      "source": [
        ""
      ],
      "execution_count": 0,
      "outputs": []
    }
  ]
}