{
  "nbformat": 4,
  "nbformat_minor": 0,
  "metadata": {
    "colab": {
      "name": "CNN_CIFAR10.ipynb",
      "provenance": [],
      "collapsed_sections": []
    },
    "kernelspec": {
      "name": "python3",
      "display_name": "Python 3"
    },
    "accelerator": "GPU"
  },
  "cells": [
    {
      "cell_type": "markdown",
      "metadata": {
        "id": "2eV6Dd_KpnBz",
        "colab_type": "text"
      },
      "source": [
        "#CIFAR-10 Photo Classification Dataset\n",
        "\n",
        "CIFAR is an acronym that stands for the Canadian Institute For Advanced Research and the CIFAR-10 dataset was developed along with the CIFAR-100 dataset by researchers at the CIFAR institute.\n",
        "\n",
        "\n",
        "The dataset is comprised of 60,000 32×32 pixel color photographs of objects from 10 classes, such as frogs, birds, cats, ships, etc. The class labels and their standard associated integer values are listed below. <br/> <br/>\n",
        "\n",
        "0: airplane <br/>\n",
        "1: automobile <br/>\n",
        "2: bird <br/>\n",
        "3: cat <br/>\n",
        "4: deer <br/>\n",
        "5: dog <br/>\n",
        "6: frog <br/>\n",
        "7: horse <br/>\n",
        "8: ship <br/>\n",
        "9: truck\n",
        "\n"
      ]
    },
    {
      "cell_type": "markdown",
      "metadata": {
        "id": "sTgPUUQt1Blz",
        "colab_type": "text"
      },
      "source": [
        "#Import Library"
      ]
    },
    {
      "cell_type": "code",
      "metadata": {
        "id": "O6Hyt3-DpmjJ",
        "colab_type": "code",
        "colab": {
          "base_uri": "https://localhost:8080/",
          "height": 34
        },
        "outputId": "0de6516c-a488-4167-b62f-9025c6e80a8e"
      },
      "source": [
        "# Import Libraries\n",
        "import sys\n",
        "from matplotlib import pyplot\n",
        "%matplotlib inline\n",
        "from keras.datasets import cifar10\n",
        "from keras.utils import to_categorical\n",
        "from keras.models import Sequential\n",
        "from keras.layers import Conv2D\n",
        "from keras.layers import MaxPooling2D\n",
        "from keras.layers import Dense\n",
        "from keras.layers import Flatten\n",
        "from keras.optimizers import SGD"
      ],
      "execution_count": null,
      "outputs": [
        {
          "output_type": "stream",
          "text": [
            "Using TensorFlow backend.\n"
          ],
          "name": "stderr"
        }
      ]
    },
    {
      "cell_type": "markdown",
      "metadata": {
        "id": "XFyq_7jz1HI4",
        "colab_type": "text"
      },
      "source": [
        "#Load Dataset"
      ]
    },
    {
      "cell_type": "code",
      "metadata": {
        "id": "owf84JUrpel-",
        "colab_type": "code",
        "colab": {}
      },
      "source": [
        "# load train and test dataset\n",
        "def load_dataset():\n",
        "\t# load dataset\n",
        "\t(trainX, trainY), (testX, testY) = cifar10.load_data()\n",
        "\treturn trainX, trainY, testX, testY"
      ],
      "execution_count": null,
      "outputs": []
    },
    {
      "cell_type": "code",
      "metadata": {
        "id": "BNqDP_k01KQ4",
        "colab_type": "code",
        "colab": {
          "base_uri": "https://localhost:8080/",
          "height": 51
        },
        "outputId": "1764491c-52d4-469d-ced7-d7982edaf6b7"
      },
      "source": [
        "trainX, trainY, testX, testY = load_dataset()"
      ],
      "execution_count": null,
      "outputs": [
        {
          "output_type": "stream",
          "text": [
            "Downloading data from https://www.cs.toronto.edu/~kriz/cifar-10-python.tar.gz\n",
            "170500096/170498071 [==============================] - 2s 0us/step\n"
          ],
          "name": "stdout"
        }
      ]
    },
    {
      "cell_type": "markdown",
      "metadata": {
        "id": "8rfxWLCr2Yq0",
        "colab_type": "text"
      },
      "source": [
        "#Analyze Dataset"
      ]
    },
    {
      "cell_type": "code",
      "metadata": {
        "id": "ZZBgL02xzBAG",
        "colab_type": "code",
        "colab": {}
      },
      "source": [
        "def analyze_dataset(trainX, trainY, testX, testY, imageIndexList = range(0,3)):\n",
        "  # summarize loaded dataset\n",
        "  print('Train: X=%s, y=%s' % (trainX.shape, trainY.shape))\n",
        "  print('Test: X=%s, y=%s' % (testX.shape, testY.shape))\n",
        "  # plot first few images\n",
        "  for i in imageIndexList:\n",
        "    # define subplot\n",
        "    pyplot.subplot(330 + 1 + i)\n",
        "    # plot raw pixel data\n",
        "    pyplot.imshow(trainX[i])\n",
        "    pyplot.title(str(trainY[i]))\n",
        "    # show the figure\n",
        "    pyplot.show()"
      ],
      "execution_count": null,
      "outputs": []
    },
    {
      "cell_type": "code",
      "metadata": {
        "id": "GmOf7cKz1iK7",
        "colab_type": "code",
        "colab": {
          "base_uri": "https://localhost:8080/",
          "height": 384
        },
        "outputId": "4a35ffa6-79e5-4975-c0c8-1f9ac8f551e5"
      },
      "source": [
        "analyze_dataset(trainX, trainY, testX, testY)"
      ],
      "execution_count": null,
      "outputs": [
        {
          "output_type": "stream",
          "text": [
            "Train: X=(50000, 32, 32, 3), y=(50000, 1)\n",
            "Test: X=(10000, 32, 32, 3), y=(10000, 1)\n"
          ],
          "name": "stdout"
        },
        {
          "output_type": "display_data",
          "data": {
            "image/png": "[encoded data removed]",
            "text/plain": [
              "<Figure size 432x288 with 1 Axes>"
            ]
          },
          "metadata": {
            "tags": [],
            "needs_background": "light"
          }
        },
        {
          "output_type": "display_data",
          "data": {
            "image/png": "[encoded data removed]",
            "text/plain": [
              "<Figure size 432x288 with 1 Axes>"
            ]
          },
          "metadata": {
            "tags": [],
            "needs_background": "light"
          }
        },
        {
          "output_type": "display_data",
          "data": {
            "image/png": "[encoded data removed]",
            "text/plain": [
              "<Figure size 432x288 with 1 Axes>"
            ]
          },
          "metadata": {
            "tags": [],
            "needs_background": "light"
          }
        }
      ]
    },
    {
      "cell_type": "markdown",
      "metadata": {
        "id": "4X9LxWXT2dKp",
        "colab_type": "text"
      },
      "source": [
        "#Prepare Dataset"
      ]
    },
    {
      "cell_type": "code",
      "metadata": {
        "id": "njmygFxC1lsF",
        "colab_type": "code",
        "colab": {}
      },
      "source": [
        "def prepare_dataset(trainX, trainY, testX, testY):\n",
        "  # Normalize the pixel value by rescaling them to the range [0,1]\n",
        "  # and hot encode labels\n",
        "  # convert from integers to floats\n",
        "  trainX_norm = trainX.astype('float32')\n",
        "  testX_norm = testX.astype('float32')\n",
        "  trainX_norm = trainX_norm / 255.0\n",
        "  testX_norm = testX_norm / 255.0\n",
        "  # one hot encode target values\n",
        "  trainY_hotencode = to_categorical(trainY)\n",
        "  testY_hotencode = to_categorical(testY)\n",
        "  return trainX_norm, trainY_hotencode, testX_norm, testY_hotencode"
      ],
      "execution_count": null,
      "outputs": []
    },
    {
      "cell_type": "code",
      "metadata": {
        "id": "yfTxVd-v4tJA",
        "colab_type": "code",
        "colab": {}
      },
      "source": [
        "trainX, trainY, testX, testY = prepare_dataset(trainX, trainY, testX, testY)"
      ],
      "execution_count": null,
      "outputs": []
    },
    {
      "cell_type": "markdown",
      "metadata": {
        "id": "1_oicLR45Mpq",
        "colab_type": "text"
      },
      "source": [
        "#Define Model"
      ]
    },
    {
      "cell_type": "code",
      "metadata": {
        "id": "5hTNd9x55JIi",
        "colab_type": "code",
        "colab": {}
      },
      "source": [
        "# define cnn model\n",
        "def define_model():\n",
        "  model = Sequential()\n",
        "  model.add(Conv2D(6, (5, 5), activation='relu', kernel_initializer='glorot_uniform', padding='valid', input_shape=(32, 32, 3)))\n",
        "  model.add(MaxPooling2D((2, 2)))\n",
        "  model.add(Conv2D(16, (5, 5), activation='relu', kernel_initializer='glorot_uniform', padding='valid'))\n",
        "  model.add(MaxPooling2D((2, 2)))\n",
        "  model.add(Flatten())\n",
        "  model.add(Dense(120, activation='relu', kernel_initializer='glorot_uniform'))\n",
        "  model.add(Dense(84, activation='relu', kernel_initializer='glorot_uniform'))\n",
        "  model.add(Dense(10, activation='softmax'))\n",
        "  # compile model\n",
        "  opt = SGD(lr=0.001, momentum=0.9)\n",
        "  model.compile(optimizer=opt, loss='categorical_crossentropy', metrics=['accuracy'])\n",
        "  return model"
      ],
      "execution_count": null,
      "outputs": []
    },
    {
      "cell_type": "code",
      "metadata": {
        "id": "XKguj1Ax5iQh",
        "colab_type": "code",
        "colab": {}
      },
      "source": [
        "cfm = define_model()"
      ],
      "execution_count": null,
      "outputs": []
    },
    {
      "cell_type": "code",
      "metadata": {
        "id": "kJTCcd1M9I2O",
        "colab_type": "code",
        "colab": {
          "base_uri": "https://localhost:8080/",
          "height": 425
        },
        "outputId": "22b2048c-825c-47e5-e834-d2043401ae0e"
      },
      "source": [
        "cfm.summary()"
      ],
      "execution_count": null,
      "outputs": [
        {
          "output_type": "stream",
          "text": [
            "Model: \"sequential_1\"\n",
            "_________________________________________________________________\n",
            "Layer (type)                 Output Shape              Param #   \n",
            "=================================================================\n",
            "conv2d_1 (Conv2D)            (None, 28, 28, 6)         456       \n",
            "_________________________________________________________________\n",
            "max_pooling2d_1 (MaxPooling2 (None, 14, 14, 6)         0         \n",
            "_________________________________________________________________\n",
            "conv2d_2 (Conv2D)            (None, 10, 10, 16)        2416      \n",
            "_________________________________________________________________\n",
            "max_pooling2d_2 (MaxPooling2 (None, 5, 5, 16)          0         \n",
            "_________________________________________________________________\n",
            "flatten_1 (Flatten)          (None, 400)               0         \n",
            "_________________________________________________________________\n",
            "dense_1 (Dense)              (None, 120)               48120     \n",
            "_________________________________________________________________\n",
            "dense_2 (Dense)              (None, 84)                10164     \n",
            "_________________________________________________________________\n",
            "dense_3 (Dense)              (None, 10)                850       \n",
            "=================================================================\n",
            "Total params: 62,006\n",
            "Trainable params: 62,006\n",
            "Non-trainable params: 0\n",
            "_________________________________________________________________\n"
          ],
          "name": "stdout"
        }
      ]
    },
    {
      "cell_type": "markdown",
      "metadata": {
        "id": "ISPwrmqlC-ht",
        "colab_type": "text"
      },
      "source": [
        "#Train & Evaluate Model"
      ]
    },
    {
      "cell_type": "code",
      "metadata": {
        "id": "b5cuE9c19M5F",
        "colab_type": "code",
        "colab": {
          "base_uri": "https://localhost:8080/",
          "height": 374
        },
        "outputId": "32d38b98-4b40-4e87-9864-4072b3648266"
      },
      "source": [
        "# fit model\n",
        "history = cfm.fit(trainX, trainY, epochs=10, batch_size=64, validation_data=(testX, testY), verbose=2)"
      ],
      "execution_count": null,
      "outputs": [
        {
          "output_type": "stream",
          "text": [
            "Train on 50000 samples, validate on 10000 samples\n",
            "Epoch 1/10\n",
            " - 9s - loss: 2.1629 - accuracy: 0.1858 - val_loss: 1.9677 - val_accuracy: 0.2744\n",
            "Epoch 2/10\n",
            " - 3s - loss: 1.8587 - accuracy: 0.3223 - val_loss: 1.7191 - val_accuracy: 0.3795\n",
            "Epoch 3/10\n",
            " - 3s - loss: 1.6903 - accuracy: 0.3878 - val_loss: 1.6460 - val_accuracy: 0.3981\n",
            "Epoch 4/10\n",
            " - 3s - loss: 1.5997 - accuracy: 0.4216 - val_loss: 1.5719 - val_accuracy: 0.4346\n",
            "Epoch 5/10\n",
            " - 3s - loss: 1.5353 - accuracy: 0.4452 - val_loss: 1.5066 - val_accuracy: 0.4533\n",
            "Epoch 6/10\n",
            " - 3s - loss: 1.4946 - accuracy: 0.4616 - val_loss: 1.4580 - val_accuracy: 0.4711\n",
            "Epoch 7/10\n",
            " - 3s - loss: 1.4549 - accuracy: 0.4775 - val_loss: 1.4408 - val_accuracy: 0.4758\n",
            "Epoch 8/10\n",
            " - 3s - loss: 1.4239 - accuracy: 0.4890 - val_loss: 1.4380 - val_accuracy: 0.4807\n",
            "Epoch 9/10\n",
            " - 3s - loss: 1.3947 - accuracy: 0.5007 - val_loss: 1.4291 - val_accuracy: 0.4858\n",
            "Epoch 10/10\n",
            " - 3s - loss: 1.3683 - accuracy: 0.5106 - val_loss: 1.3726 - val_accuracy: 0.5109\n"
          ],
          "name": "stdout"
        }
      ]
    },
    {
      "cell_type": "code",
      "metadata": {
        "id": "lsQpdhBZDbJl",
        "colab_type": "code",
        "colab": {
          "base_uri": "https://localhost:8080/",
          "height": 34
        },
        "outputId": "7eaf3326-a4ae-4d78-98f7-6b3f40147186"
      },
      "source": [
        "# evaluate model\n",
        "_, acc = cfm.evaluate(testX, testY, verbose=2)\n",
        "print('Accuracy on test set %.3f' % (acc * 100.0))"
      ],
      "execution_count": null,
      "outputs": [
        {
          "output_type": "stream",
          "text": [
            "Accuracy on test set 51.090\n"
          ],
          "name": "stdout"
        }
      ]
    },
    {
      "cell_type": "code",
      "metadata": {
        "id": "uHA4pYgvcKuE",
        "colab_type": "code",
        "colab": {}
      },
      "source": [
        "# save model\n",
        "cfm.save('final_model.h5')"
      ],
      "execution_count": null,
      "outputs": []
    },
    {
      "cell_type": "markdown",
      "metadata": {
        "id": "m9AQbmDMDDZX",
        "colab_type": "text"
      },
      "source": [
        "#Summarize Results"
      ]
    },
    {
      "cell_type": "code",
      "metadata": {
        "id": "WiLYhJ87DEC5",
        "colab_type": "code",
        "colab": {}
      },
      "source": [
        "def summarize_results(history):\n",
        "  fig, (ax1, ax2) = pyplot.subplots(nrows=2, ncols=1)\n",
        " \n",
        "  ax1.plot(history.history['loss'], color='blue', label='train')\n",
        "  ax1.plot(history.history['val_loss'], color='orange', label='test')\n",
        "  ax1.set_title('Cross Entropy Loss')\n",
        "\n",
        "  ax2.plot(history.history['accuracy'], color='blue', label='train')\n",
        "  ax2.plot(history.history['val_accuracy'], color='orange', label='test')\n",
        "  ax2.set_title('Classification Accuracy')\n",
        "\n",
        "  fig.tight_layout()\n",
        "  pyplot.show()\n",
        "  # save plot to file\n",
        "  filename = sys.argv[0].split('/')[-1]\n",
        "  fig.savefig(filename + '_plot.png')"
      ],
      "execution_count": null,
      "outputs": []
    },
    {
      "cell_type": "code",
      "metadata": {
        "id": "2vgjn8M5FrTT",
        "colab_type": "code",
        "colab": {
          "base_uri": "https://localhost:8080/",
          "height": 297
        },
        "outputId": "b4b4ef85-6173-4faa-e9f2-b1e2528121f9"
      },
      "source": [
        "summarize_results(history)"
      ],
      "execution_count": null,
      "outputs": [
        {
          "output_type": "display_data",
          "data": {
            "image/png": "[encoded data removed]",
            "text/plain": [
              "<Figure size 432x288 with 2 Axes>"
            ]
          },
          "metadata": {
            "tags": [],
            "needs_background": "light"
          }
        }
      ]
    },
    {
      "cell_type": "markdown",
      "metadata": {
        "id": "g0dRURwaXwfN",
        "colab_type": "text"
      },
      "source": [
        "#Predict New Image"
      ]
    },
    {
      "cell_type": "code",
      "metadata": {
        "id": "0sVzpoTeFzjh",
        "colab_type": "code",
        "colab": {}
      },
      "source": [
        "# make a prediction for a new image.\n",
        "from keras.preprocessing.image import load_img\n",
        "from keras.preprocessing.image import img_to_array\n",
        "from keras.models import load_model"
      ],
      "execution_count": null,
      "outputs": []
    },
    {
      "cell_type": "code",
      "metadata": {
        "id": "ryOzf0jVYSRP",
        "colab_type": "code",
        "colab": {}
      },
      "source": [
        "# load and prepare the image\n",
        "def load_image(filename):\n",
        "  # load the image\n",
        "\timg = load_img(filename, target_size=(32, 32))\n",
        "\t# convert to array\n",
        "\timg = img_to_array(img)\n",
        "\t# reshape into a single sample with 3 channels\n",
        "\timg = img.reshape(1, 32, 32, 3)\n",
        "\t# prepare pixel data\n",
        "\timg = img.astype('float32')\n",
        "\timg = img / 255.0\n",
        "\treturn img"
      ],
      "execution_count": null,
      "outputs": []
    },
    {
      "cell_type": "code",
      "metadata": {
        "id": "EAr7F6BUYg6E",
        "colab_type": "code",
        "colab": {
          "base_uri": "https://localhost:8080/",
          "height": 34
        },
        "outputId": "cf0738cf-14c1-4c40-ae89-2e10e1fcd3f9"
      },
      "source": [
        "# load the image\n",
        "img = load_image('frog.png')\n",
        "# load model\n",
        "model = load_model('final_model.h5')\n",
        "# predict the class\n",
        "result = model.predict_classes(img)\n",
        "print(result[0])\n",
        " "
      ],
      "execution_count": null,
      "outputs": [
        {
          "output_type": "stream",
          "text": [
            "3\n"
          ],
          "name": "stdout"
        }
      ]
    },
    {
      "cell_type": "code",
      "metadata": {
        "id": "_3If3BSMZNCz",
        "colab_type": "code",
        "colab": {}
      },
      "source": [
        "y = 2x\n",
        "dy = 2\n",
        "\n",
        "y = 2x + 3m + 4n\n",
        "dy = 2 + 0 + 0"
      ],
      "execution_count": null,
      "outputs": []
    }
  ]
}