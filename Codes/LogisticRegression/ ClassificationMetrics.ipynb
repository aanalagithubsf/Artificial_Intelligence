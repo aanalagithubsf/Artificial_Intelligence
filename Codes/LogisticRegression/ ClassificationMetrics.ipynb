{
 "cells": [
  {
   "cell_type": "markdown",
   "metadata": {},
   "source": [
    "# Classification Accuracy"
   ]
  },
  {
   "cell_type": "markdown",
   "metadata": {},
   "source": [
    "Classification accuracy is the number of correct predictions made as a ratio of all predictions\n",
    "made. "
   ]
  },
  {
   "cell_type": "code",
   "execution_count": 3,
   "metadata": {},
   "outputs": [
    {
     "name": "stdout",
     "output_type": "stream",
     "text": [
      "Accuracy: 0.770 (0.048)\n"
     ]
    },
    {
     "name": "stderr",
     "output_type": "stream",
     "text": [
      "/Library/Frameworks/Python.framework/Versions/3.7/lib/python3.7/site-packages/sklearn/model_selection/_split.py:296: FutureWarning: Setting a random_state has no effect since shuffle is False. This will raise an error in 0.24. You should leave random_state to its default (None), or set shuffle=True.\n",
      "  FutureWarning\n"
     ]
    }
   ],
   "source": [
    "# Cross Validation Classification Accuracy\n",
    "from pandas import read_csv\n",
    "from sklearn.model_selection import KFold\n",
    "from sklearn.model_selection import cross_val_score\n",
    "from sklearn.linear_model import LogisticRegression\n",
    "filename = 'pima-indians-diabetes.csv'\n",
    "dataframe = read_csv(filename)\n",
    "array = dataframe.values\n",
    "X = array[:,0:8]\n",
    "Y = array[:,8]\n",
    "kfold = KFold(n_splits=10, random_state=7)\n",
    "model = LogisticRegression(solver='liblinear')\n",
    "scoring = 'accuracy'\n",
    "results = cross_val_score(model, X, Y, cv=kfold, scoring=scoring)\n",
    "print(\"Accuracy: %.3f (%.3f)\" % (results.mean(), results.std()))"
   ]
  },
  {
   "cell_type": "markdown",
   "metadata": {},
   "source": [
    "# Logistic Loss"
   ]
  },
  {
   "cell_type": "markdown",
   "metadata": {},
   "source": [
    "Logistic loss (or logloss) is a performance metric for evaluating the predictions of probabilities of\n",
    "membership to a given class."
   ]
  },
  {
   "cell_type": "code",
   "execution_count": 4,
   "metadata": {},
   "outputs": [
    {
     "name": "stdout",
     "output_type": "stream",
     "text": [
      "Logloss: -0.493 (0.047)\n"
     ]
    },
    {
     "name": "stderr",
     "output_type": "stream",
     "text": [
      "/Library/Frameworks/Python.framework/Versions/3.7/lib/python3.7/site-packages/sklearn/model_selection/_split.py:296: FutureWarning: Setting a random_state has no effect since shuffle is False. This will raise an error in 0.24. You should leave random_state to its default (None), or set shuffle=True.\n",
      "  FutureWarning\n"
     ]
    }
   ],
   "source": [
    "# Cross Validation Classification Accuracy\n",
    "from pandas import read_csv\n",
    "from sklearn.model_selection import KFold\n",
    "from sklearn.model_selection import cross_val_score\n",
    "from sklearn.linear_model import LogisticRegression\n",
    "filename = 'pima-indians-diabetes.csv'\n",
    "dataframe = read_csv(filename)\n",
    "array = dataframe.values\n",
    "X = array[:,0:8]\n",
    "Y = array[:,8]\n",
    "kfold = KFold(n_splits=10, random_state=7)\n",
    "model = LogisticRegression(solver='liblinear')\n",
    "scoring = 'neg_log_loss'\n",
    "results = cross_val_score(model, X, Y, cv=kfold, scoring=scoring)\n",
    "print(\"Logloss: %.3f (%.3f)\" % (results.mean(), results.std()))"
   ]
  },
  {
   "cell_type": "markdown",
   "metadata": {},
   "source": [
    "# Area Under ROC Curve"
   ]
  },
  {
   "cell_type": "markdown",
   "metadata": {},
   "source": [
    "Area under ROC Curve (or ROC AUC for short) is a performance metric for binary classification\n",
    "problems. An area of 1.0 represents a model that made all predictions perfectly. An area of 0.5\n",
    "represents a model that is as good as random. A ROC Curve is a plot of the true positive rate\n",
    "and the false positive rate for a given set of probability predictions at different thresholds used\n",
    "to map the probabilities to class labels."
   ]
  },
  {
   "cell_type": "code",
   "execution_count": 83,
   "metadata": {},
   "outputs": [
    {
     "name": "stdout",
     "output_type": "stream",
     "text": [
      "AUC: 0.823 (0.041)\n"
     ]
    },
    {
     "name": "stderr",
     "output_type": "stream",
     "text": [
      "/Library/Frameworks/Python.framework/Versions/3.7/lib/python3.7/site-packages/sklearn/model_selection/_split.py:296: FutureWarning: Setting a random_state has no effect since shuffle is False. This will raise an error in 0.24. You should leave random_state to its default (None), or set shuffle=True.\n",
      "  FutureWarning\n"
     ]
    }
   ],
   "source": [
    "# Cross Validation Classification ROC AUC\n",
    "from pandas import read_csv\n",
    "from sklearn.model_selection import KFold\n",
    "from sklearn.model_selection import cross_val_score\n",
    "from sklearn.linear_model import LogisticRegression\n",
    "filename = 'pima-indians-diabetes.csv'\n",
    "dataframe = read_csv(filename)\n",
    "array = dataframe.values\n",
    "X = array[:,0:8]\n",
    "Y = array[:,8]\n",
    "kfold = KFold(n_splits=10, random_state=7)\n",
    "model = LogisticRegression(solver='liblinear')\n",
    "scoring = 'roc_auc'\n",
    "results = cross_val_score(model, X, Y, cv=kfold, scoring=scoring)\n",
    "print(\"AUC: %.3f (%.3f)\" % (results.mean(), results.std()))"
   ]
  },
  {
   "cell_type": "markdown",
   "metadata": {},
   "source": [
    "## AUC ROC more details"
   ]
  },
  {
   "cell_type": "markdown",
   "metadata": {},
   "source": [
    "Assume Test set is composed of 20 patients and 3 of them are positive (infected)."
   ]
  },
  {
   "cell_type": "markdown",
   "metadata": {},
   "source": [
    "<img src=\"https://miro.medium.com/max/1244/1*q954UftijkacI3aIVxbMfQ.png\" />"
   ]
  },
  {
   "cell_type": "markdown",
   "metadata": {},
   "source": [
    "Confusion Matrix for Threshold = 0.7 <br/>\n",
    "<img src=\"https://miro.medium.com/max/1444/1*CZIQOk_W9XkzQjdy_rKMPw.png\" width=300 height=300/>"
   ]
  },
  {
   "cell_type": "code",
   "execution_count": 30,
   "metadata": {},
   "outputs": [
    {
     "name": "stdout",
     "output_type": "stream",
     "text": [
      "At threshold 0.7 TPR is 1.0 , FPR is 0.23529411764705882 \n"
     ]
    }
   ],
   "source": [
    "t_p_r = 3/(3+0)\n",
    "f_p_r = 4/(4+13)\n",
    "print(\"At threshold 0.7 TPR is {} , FPR is {} \".format(t_p_r,f_p_r ))"
   ]
  },
  {
   "cell_type": "markdown",
   "metadata": {},
   "source": [
    "Confusion Matrix for Threshold = 0.85 <br/>\n",
    "<img src=\"https://miro.medium.com/max/1444/1*28O7ooThU-pP9E-LOoPAgg.png\" width=300 height=300/>"
   ]
  },
  {
   "cell_type": "code",
   "execution_count": 31,
   "metadata": {},
   "outputs": [
    {
     "name": "stdout",
     "output_type": "stream",
     "text": [
      "At threshold 0.85 TPR is 0.6666666666666666 , FPR is 0.058823529411764705 \n"
     ]
    }
   ],
   "source": [
    "t_p_r = 2/(2+1)\n",
    "f_p_r = 1/(1+16)\n",
    "print(\"At threshold 0.85 TPR is {} , FPR is {} \".format(t_p_r,f_p_r ))"
   ]
  },
  {
   "cell_type": "markdown",
   "metadata": {},
   "source": [
    "<img src=\"https://miro.medium.com/max/952/1*67UhkuZndjsRdfIEBn7sbA.png\" width=300 height=300 />"
   ]
  },
  {
   "cell_type": "markdown",
   "metadata": {},
   "source": [
    "<img src=\"https://miro.medium.com/max/1242/1*C6JOgPAdJsw2Xu_QUK3pgA.png\" width=500 height=500/>"
   ]
  },
  {
   "cell_type": "code",
   "execution_count": 85,
   "metadata": {},
   "outputs": [
    {
     "name": "stdout",
     "output_type": "stream",
     "text": [
      "Predicted class labels for X_test :  [0. 1. 1. 0. 0. 0. 0. 0. 1. 0. 1. 0. 1. 1. 0. 0. 0. 0. 0. 0. 0. 0. 1. 1.\n",
      " 0. 0. 0. 0. 0. 0. 0. 0. 0. 1. 0. 0. 0. 0. 1. 1. 1. 1. 0. 0. 0. 0. 0. 0.\n",
      " 1. 1. 0. 0. 0. 0. 1. 0. 0. 0. 0. 0. 0. 1. 0. 1. 0. 0. 0. 1. 1. 0. 1. 1.\n",
      " 0. 0. 1. 0. 0. 0. 0. 0. 0. 0. 1. 0. 0. 0. 1. 0. 1. 0. 1. 0. 1. 1. 0. 0.\n",
      " 1. 0. 0. 1. 0. 0. 0. 0. 0. 0. 0. 1. 0. 1. 0. 1. 0. 0. 1. 0. 0. 0. 0. 1.\n",
      " 0. 0. 0. 0. 0. 1. 0. 1. 0. 0. 0. 1. 0. 0. 0. 0. 0. 0. 0. 1. 0. 0. 0. 1.\n",
      " 0. 0. 0. 0. 1. 0. 0. 0. 0. 0. 0. 0. 1. 0. 0. 0. 0. 0. 0. 0. 1. 0. 0. 0.\n",
      " 0. 1. 0. 1. 1. 0. 0. 0. 0. 0. 0. 0. 1. 0. 0. 0. 0. 0. 0. 0. 0. 1. 0. 0.\n",
      " 1. 1. 0. 0. 1. 0. 0. 1. 0. 0. 1. 1. 0. 0. 0. 0. 0. 0. 1. 1. 0. 0. 0. 0.\n",
      " 1. 1. 0. 0. 0. 1. 1. 0. 0. 1. 0. 0. 1. 0. 0. 1. 0. 0. 0. 0. 0. 1. 1. 0.\n",
      " 1. 1. 0. 0. 1. 0. 0. 0. 0. 0. 0. 1. 1. 1.]\n",
      "Predicted probability estimates for X_test [[0.86999794 0.13000206]\n",
      " [0.21563825 0.78436175]\n",
      " [0.30555266 0.69444734]\n",
      " [0.75432099 0.24567901]\n",
      " [0.61546294 0.38453706]\n",
      " [0.51768513 0.48231487]\n",
      " [0.88989039 0.11010961]\n",
      " [0.62665822 0.37334178]\n",
      " [0.12447168 0.87552832]\n",
      " [0.79975558 0.20024442]\n",
      " [0.14138361 0.85861639]\n",
      " [0.87988237 0.12011763]\n",
      " [0.40833376 0.59166624]\n",
      " [0.24353482 0.75646518]\n",
      " [0.54494226 0.45505774]\n",
      " [0.80001162 0.19998838]\n",
      " [0.73193507 0.26806493]\n",
      " [0.79476891 0.20523109]\n",
      " [0.77355244 0.22644756]\n",
      " [0.80147757 0.19852243]\n",
      " [0.59864374 0.40135626]\n",
      " [0.71518817 0.28481183]\n",
      " [0.28162188 0.71837812]\n",
      " [0.39383572 0.60616428]\n",
      " [0.73776882 0.26223118]\n",
      " [0.7450698  0.2549302 ]\n",
      " [0.85910329 0.14089671]\n",
      " [0.56725134 0.43274866]\n",
      " [0.69022607 0.30977393]\n",
      " [0.65947903 0.34052097]\n",
      " [0.54492427 0.45507573]\n",
      " [0.67335108 0.32664892]\n",
      " [0.82379374 0.17620626]\n",
      " [0.34406186 0.65593814]\n",
      " [0.93461189 0.06538811]\n",
      " [0.81910036 0.18089964]\n",
      " [0.69162884 0.30837116]\n",
      " [0.80846665 0.19153335]\n",
      " [0.36387681 0.63612319]\n",
      " [0.33632407 0.66367593]\n",
      " [0.38169123 0.61830877]\n",
      " [0.45812769 0.54187231]\n",
      " [0.7311382  0.2688618 ]\n",
      " [0.92716173 0.07283827]\n",
      " [0.72422132 0.27577868]\n",
      " [0.82937775 0.17062225]\n",
      " [0.51746759 0.48253241]\n",
      " [0.69548326 0.30451674]\n",
      " [0.45572342 0.54427658]\n",
      " [0.11582862 0.88417138]\n",
      " [0.61055876 0.38944124]\n",
      " [0.8163227  0.1836773 ]\n",
      " [0.61191651 0.38808349]\n",
      " [0.84853119 0.15146881]\n",
      " [0.47938562 0.52061438]\n",
      " [0.67422081 0.32577919]\n",
      " [0.74197828 0.25802172]\n",
      " [0.85529448 0.14470552]\n",
      " [0.86246477 0.13753523]\n",
      " [0.66981227 0.33018773]\n",
      " [0.8253244  0.1746756 ]\n",
      " [0.24300529 0.75699471]\n",
      " [0.90358479 0.09641521]\n",
      " [0.43150187 0.56849813]\n",
      " [0.5904823  0.4095177 ]\n",
      " [0.50179073 0.49820927]\n",
      " [0.6979135  0.3020865 ]\n",
      " [0.45551045 0.54448955]\n",
      " [0.21484431 0.78515569]\n",
      " [0.58677964 0.41322036]\n",
      " [0.13465025 0.86534975]\n",
      " [0.32332754 0.67667246]\n",
      " [0.77422225 0.22577775]\n",
      " [0.7113339  0.2886661 ]\n",
      " [0.39409337 0.60590663]\n",
      " [0.66339776 0.33660224]\n",
      " [0.7089751  0.2910249 ]\n",
      " [0.84081004 0.15918996]\n",
      " [0.91826961 0.08173039]\n",
      " [0.84025796 0.15974204]\n",
      " [0.84646338 0.15353662]\n",
      " [0.59246714 0.40753286]\n",
      " [0.47157211 0.52842789]\n",
      " [0.75666358 0.24333642]\n",
      " [0.71874129 0.28125871]\n",
      " [0.78832383 0.21167617]\n",
      " [0.09592264 0.90407736]\n",
      " [0.92120825 0.07879175]\n",
      " [0.31194926 0.68805074]\n",
      " [0.79607819 0.20392181]\n",
      " [0.22324437 0.77675563]\n",
      " [0.74034522 0.25965478]\n",
      " [0.48734331 0.51265669]\n",
      " [0.42903458 0.57096542]\n",
      " [0.62168966 0.37831034]\n",
      " [0.63306887 0.36693113]\n",
      " [0.41094228 0.58905772]\n",
      " [0.92418698 0.07581302]\n",
      " [0.56732961 0.43267039]\n",
      " [0.46585958 0.53414042]\n",
      " [0.64014613 0.35985387]\n",
      " [0.73993191 0.26006809]\n",
      " [0.77477014 0.22522986]\n",
      " [0.68418544 0.31581456]\n",
      " [0.81965723 0.18034277]\n",
      " [0.66532246 0.33467754]\n",
      " [0.87295496 0.12704504]\n",
      " [0.48319601 0.51680399]\n",
      " [0.65772605 0.34227395]\n",
      " [0.27712371 0.72287629]\n",
      " [0.86416775 0.13583225]\n",
      " [0.27318762 0.72681238]\n",
      " [0.6695805  0.3304195 ]\n",
      " [0.84224711 0.15775289]\n",
      " [0.34663938 0.65336062]\n",
      " [0.66403909 0.33596091]\n",
      " [0.85910499 0.14089501]\n",
      " [0.76736868 0.23263132]\n",
      " [0.54556146 0.45443854]\n",
      " [0.46363203 0.53636797]\n",
      " [0.81474196 0.18525804]\n",
      " [0.91974536 0.08025464]\n",
      " [0.74455983 0.25544017]\n",
      " [0.88389882 0.11610118]\n",
      " [0.91584797 0.08415203]\n",
      " [0.212383   0.787617  ]\n",
      " [0.93215114 0.06784886]\n",
      " [0.49139652 0.50860348]\n",
      " [0.76554269 0.23445731]\n",
      " [0.74346096 0.25653904]\n",
      " [0.87967838 0.12032162]\n",
      " [0.05966985 0.94033015]\n",
      " [0.90897147 0.09102853]\n",
      " [0.84199347 0.15800653]\n",
      " [0.8045065  0.1954935 ]\n",
      " [0.89192641 0.10807359]\n",
      " [0.88835322 0.11164678]\n",
      " [0.54138493 0.45861507]\n",
      " [0.90210834 0.09789166]\n",
      " [0.05538909 0.94461091]\n",
      " [0.68618563 0.31381437]\n",
      " [0.67382848 0.32617152]\n",
      " [0.65262509 0.34737491]\n",
      " [0.41471517 0.58528483]\n",
      " [0.66706715 0.33293285]\n",
      " [0.67456951 0.32543049]\n",
      " [0.64611141 0.35388859]\n",
      " [0.92171352 0.07828648]\n",
      " [0.11805967 0.88194033]\n",
      " [0.52281826 0.47718174]\n",
      " [0.82198094 0.17801906]\n",
      " [0.5696393  0.4303607 ]\n",
      " [0.73355704 0.26644296]\n",
      " [0.86139291 0.13860709]\n",
      " [0.70557758 0.29442242]\n",
      " [0.80239608 0.19760392]\n",
      " [0.39127844 0.60872156]\n",
      " [0.80015993 0.19984007]\n",
      " [0.6363411  0.3636589 ]\n",
      " [0.87789553 0.12210447]\n",
      " [0.60417971 0.39582029]\n",
      " [0.76114045 0.23885955]\n",
      " [0.73494705 0.26505295]\n",
      " [0.92301183 0.07698817]\n",
      " [0.30456276 0.69543724]\n",
      " [0.7058349  0.2941651 ]\n",
      " [0.55046298 0.44953702]\n",
      " [0.85190899 0.14809101]\n",
      " [0.67444514 0.32555486]\n",
      " [0.16250102 0.83749898]\n",
      " [0.80930217 0.19069783]\n",
      " [0.20717692 0.79282308]\n",
      " [0.23347567 0.76652433]\n",
      " [0.67522856 0.32477144]\n",
      " [0.60215289 0.39784711]\n",
      " [0.52337968 0.47662032]\n",
      " [0.54710526 0.45289474]\n",
      " [0.57420266 0.42579734]\n",
      " [0.56300719 0.43699281]\n",
      " [0.54985348 0.45014652]\n",
      " [0.49657552 0.50342448]\n",
      " [0.83000096 0.16999904]\n",
      " [0.82584966 0.17415034]\n",
      " [0.86473642 0.13526358]\n",
      " [0.68308195 0.31691805]\n",
      " [0.71498481 0.28501519]\n",
      " [0.8624722  0.1375278 ]\n",
      " [0.93231121 0.06768879]\n",
      " [0.89108826 0.10891174]\n",
      " [0.1944176  0.8055824 ]\n",
      " [0.54038947 0.45961053]\n",
      " [0.61146807 0.38853193]\n",
      " [0.12468755 0.87531245]\n",
      " [0.2860145  0.7139855 ]\n",
      " [0.53269392 0.46730608]\n",
      " [0.66049529 0.33950471]\n",
      " [0.37802559 0.62197441]\n",
      " [0.9393606  0.0606394 ]\n",
      " [0.91559561 0.08440439]\n",
      " [0.45152119 0.54847881]\n",
      " [0.50201695 0.49798305]\n",
      " [0.50045847 0.49954153]\n",
      " [0.17285784 0.82714216]\n",
      " [0.31143083 0.68856917]\n",
      " [0.59159989 0.40840011]\n",
      " [0.84185016 0.15814984]\n",
      " [0.54297992 0.45702008]\n",
      " [0.8852844  0.1147156 ]\n",
      " [0.78210178 0.21789822]\n",
      " [0.93227328 0.06772672]\n",
      " [0.37210552 0.62789448]\n",
      " [0.29807962 0.70192038]\n",
      " [0.87817035 0.12182965]\n",
      " [0.60411646 0.39588354]\n",
      " [0.60132839 0.39867161]\n",
      " [0.88156772 0.11843228]\n",
      " [0.394467   0.605533  ]\n",
      " [0.04198675 0.95801325]\n",
      " [0.90366921 0.09633079]\n",
      " [0.5577863  0.4422137 ]\n",
      " [0.93309776 0.06690224]\n",
      " [0.42236901 0.57763099]\n",
      " [0.43797293 0.56202707]\n",
      " [0.70385636 0.29614364]\n",
      " [0.721577   0.278423  ]\n",
      " [0.39736153 0.60263847]\n",
      " [0.67580976 0.32419024]\n",
      " [0.6987942  0.3012058 ]\n",
      " [0.22733914 0.77266086]\n",
      " [0.82426774 0.17573226]\n",
      " [0.83236061 0.16763939]\n",
      " [0.27371778 0.72628222]\n",
      " [0.55215296 0.44784704]\n",
      " [0.80026395 0.19973605]\n",
      " [0.79502364 0.20497636]\n",
      " [0.7532998  0.2467002 ]\n",
      " [0.91517438 0.08482562]\n",
      " [0.26200922 0.73799078]\n",
      " [0.35545891 0.64454109]\n",
      " [0.6763594  0.3236406 ]\n",
      " [0.48999762 0.51000238]\n",
      " [0.45393655 0.54606345]\n",
      " [0.71871455 0.28128545]\n",
      " [0.88396091 0.11603909]\n",
      " [0.22848899 0.77151101]\n",
      " [0.86686374 0.13313626]\n",
      " [0.76018384 0.23981616]\n",
      " [0.75518932 0.24481068]\n",
      " [0.60542594 0.39457406]\n",
      " [0.89482752 0.10517248]\n",
      " [0.92285245 0.07714755]\n",
      " [0.43741203 0.56258797]\n",
      " [0.25659057 0.74340943]\n",
      " [0.25641004 0.74358996]]\n"
     ]
    }
   ],
   "source": [
    "from sklearn.metrics import roc_curve, auc\n",
    "test_size = 0.33\n",
    "seed = 7\n",
    "X_train, X_test, Y_train, Y_test = train_test_split(X, Y, test_size=test_size,\n",
    "random_state=seed)\n",
    "model = LogisticRegression(solver='liblinear')\n",
    "model.fit(X_train, Y_train)\n",
    "predicted = model.predict(X_test)\n",
    "predicted_prob = model.predict_proba(X_test)\n",
    "print('Predicted class labels for X_test : ', predicted)\n",
    "print('Predicted probability estimates for X_test', predicted_prob)"
   ]
  },
  {
   "cell_type": "markdown",
   "metadata": {},
   "source": [
    "https://scikit-learn.org/stable/modules/generated/sklearn.linear_model.LogisticRegression.html"
   ]
  },
  {
   "cell_type": "code",
   "execution_count": 86,
   "metadata": {},
   "outputs": [
    {
     "name": "stdout",
     "output_type": "stream",
     "text": [
      "At Threshold 1.9580132544225146 , the FPR is 0.0 , the TPR is 0.0\n",
      "At Threshold 0.9580132544225146 , the FPR is 0.0 , the TPR is 0.010869565217391304\n",
      "At Threshold 0.9446109118013928 , the FPR is 0.006172839506172839 , the TPR is 0.010869565217391304\n",
      "At Threshold 0.8819403342645245 , the FPR is 0.006172839506172839 , the TPR is 0.05434782608695652\n",
      "At Threshold 0.8755283164718938 , the FPR is 0.012345679012345678 , the TPR is 0.05434782608695652\n",
      "At Threshold 0.8374989753559373 , the FPR is 0.012345679012345678 , the TPR is 0.09782608695652174\n",
      "At Threshold 0.8055824002799625 , the FPR is 0.024691358024691357 , the TPR is 0.09782608695652174\n",
      "At Threshold 0.7434094254822409 , the FPR is 0.024691358024691357 , the TPR is 0.22826086956521738\n",
      "At Threshold 0.7379907807118861 , the FPR is 0.030864197530864196 , the TPR is 0.22826086956521738\n",
      "At Threshold 0.6944473365521046 , the FPR is 0.030864197530864196 , the TPR is 0.31521739130434784\n",
      "At Threshold 0.6880507360493135 , the FPR is 0.043209876543209874 , the TPR is 0.31521739130434784\n",
      "At Threshold 0.6533606216528685 , the FPR is 0.043209876543209874 , the TPR is 0.358695652173913\n",
      "At Threshold 0.644541090891418 , the FPR is 0.04938271604938271 , the TPR is 0.358695652173913\n",
      "At Threshold 0.627894477515835 , the FPR is 0.04938271604938271 , the TPR is 0.3804347826086957\n",
      "At Threshold 0.6219744063958198 , the FPR is 0.05555555555555555 , the TPR is 0.3804347826086957\n",
      "At Threshold 0.6061642771035546 , the FPR is 0.05555555555555555 , the TPR is 0.41304347826086957\n",
      "At Threshold 0.5916662401029373 , the FPR is 0.08024691358024691 , the TPR is 0.41304347826086957\n",
      "At Threshold 0.5852848296693356 , the FPR is 0.08024691358024691 , the TPR is 0.43478260869565216\n",
      "At Threshold 0.5709654249615118 , the FPR is 0.09259259259259259 , the TPR is 0.43478260869565216\n",
      "At Threshold 0.5684981308637768 , the FPR is 0.09259259259259259 , the TPR is 0.44565217391304346\n",
      "At Threshold 0.5625879737898597 , the FPR is 0.09876543209876543 , the TPR is 0.44565217391304346\n",
      "At Threshold 0.5363679657213545 , the FPR is 0.09876543209876543 , the TPR is 0.5217391304347826\n",
      "At Threshold 0.528427888773229 , the FPR is 0.1111111111111111 , the TPR is 0.5217391304347826\n",
      "At Threshold 0.5206143786785885 , the FPR is 0.1111111111111111 , the TPR is 0.532608695652174\n",
      "At Threshold 0.5168039945384547 , the FPR is 0.11728395061728394 , the TPR is 0.532608695652174\n",
      "At Threshold 0.5100023761324582 , the FPR is 0.11728395061728394 , the TPR is 0.5543478260869565\n",
      "At Threshold 0.5034244832078326 , the FPR is 0.12962962962962962 , the TPR is 0.5543478260869565\n",
      "At Threshold 0.4982092657423891 , the FPR is 0.12962962962962962 , the TPR is 0.5760869565217391\n",
      "At Threshold 0.49798305401662313 , the FPR is 0.13580246913580246 , the TPR is 0.5760869565217391\n",
      "At Threshold 0.4823148684473417 , the FPR is 0.13580246913580246 , the TPR is 0.5978260869565217\n",
      "At Threshold 0.459610533795703 , the FPR is 0.16049382716049382 , the TPR is 0.5978260869565217\n",
      "At Threshold 0.45861507490014514 , the FPR is 0.16049382716049382 , the TPR is 0.6086956521739131\n",
      "At Threshold 0.45505774050514347 , the FPR is 0.17901234567901234 , the TPR is 0.6086956521739131\n",
      "At Threshold 0.45443853598440226 , the FPR is 0.17901234567901234 , the TPR is 0.6195652173913043\n",
      "At Threshold 0.44784703774116363 , the FPR is 0.2037037037037037 , the TPR is 0.6195652173913043\n",
      "At Threshold 0.4369928074389272 , the FPR is 0.2037037037037037 , the TPR is 0.6413043478260869\n",
      "At Threshold 0.43267038570346134 , the FPR is 0.21604938271604937 , the TPR is 0.6413043478260869\n",
      "At Threshold 0.4084001132531288 , the FPR is 0.21604938271604937 , the TPR is 0.6956521739130435\n",
      "At Threshold 0.4013562604317321 , the FPR is 0.22839506172839505 , the TPR is 0.6956521739130435\n",
      "At Threshold 0.39784711166571407 , the FPR is 0.22839506172839505 , the TPR is 0.717391304347826\n",
      "At Threshold 0.3958835429987942 , the FPR is 0.2345679012345679 , the TPR is 0.717391304347826\n",
      "At Threshold 0.39582028596960894 , the FPR is 0.2345679012345679 , the TPR is 0.7282608695652174\n",
      "At Threshold 0.38808348541832094 , the FPR is 0.25925925925925924 , the TPR is 0.7282608695652174\n",
      "At Threshold 0.3845370640617827 , the FPR is 0.25925925925925924 , the TPR is 0.7391304347826086\n",
      "At Threshold 0.3783103396138868 , the FPR is 0.2654320987654321 , the TPR is 0.7391304347826086\n",
      "At Threshold 0.35985386970661937 , the FPR is 0.2654320987654321 , the TPR is 0.782608695652174\n",
      "At Threshold 0.3538885854975088 , the FPR is 0.2716049382716049 , the TPR is 0.782608695652174\n",
      "At Threshold 0.3473749122143176 , the FPR is 0.2716049382716049 , the TPR is 0.7934782608695652\n",
      "At Threshold 0.3359609120714688 , the FPR is 0.30246913580246915 , the TPR is 0.7934782608695652\n",
      "At Threshold 0.33467754200757466 , the FPR is 0.30246913580246915 , the TPR is 0.8043478260869565\n",
      "At Threshold 0.3329328496163314 , the FPR is 0.30864197530864196 , the TPR is 0.8043478260869565\n",
      "At Threshold 0.3301877342218061 , the FPR is 0.30864197530864196 , the TPR is 0.8260869565217391\n",
      "At Threshold 0.32477143757453586 , the FPR is 0.345679012345679 , the TPR is 0.8260869565217391\n",
      "At Threshold 0.32419024303883726 , the FPR is 0.345679012345679 , the TPR is 0.8369565217391305\n",
      "At Threshold 0.323640600647268 , the FPR is 0.35185185185185186 , the TPR is 0.8369565217391305\n",
      "At Threshold 0.31691805354194513 , the FPR is 0.35185185185185186 , the TPR is 0.8478260869565217\n",
      "At Threshold 0.3138143749459505 , the FPR is 0.36419753086419754 , the TPR is 0.8478260869565217\n",
      "At Threshold 0.3045167418427793 , the FPR is 0.36419753086419754 , the TPR is 0.8804347826086957\n",
      "At Threshold 0.28125870710153705 , the FPR is 0.43209876543209874 , the TPR is 0.8804347826086957\n",
      "At Threshold 0.27842299956551747 , the FPR is 0.43209876543209874 , the TPR is 0.8913043478260869\n",
      "At Threshold 0.2680649254890019 , the FPR is 0.4506172839506173 , the TPR is 0.8913043478260869\n",
      "At Threshold 0.26644295985104477 , the FPR is 0.4506172839506173 , the TPR is 0.9021739130434783\n",
      "At Threshold 0.2580217160571813 , the FPR is 0.48148148148148145 , the TPR is 0.9021739130434783\n",
      "At Threshold 0.25653903501809194 , the FPR is 0.48148148148148145 , the TPR is 0.9130434782608695\n",
      "At Threshold 0.2549302027173074 , the FPR is 0.49382716049382713 , the TPR is 0.9130434782608695\n",
      "At Threshold 0.24670020236753903 , the FPR is 0.49382716049382713 , the TPR is 0.9239130434782609\n",
      "At Threshold 0.24333641788974883 , the FPR is 0.5123456790123457 , the TPR is 0.9239130434782609\n",
      "At Threshold 0.23981616361024705 , the FPR is 0.5123456790123457 , the TPR is 0.9347826086956522\n",
      "At Threshold 0.21789822119133628 , the FPR is 0.5555555555555556 , the TPR is 0.9347826086956522\n",
      "At Threshold 0.21167617121959995 , the FPR is 0.5555555555555556 , the TPR is 0.9456521739130435\n",
      "At Threshold 0.19998837522623156 , the FPR is 0.5864197530864198 , the TPR is 0.9456521739130435\n",
      "At Threshold 0.1998400727215092 , the FPR is 0.5864197530864198 , the TPR is 0.9565217391304348\n",
      "At Threshold 0.19852242713514312 , the FPR is 0.5987654320987654 , the TPR is 0.9565217391304348\n",
      "At Threshold 0.19549349514961556 , the FPR is 0.5987654320987654 , the TPR is 0.9782608695652174\n",
      "At Threshold 0.11471559698143848 , the FPR is 0.8518518518518519 , the TPR is 0.9782608695652174\n",
      "At Threshold 0.11164678094820096 , the FPR is 0.8518518518518519 , the TPR is 0.9891304347826086\n",
      "At Threshold 0.08025464354012708 , the FPR is 0.9320987654320988 , the TPR is 0.9891304347826086\n",
      "At Threshold 0.07879174637652658 , the FPR is 0.9320987654320988 , the TPR is 1.0\n",
      "At Threshold 0.06063939919921725 , the FPR is 1.0 , the TPR is 1.0\n",
      "Area under the ROC curve : 0.824007\n"
     ]
    }
   ],
   "source": [
    "# Compute ROC curve and area the curve for logistic\n",
    "fpr, tpr, thresholds = roc_curve(Y_test, predicted_prob[:, 1])\n",
    "for i in range(0,len(thresholds)):\n",
    "    print('At Threshold {} , the FPR is {} , the TPR is {}'.format(thresholds[i],fpr[i],tpr[i]))\n",
    "roc_auc = auc(fpr, tpr)\n",
    "print(\"Area under the ROC curve : %f\" % roc_auc)"
   ]
  },
  {
   "cell_type": "code",
   "execution_count": 89,
   "metadata": {},
   "outputs": [
    {
     "data": {
      "text/plain": [
       "79"
      ]
     },
     "execution_count": 89,
     "metadata": {},
     "output_type": "execute_result"
    }
   ],
   "source": [
    "len(tpr)"
   ]
  },
  {
   "cell_type": "code",
   "execution_count": 91,
   "metadata": {},
   "outputs": [
    {
     "data": {
      "text/plain": [
       "0.07879174637652658"
      ]
     },
     "execution_count": 91,
     "metadata": {},
     "output_type": "execute_result"
    }
   ],
   "source": [
    "thresholds[77]"
   ]
  },
  {
   "cell_type": "code",
   "execution_count": 36,
   "metadata": {},
   "outputs": [
    {
     "data": {
      "image/png": "[encoded data removed]",
      "text/plain": [
       "<Figure size 432x288 with 1 Axes>"
      ]
     },
     "metadata": {},
     "output_type": "display_data"
    }
   ],
   "source": [
    "# Plot ROC curve\n",
    "import matplotlib.pyplot as pl\n",
    "pl.clf()\n",
    "pl.plot(fpr, tpr, label='ROC curve for logistic (area = %0.2f)' % roc_auc)\n",
    "pl.plot([0, 1], [0, 1], 'k--')\n",
    "pl.xlim([0.0, 1.0])\n",
    "pl.ylim([0.0, 1.0])\n",
    "pl.xlabel('False Positive Rate')\n",
    "pl.ylabel('True Positive Rate')\n",
    "pl.title('Receiver Operating Characteristic curve example')\n",
    "pl.legend(loc=\"lower right\")\n",
    "pl.show()"
   ]
  },
  {
   "cell_type": "code",
   "execution_count": 37,
   "metadata": {},
   "outputs": [
    {
     "data": {
      "image/png": "[encoded data removed]",
      "text/plain": [
       "<Figure size 432x288 with 1 Axes>"
      ]
     },
     "metadata": {},
     "output_type": "display_data"
    }
   ],
   "source": [
    "import matplotlib.pyplot as plt  # doctest: +SKIP\n",
    "from sklearn import datasets, metrics, model_selection, svm\n",
    "\n",
    "metrics.plot_roc_curve(model, X_test, Y_test)  # doctest: +SKIP\n",
    "plt.show() "
   ]
  },
  {
   "cell_type": "markdown",
   "metadata": {},
   "source": [
    "# Confusion Matrix"
   ]
  },
  {
   "cell_type": "code",
   "execution_count": 82,
   "metadata": {},
   "outputs": [
    {
     "name": "stdout",
     "output_type": "stream",
     "text": [
      "Shape of total features :  (768, 8)\n",
      "Shape of total targets :  (768,)\n",
      "Shape of train features :  (614, 8)\n",
      "Shape of train target :  (614,)\n",
      "Shape of test features :  (154, 8)\n",
      "Shape of test target :  (154,)\n",
      "[[93 10]\n",
      " [20 31]]\n"
     ]
    }
   ],
   "source": [
    "# Cross Validation Classification Confusion Matrix\n",
    "from pandas import read_csv\n",
    "from sklearn.model_selection import train_test_split\n",
    "from sklearn.linear_model import LogisticRegression\n",
    "from sklearn.metrics import confusion_matrix,plot_confusion_matrix\n",
    "filename = 'pima-indians-diabetes.csv'\n",
    "dataframe = read_csv(filename)\n",
    "array = dataframe.values\n",
    "X = array[:,0:8]\n",
    "Y = array[:,8]\n",
    "test_size = 0.2\n",
    "seed = 6\n",
    "print('Shape of total features : ', X.shape)\n",
    "print('Shape of total targets : ', Y.shape)\n",
    "X_train, X_test, Y_train, Y_test = train_test_split(X, Y, test_size=test_size,\n",
    "random_state=seed)\n",
    "print('Shape of train features : ', X_train.shape)\n",
    "print('Shape of train target : ', Y_train.shape)\n",
    "print('Shape of test features : ', X_test.shape)\n",
    "print('Shape of test target : ', Y_test.shape)\n",
    "model = LogisticRegression(solver='liblinear')\n",
    "model.fit(X_train, Y_train)\n",
    "predicted = model.predict(X_test)\n",
    "matrix = confusion_matrix(Y_test, predicted)\n",
    "print(matrix)"
   ]
  },
  {
   "cell_type": "code",
   "execution_count": 42,
   "metadata": {},
   "outputs": [
    {
     "data": {
      "text/plain": [
       "<sklearn.metrics._plot.confusion_matrix.ConfusionMatrixDisplay at 0x1112c1f98>"
      ]
     },
     "execution_count": 42,
     "metadata": {},
     "output_type": "execute_result"
    },
    {
     "data": {
      "image/png": "[encoded data removed]",
      "text/plain": [
       "<Figure size 432x288 with 2 Axes>"
      ]
     },
     "metadata": {},
     "output_type": "display_data"
    }
   ],
   "source": [
    "plot_confusion_matrix(model, X_test, Y_test)"
   ]
  },
  {
   "cell_type": "markdown",
   "metadata": {},
   "source": [
    "you can see that the majority of the\n",
    "predictions fall on the diagonal line of the matrix (which are correct predictions)."
   ]
  },
  {
   "cell_type": "markdown",
   "metadata": {},
   "source": [
    "# Classification Report"
   ]
  },
  {
   "cell_type": "code",
   "execution_count": 92,
   "metadata": {},
   "outputs": [
    {
     "name": "stdout",
     "output_type": "stream",
     "text": [
      "              precision    recall  f1-score   support\n",
      "\n",
      "         0.0       0.77      0.87      0.82       162\n",
      "         1.0       0.71      0.55      0.62        92\n",
      "\n",
      "    accuracy                           0.76       254\n",
      "   macro avg       0.74      0.71      0.72       254\n",
      "weighted avg       0.75      0.76      0.75       254\n",
      "\n"
     ]
    }
   ],
   "source": [
    "# Cross Validation Classification Report\n",
    "from pandas import read_csv\n",
    "from sklearn.model_selection import train_test_split\n",
    "from sklearn.linear_model import LogisticRegression\n",
    "from sklearn.metrics import classification_report\n",
    "filename = 'pima-indians-diabetes.csv'\n",
    "dataframe = read_csv(filename)\n",
    "array = dataframe.values\n",
    "X = array[:,0:8]\n",
    "Y = array[:,8]\n",
    "test_size = 0.33\n",
    "seed = 7\n",
    "X_train, X_test, Y_train, Y_test = train_test_split(X, Y, test_size=test_size,\n",
    "random_state=seed)\n",
    "model = LogisticRegression(solver='liblinear')\n",
    "model.fit(X_train, Y_train)\n",
    "predicted = model.predict(X_test)\n",
    "report = classification_report(Y_test, predicted)\n",
    "print(report)"
   ]
  },
  {
   "cell_type": "code",
   "execution_count": 100,
   "metadata": {},
   "outputs": [
    {
     "name": "stdout",
     "output_type": "stream",
     "text": [
      "[[141  21]\n",
      " [ 41  51]]\n"
     ]
    }
   ],
   "source": [
    "matrix = confusion_matrix(Y_test, predicted)\n",
    "print(matrix)"
   ]
  },
  {
   "cell_type": "code",
   "execution_count": 94,
   "metadata": {},
   "outputs": [
    {
     "data": {
      "text/plain": [
       "0.7747252747252747"
      ]
     },
     "execution_count": 94,
     "metadata": {},
     "output_type": "execute_result"
    }
   ],
   "source": [
    "# precision\n",
    "141/(141 + 41)"
   ]
  },
  {
   "cell_type": "code",
   "execution_count": 95,
   "metadata": {},
   "outputs": [
    {
     "data": {
      "text/plain": [
       "0.8703703703703703"
      ]
     },
     "execution_count": 95,
     "metadata": {},
     "output_type": "execute_result"
    }
   ],
   "source": [
    "# recall\n",
    "141/(141 + 21)"
   ]
  },
  {
   "cell_type": "code",
   "execution_count": 97,
   "metadata": {},
   "outputs": [
    {
     "data": {
      "text/plain": [
       "0.8169512195121951"
      ]
     },
     "execution_count": 97,
     "metadata": {},
     "output_type": "execute_result"
    }
   ],
   "source": [
    "2*(0.87 * 0.77)/(0.87 + 0.77)"
   ]
  },
  {
   "cell_type": "code",
   "execution_count": 123,
   "metadata": {},
   "outputs": [
    {
     "data": {
      "text/plain": [
       "array([[141,  21],\n",
       "       [ 41,  51]])"
      ]
     },
     "execution_count": 123,
     "metadata": {},
     "output_type": "execute_result"
    }
   ],
   "source": [
    "matrix.transpose(0,1).transpose(0,1)"
   ]
  },
  {
   "cell_type": "code",
   "execution_count": 168,
   "metadata": {},
   "outputs": [
    {
     "data": {
      "text/plain": [
       "array([[ 51,  41],\n",
       "       [ 21, 141]])"
      ]
     },
     "execution_count": 168,
     "metadata": {},
     "output_type": "execute_result"
    }
   ],
   "source": [
    "rev_matrix = []\n",
    "for i in reversed(matrix):\n",
    "    rev_matrix.append(i[: :-1])\n",
    "rev_matrix = np.array(rev_matrix)\n",
    "rev_matrix"
   ]
  },
  {
   "cell_type": "code",
   "execution_count": 98,
   "metadata": {},
   "outputs": [
    {
     "data": {
      "text/plain": [
       "0.7083333333333334"
      ]
     },
     "execution_count": 98,
     "metadata": {},
     "output_type": "execute_result"
    }
   ],
   "source": [
    "# precision\n",
    "51/(51 + 21)"
   ]
  },
  {
   "cell_type": "code",
   "execution_count": 105,
   "metadata": {},
   "outputs": [
    {
     "data": {
      "text/plain": [
       "0.5543478260869565"
      ]
     },
     "execution_count": 105,
     "metadata": {},
     "output_type": "execute_result"
    }
   ],
   "source": [
    "# recall\n",
    "51/(51 + 41)"
   ]
  },
  {
   "cell_type": "code",
   "execution_count": null,
   "metadata": {},
   "outputs": [],
   "source": [
    "y = B0 + B1*x1 + B2*x2 + B3*x3 + ...... + Bn*xn"
   ]
  }
 ],
 "metadata": {
  "kernelspec": {
   "display_name": "Python 3",
   "language": "python",
   "name": "python3"
  },
  "language_info": {
   "codemirror_mode": {
    "name": "ipython",
    "version": 3
   },
   "file_extension": ".py",
   "mimetype": "text/x-python",
   "name": "python",
   "nbconvert_exporter": "python",
   "pygments_lexer": "ipython3",
   "version": "3.7.0"
  },
  "toc": {
   "base_numbering": 1,
   "nav_menu": {},
   "number_sections": true,
   "sideBar": true,
   "skip_h1_title": false,
   "title_cell": "Table of Contents",
   "title_sidebar": "Contents",
   "toc_cell": false,
   "toc_position": {},
   "toc_section_display": true,
   "toc_window_display": true
  },
  "varInspector": {
   "cols": {
    "lenName": 16,
    "lenType": 16,
    "lenVar": 40
   },
   "kernels_config": {
    "python": {
     "delete_cmd_postfix": "",
     "delete_cmd_prefix": "del ",
     "library": "var_list.py",
     "varRefreshCmd": "print(var_dic_list())"
    },
    "r": {
     "delete_cmd_postfix": ") ",
     "delete_cmd_prefix": "rm(",
     "library": "var_list.r",
     "varRefreshCmd": "cat(var_dic_list()) "
    }
   },
   "types_to_exclude": [
    "module",
    "function",
    "builtin_function_or_method",
    "instance",
    "_Feature"
   ],
   "window_display": false
  }
 },
 "nbformat": 4,
 "nbformat_minor": 2
}
